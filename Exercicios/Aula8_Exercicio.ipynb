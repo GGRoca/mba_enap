{
  "cells": [
    {
      "cell_type": "markdown",
      "metadata": {
        "id": "view-in-github",
        "colab_type": "text"
      },
      "source": [
        "<a href=\"https://colab.research.google.com/github/alexlopespereira/mba_enap/blob/main/Exercicios/Aula8_Exercicio.ipynb\" target=\"_parent\"><img src=\"https://colab.research.google.com/assets/colab-badge.svg\" alt=\"Open In Colab\"/></a>"
      ]
    },
    {
      "cell_type": "markdown",
      "metadata": {
        "id": "dyrfGARY5Ho9"
      },
      "source": [
        "# Aula 8 - Exercícios - Datetime e Regex"
      ]
    },
    {
      "cell_type": "markdown",
      "source": [
        "#### O gabarito dos exercícios encontra-se publicado aqui: https://github.com/alexlopespereira/ipynb-autograde/blob/master/data/questions.json"
      ],
      "metadata": {
        "id": "isqhNh0K2rW7"
      }
    },
    {
      "cell_type": "markdown",
      "source": [
        "### **Restrições do Autograder**\n",
        "#### Os seguintes pacotes e métodos já estão importados pra você. Qualquer importe diferente disso não funciona (por questões de segurança)\n",
        "\n",
        "```\n",
        "import pandas as pd\n",
        "import numpy as np\n",
        "import requests\n",
        "import math\n",
        "import io\n",
        "from io import BytesIO\n",
        "import random\n",
        "import zipfile\n",
        "import datetime\n",
        "from datetime import date, timedelta\n",
        "import re\n",
        "from collections import defaultdict\n",
        "```\n",
        "\n"
      ],
      "metadata": {
        "id": "dixxJg1HB2NQ"
      }
    },
    {
      "cell_type": "code",
      "execution_count": null,
      "metadata": {
        "id": "fzizEpSQ5HpD"
      },
      "outputs": [],
      "source": [
        "# Importe a biblioteca pandas\n",
        "import pandas as pd\n",
        "import numpy as np\n",
        "import re\n",
        "import pandas as pd\n",
        "import datetime\n",
        "from datetime import datetime, date"
      ]
    },
    {
      "cell_type": "markdown",
      "metadata": {
        "id": "IHMAEQUa5HpF"
      },
      "source": [
        "### 8.1 Escreva uma função para encontrar numa string todos os grupos de letras em que uma letra a é seguida de 3 letras b.\n"
      ]
    },
    {
      "cell_type": "code",
      "execution_count": null,
      "metadata": {
        "nbgrader": {
          "grade": false,
          "grade_id": "cell-c705ab9d11473b9f9",
          "locked": false,
          "schema_version": 3,
          "solution": true,
          "task": false
        },
        "id": "uHOH0TBe5HpG"
      },
      "outputs": [],
      "source": [
        "def a3b(s):\n",
        "    ### BEGIN SOLUTION\n",
        "    return re.findall('ab{3}',  s)\n",
        "    ### END SOLUTION"
      ]
    },
    {
      "cell_type": "code",
      "execution_count": null,
      "metadata": {
        "id": "MKxwvOpc5HpI"
      },
      "outputs": [],
      "source": [
        "## Faça seus testes aqui\n"
      ]
    },
    {
      "cell_type": "code",
      "execution_count": null,
      "metadata": {
        "nbgrader": {
          "grade": true,
          "grade_id": "cell-9ffdsa88d58e9o82a",
          "locked": true,
          "points": 1,
          "schema_version": 3,
          "solution": false,
          "task": false
        },
        "id": "XyfEMWc65HpJ"
      },
      "outputs": [],
      "source": [
        "# Validação\n",
        "entradas = [['abbb asde ababbaaabbbabbb']]\n",
        "saidas = [['abbb', 'abbb', 'abbb']]\n",
        "\n",
        "validate(a3b, entradas, lambda x: x, saidas, \"8.1\", False)"
      ]
    },
    {
      "cell_type": "markdown",
      "metadata": {
        "id": "xw9NCw7u5HpK"
      },
      "source": [
        "### 8.2 Escreva uma função que receba como argumento uma String e retorne os números presentes ao final dessa String.\n",
        "#### Retorne uma lista contendo o número no formato string ou uma lista vazia se os ultimos caracteres não forem dígitos.\n",
        "\n",
        "#### Exemplo 1:  para a entrada ```'33a307a'```, retornar ```[]```\n",
        "#### Exemplo 2:  para a entrada ```'33a307'```, retornar ```['307']```\n"
      ]
    },
    {
      "cell_type": "code",
      "execution_count": null,
      "metadata": {
        "nbgrader": {
          "grade": false,
          "grade_id": "cell-553qe5248eb14bc30",
          "locked": false,
          "schema_version": 3,
          "solution": true,
          "task": false
        },
        "id": "dk3TKaxF5HpL"
      },
      "outputs": [],
      "source": [
        "def get_final_numbers(s):\n",
        "    \"\"\"a função deve receber como arumento uma STRING. E retornar uma lista contendo o número\n",
        "       no formato string ou uma lista vazia se os ultimos caracteres não forem dígitos.\n",
        "    \"\"\"\n",
        "    ### BEGIN SOLUTION\n",
        "    pat = '[0-9]+$'\n",
        "    return re.findall(pat, s)\n",
        "    ### END SOLUTION"
      ]
    },
    {
      "cell_type": "code",
      "execution_count": null,
      "metadata": {
        "id": "4DYlqbJI5HpL"
      },
      "outputs": [],
      "source": [
        "## Faça seus testes aqui\n"
      ]
    },
    {
      "cell_type": "code",
      "execution_count": null,
      "metadata": {
        "nbgrader": {
          "grade": true,
          "grade_id": "cell-0e2bh6cefe06bdc60",
          "locked": true,
          "points": 1,
          "schema_version": 3,
          "solution": false,
          "task": false
        },
        "id": "70eh3EZK5HpM"
      },
      "outputs": [],
      "source": [
        "# Validação\n",
        "entradas = [['33a307a'], ['33a307']]\n",
        "saidas = [[], ['307']]\n",
        "validate(get_final_numbers, entradas, lambda x: x, saidas, \"8.2\", False)"
      ]
    },
    {
      "cell_type": "markdown",
      "metadata": {
        "id": "vVjFdewF5HpN"
      },
      "source": [
        "### 8.3 Escreva uma função python para retornar um objeto datetime representando o dia seguinte e o dia anterior de uma data passada como argumento no formato datetime. Retorne uma tupla contendo respectivamente o dia anterior e o dia seguinte.\n",
        "#### Exemplo: para a entrada ```datetime(2021, 05, 11)```\n",
        "#### Resultado esperado: ```(datetime(2021, 05, 10), datetime(2021, 05, 12))```"
      ]
    },
    {
      "cell_type": "code",
      "execution_count": null,
      "metadata": {
        "nbgrader": {
          "grade": false,
          "grade_id": "cell-822f52c7ecd504a6",
          "locked": false,
          "schema_version": 3,
          "solution": true,
          "task": false
        },
        "id": "K10NOTVv5HpP"
      },
      "outputs": [],
      "source": [
        "def yesterday_tomorrow(inputdate):\n",
        "    \"\"\"Retorne uma tupla contendo respectivamente o dia anterior e\n",
        "    o dia seguinte ao dia do objeto datetime passado como argumento.\"\"\"\n",
        "    ### BEGIN SOLUTION\n",
        "    tomorrow = inputdate + pd.Timedelta(days=1)\n",
        "    yesterday = inputdate - pd.Timedelta(days=1)\n",
        "    return (yesterday, tomorrow)\n",
        "    ### END SOLUTION\n"
      ]
    },
    {
      "cell_type": "code",
      "execution_count": null,
      "metadata": {
        "id": "HGTmiDyB5HpQ"
      },
      "outputs": [],
      "source": [
        "# faça seus testes aqui\n"
      ]
    },
    {
      "cell_type": "code",
      "execution_count": null,
      "metadata": {
        "id": "FWDe_8eG5HpQ"
      },
      "outputs": [],
      "source": [
        "# Validação\n",
        "entradas = [[datetime(2021, 5, 11)]]\n",
        "saidas = [(datetime(2021, 5, 10), datetime(2021, 5, 12))]\n",
        "validate(yesterday_tomorrow, entradas, lambda x: x, saidas, \"8.3\", False)"
      ]
    },
    {
      "cell_type": "markdown",
      "metadata": {
        "id": "cO1eUMZh5HpR"
      },
      "source": [
        "### 8.4 Crie uma coluna para o dataframe a seguir contendo o número do mês correspondente a data. Perceba que  o dataframe de entrada tem strings representando datas no seu índice. A coluna com o mês no dataframe de resultado deve ser chamar ```mes```.\n",
        "#### Entrada:\n",
        "|            |     0 |\n",
        "|:-----------|------:|\n",
        "| 2011-09-02 | -0.96 |\n",
        "| 2012-08-04 | -0.05 |\n",
        "| 2013-09-03 | -0.42 |\n",
        "| 2014-08-04 | -1.26 |\n",
        "| 2015-03-03 |  1.96 |\n",
        "| 2016-08-04 | -0.06 |\n",
        "| 2017-04-03 |  0.05 |\n",
        "\n",
        "#### Resultado esperado\n",
        "|            |     0 |   mes |\n",
        "|:-----------|------:|------:|\n",
        "| 2011-09-02 | -0.96 |     9 |\n",
        "| 2012-08-04 | -0.05 |     8 |\n",
        "| 2013-09-03 | -0.42 |     9 |\n",
        "| 2014-08-04 | -1.26 |     8 |\n",
        "| 2015-03-03 |  1.96 |     3 |\n",
        "| 2016-08-04 | -0.06 |     8 |\n",
        "| 2017-04-03 |  0.05 |     4 |\n"
      ]
    },
    {
      "cell_type": "code",
      "execution_count": null,
      "metadata": {
        "nbgrader": {
          "grade": false,
          "grade_id": "cell-7c0b13818bd791ba",
          "locked": false,
          "schema_version": 3,
          "solution": true,
          "task": false
        },
        "id": "-GUPbSOm5HpS"
      },
      "outputs": [],
      "source": [
        "def month_column_from_index(df):\n",
        "    ### BEGIN SOLUTION\n",
        "    df['mes'] = pd.DatetimeIndex(df.index).month\n",
        "    return df\n",
        "    ### END SOLUTION\n",
        "\n"
      ]
    },
    {
      "cell_type": "code",
      "execution_count": null,
      "metadata": {
        "id": "9fpKW3z05HpT"
      },
      "outputs": [],
      "source": [
        "# Faça seus testes aqui\n",
        "df = pd.DataFrame({0: {'2011-09-02': -0.96,\n",
        "  '2012-08-04': -0.05,  '2013-09-03': -0.42,\n",
        "  '2014-08-04': -1.26,  '2015-03-03': 1.96,\n",
        "  '2016-08-04': -0.06,  '2017-04-03': 0.05}})\n",
        "\n",
        "\n"
      ]
    },
    {
      "cell_type": "code",
      "execution_count": null,
      "metadata": {
        "id": "sH5w3Mns5HpT"
      },
      "outputs": [],
      "source": [
        "# Validação\n",
        "df = pd.DataFrame({0: {'2011-09-02': -0.96,\n",
        "  '2012-08-04': -0.05,  '2013-09-03': -0.42,\n",
        "  '2014-08-04': -1.26,  '2015-03-03': 1.96,\n",
        "  '2016-08-04': -0.06,  '2017-04-03': 0.05}})\n",
        "\n",
        "df_result = pd.DataFrame({0: {'2011-09-02': -0.96,  '2012-08-04': -0.05,\n",
        "  '2013-09-03': -0.42,  '2014-08-04': -1.26,  '2015-03-03': 1.96,  '2016-08-04': -0.06,\n",
        "  '2017-04-03': 0.05}, 'mes': {'2011-09-02': 9,  '2012-08-04': 8,  '2013-09-03': 9,\n",
        "  '2014-08-04': 8,  '2015-03-03': 3,  '2016-08-04': 8,  '2017-04-03': 4}})\n",
        "\n",
        "entradas = [[df]]\n",
        "saidas = [df_result]\n",
        "validate(month_column_from_index, entradas, lambda x: x, saidas, \"8.4\", False)"
      ]
    }
  ],
  "metadata": {
    "celltoolbar": "Create Assignment",
    "kernelspec": {
      "display_name": "Python 3",
      "language": "python",
      "name": "python3"
    },
    "language_info": {
      "codemirror_mode": {
        "name": "ipython",
        "version": 3
      },
      "file_extension": ".py",
      "mimetype": "text/x-python",
      "name": "python",
      "nbconvert_exporter": "python",
      "pygments_lexer": "ipython3",
      "version": "3.8.3"
    },
    "name": "_merged",
    "varInspector": {
      "cols": {
        "lenName": 16,
        "lenType": 16,
        "lenVar": 40
      },
      "kernels_config": {
        "python": {
          "delete_cmd_postfix": "",
          "delete_cmd_prefix": "del ",
          "library": "var_list.py",
          "varRefreshCmd": "print(var_dic_list())"
        },
        "r": {
          "delete_cmd_postfix": ") ",
          "delete_cmd_prefix": "rm(",
          "library": "var_list.r",
          "varRefreshCmd": "cat(var_dic_list()) "
        }
      },
      "types_to_exclude": [
        "module",
        "function",
        "builtin_function_or_method",
        "instance",
        "_Feature"
      ],
      "window_display": false
    },
    "colab": {
      "provenance": [],
      "include_colab_link": true
    }
  },
  "nbformat": 4,
  "nbformat_minor": 0
}