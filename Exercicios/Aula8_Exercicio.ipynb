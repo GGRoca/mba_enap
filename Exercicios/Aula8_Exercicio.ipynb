{
  "cells": [
    {
      "cell_type": "markdown",
      "metadata": {
        "id": "view-in-github",
        "colab_type": "text"
      },
      "source": [
        "<a href=\"https://colab.research.google.com/github/alexlopespereira/mba_enap/blob/main/Exercicios/Aula8_Exercicio.ipynb\" target=\"_parent\"><img src=\"https://colab.research.google.com/assets/colab-badge.svg\" alt=\"Open In Colab\"/></a>"
      ]
    },
    {
      "cell_type": "markdown",
      "metadata": {
        "id": "dyrfGARY5Ho9"
      },
      "source": [
        "# Aula 8 - Exercícios - Datetime e Regex"
      ]
    },
    {
      "cell_type": "markdown",
      "source": [
        "#### O gabarito dos exercícios encontra-se publicado aqui: https://github.com/alexlopespereira/ipynb-autograde/blob/master/data/questions.json"
      ],
      "metadata": {
        "id": "isqhNh0K2rW7"
      }
    },
    {
      "cell_type": "markdown",
      "source": [
        "### **Restrições do Autograder**\n",
        "#### Os seguintes pacotes e métodos serão importados pra você durante a validação. Qualquer import diferente disso não funciona (por questões de segurança)\n",
        "\n",
        "```\n",
        "import pandas as pd\n",
        "import numpy as np\n",
        "import requests\n",
        "import math\n",
        "import io\n",
        "from io import BytesIO\n",
        "import random\n",
        "import zipfile\n",
        "import datetime\n",
        "from datetime import date, timedelta\n",
        "import re\n",
        "from collections import defaultdict\n",
        "```\n",
        "\n"
      ],
      "metadata": {
        "id": "dixxJg1HB2NQ"
      }
    },
    {
      "cell_type": "code",
      "execution_count": 4,
      "metadata": {
        "id": "RkNwKAd8kJz5"
      },
      "outputs": [],
      "source": [
        "!pip install --upgrade ipynb_autograde > /dev/null"
      ]
    },
    {
      "cell_type": "code",
      "source": [
        "%env  COURSE=mba_enap\n",
        "from ipynb_autograde.main import init_log, validate\n",
        "init_log()\n",
        "email_result=!gcloud config get-value account\n",
        "if not email_result or 'unset' in email_result[0]:\n",
        "  !gcloud auth login"
      ],
      "metadata": {
        "id": "WxBHNGxie9BB"
      },
      "execution_count": null,
      "outputs": []
    },
    {
      "cell_type": "code",
      "execution_count": null,
      "metadata": {
        "id": "fzizEpSQ5HpD"
      },
      "outputs": [],
      "source": [
        "# Importe a biblioteca pandas\n",
        "import pandas as pd\n",
        "import numpy as np\n",
        "import re\n",
        "import pandas as pd\n",
        "import datetime\n",
        "from datetime import datetime, date"
      ]
    },
    {
      "cell_type": "markdown",
      "metadata": {
        "id": "IHMAEQUa5HpF"
      },
      "source": [
        "### 8.1 Escreva um prompt de uma função python que use a biblioteca de regex para extrair o padrão monstrado nos exemplos a seguir.\n",
        "\n",
        "#### Entrada 1: ```\"abbb asde ababbaaabbbabbb\"```\n",
        "\n",
        "\n",
        "#### Saída 1: ```[\"abbb\", \"abbb\", \"abbb\"]```\n",
        "\n",
        "\n",
        "#### Entrada 2: ```\"ab bb bba aaa\"```\n",
        "\n",
        "\n",
        "#### Saída 2: ```[]```\n",
        "\n",
        "#### Entrada 3: ```\"abb bb bbabbba abaaba\"```\n",
        "\n",
        "\n",
        "#### Saída 3: ```[\"abbb\"]```\n",
        "\n",
        "\n",
        "\n",
        "\n"
      ]
    },
    {
      "cell_type": "code",
      "source": [],
      "metadata": {
        "id": "-hjPLU5CJ9oz"
      },
      "execution_count": null,
      "outputs": []
    },
    {
      "cell_type": "code",
      "execution_count": null,
      "metadata": {
        "nbgrader": {
          "grade": false,
          "grade_id": "cell-c705ab9d11473b9f9",
          "locked": false,
          "schema_version": 3,
          "solution": true,
          "task": false
        },
        "id": "uHOH0TBe5HpG"
      },
      "outputs": [],
      "source": [
        "prompt81 = \"\"\"AQUI\"\"\""
      ]
    },
    {
      "cell_type": "code",
      "execution_count": null,
      "metadata": {
        "id": "MKxwvOpc5HpI"
      },
      "outputs": [],
      "source": [
        "validate(prompt81, \"A8-E1\")"
      ]
    },
    {
      "cell_type": "markdown",
      "metadata": {
        "id": "xw9NCw7u5HpK"
      },
      "source": [
        "### 8.2 Escreva um prompt de uma função python que use a biblioteca de regex para extrair o padrão monstrado nos exemplos a seguir.\n",
        "\n",
        "#### Entrada 1: ```\"33a307a\"```\n",
        "\n",
        "\n",
        "#### Saída 1: ```[]```\n",
        "\n",
        "\n",
        "#### Entrada 2: ```\"33a307\"```\n",
        "\n",
        "\n",
        "#### Saída 2: ```[\"307\"]```\n",
        "\n",
        "\n",
        "\n",
        "\n",
        "\n"
      ]
    },
    {
      "cell_type": "code",
      "source": [],
      "metadata": {
        "id": "pHQ8GDwLJ8_R"
      },
      "execution_count": null,
      "outputs": []
    },
    {
      "cell_type": "code",
      "execution_count": null,
      "metadata": {
        "nbgrader": {
          "grade": false,
          "grade_id": "cell-c705ab9d11473b9f9",
          "locked": false,
          "schema_version": 3,
          "solution": true,
          "task": false
        },
        "id": "O0Jvfk50CQW3"
      },
      "outputs": [],
      "source": [
        "prompt82 = \"\"\"AQUI\"\"\""
      ]
    },
    {
      "cell_type": "code",
      "execution_count": null,
      "metadata": {
        "id": "-hCheU1DCQW-"
      },
      "outputs": [],
      "source": [
        "validate(prompt82, \"A8-E2\")"
      ]
    },
    {
      "cell_type": "markdown",
      "metadata": {
        "id": "vVjFdewF5HpN"
      },
      "source": [
        "### 8.3 Escreva um prompt de uma função python para realizar a transformação monstrada no exemplo a seguir.\n",
        "\n",
        "#### Entrada 1:  ```\"2021-05-11\"```\n",
        "\n",
        "\n",
        "#### Saída 1: ```[\"2021-05-10\", \"2021-05-12\"]```\n",
        "\n"
      ]
    },
    {
      "cell_type": "code",
      "source": [],
      "metadata": {
        "id": "GKZfD7fTJ8hO"
      },
      "execution_count": null,
      "outputs": []
    },
    {
      "cell_type": "code",
      "execution_count": null,
      "metadata": {
        "nbgrader": {
          "grade": false,
          "grade_id": "cell-c705ab9d11473b9f9",
          "locked": false,
          "schema_version": 3,
          "solution": true,
          "task": false
        },
        "id": "RKDeWD-fCRXP"
      },
      "outputs": [],
      "source": [
        "prompt83 = \"\"\"AQUI\"\"\""
      ]
    },
    {
      "cell_type": "code",
      "execution_count": null,
      "metadata": {
        "id": "2xb2vzFeCRXR"
      },
      "outputs": [],
      "source": [
        "validate(prompt83, \"A8-E3\")"
      ]
    },
    {
      "cell_type": "markdown",
      "metadata": {
        "id": "cO1eUMZh5HpR"
      },
      "source": [
        "### 8.4 Escreva um prompt de uma função python para realizar a transformação monstrada no exemplo a seguir.\n",
        "\n",
        "#### Entrada: ```{\"index\": [\"2011-09-02\", \"2012-08-04\", \"2013-09-03\"], \"0\": [-0.96, -0.05, -0.42]}```\n",
        "\n",
        "\n",
        "#### Saída:\n",
        "\n",
        "\n",
        "|    | index      |     0 |   mes |\n",
        "|---:|:-----------|------:|------:|\n",
        "|  0 | 2011-09-02 | -0.96 |     9 |\n",
        "|  1 | 2012-08-04 | -0.05 |     8 |\n",
        "|  2 | 2013-09-03 | -0.42 |     9 |\n"
      ]
    },
    {
      "cell_type": "code",
      "source": [],
      "metadata": {
        "id": "Jm92RDL5J7we"
      },
      "execution_count": null,
      "outputs": []
    },
    {
      "cell_type": "code",
      "execution_count": 8,
      "metadata": {
        "nbgrader": {
          "grade": false,
          "grade_id": "cell-c705ab9d11473b9f9",
          "locked": false,
          "schema_version": 3,
          "solution": true,
          "task": false
        },
        "id": "XukvxTEECSVo"
      },
      "outputs": [],
      "source": [
        "prompt84 = \"\"\"AQUI\"\"\""
      ]
    },
    {
      "cell_type": "code",
      "execution_count": null,
      "metadata": {
        "id": "sfnmg1u2CSVr"
      },
      "outputs": [],
      "source": [
        "validate(prompt84, \"A8-E4\")"
      ]
    },
    {
      "cell_type": "markdown",
      "source": [
        "### 8.5 Escreva um prompt de uma função python utilizando a biblioteca de regex para extrair o padrão monstrado nos exemplos a seguir.\n",
        "\n",
        "#### Entrada: ```[\"(16) 91231-6165\", \"(16) 3231-6165\", \"16 91231-6165\", \"16 3231-6164\", \"3231-6165\", \"91231-616\"]```\n",
        "\n",
        "\n",
        "#### Saída: ```[\"(16) 91231-6165\", \"(16) 3231-6165\", \"16 91231-6165\", \"16 3231-6164\"]```\n",
        "\n"
      ],
      "metadata": {
        "id": "nzEJf3jHAl1w"
      }
    },
    {
      "cell_type": "code",
      "source": [],
      "metadata": {
        "id": "Sq-1l0nZJ7Mo"
      },
      "execution_count": null,
      "outputs": []
    },
    {
      "cell_type": "code",
      "execution_count": null,
      "metadata": {
        "nbgrader": {
          "grade": false,
          "grade_id": "cell-c705ab9d11473b9f9",
          "locked": false,
          "schema_version": 3,
          "solution": true,
          "task": false
        },
        "id": "lmcuYdJ8CTJc"
      },
      "outputs": [],
      "source": [
        "prompt85 = \"\"\"AQUI\"\"\""
      ]
    },
    {
      "cell_type": "code",
      "execution_count": null,
      "metadata": {
        "id": "G8ekZAXSCTJc"
      },
      "outputs": [],
      "source": [
        "validate(prompt85, \"A8-E5\")"
      ]
    },
    {
      "cell_type": "markdown",
      "source": [
        "### 8.6 Escreva um prompt de uma função python para realizar a transformação monstrada no exemplo a seguir.\n",
        "\n",
        "#### Entrada: ```2024```\n",
        "\n",
        "\n",
        "#### Saída:\n",
        "\n",
        "|    | Col1                | Col2      |\n",
        "|---:|:--------------------|:----------|\n",
        "|  0 | 2024-01-31 00:00:00 | Wednesday |\n",
        "|  1 | 2024-02-29 00:00:00 | Thursday  |\n",
        "|  2 | 2024-03-29 00:00:00 | Friday    |\n",
        "|  3 | 2024-04-30 00:00:00 | Tuesday   |\n",
        "|  4 | 2024-05-31 00:00:00 | Friday    |\n",
        "|  5 | 2024-06-28 00:00:00 | Friday    |\n",
        "|  6 | 2024-07-31 00:00:00 | Wednesday |\n",
        "|  7 | 2024-08-30 00:00:00 | Friday    |\n",
        "|  8 | 2024-09-30 00:00:00 | Monday    |\n",
        "|  9 | 2024-10-31 00:00:00 | Thursday  |\n",
        "| 10 | 2024-11-29 00:00:00 | Friday    |\n",
        "| 11 | 2024-12-31 00:00:00 | Tuesday   |\n"
      ],
      "metadata": {
        "id": "0vsm5KZhAwHD"
      }
    },
    {
      "cell_type": "code",
      "source": [],
      "metadata": {
        "id": "mmbQHU95J6lM"
      },
      "execution_count": null,
      "outputs": []
    },
    {
      "cell_type": "code",
      "execution_count": 13,
      "metadata": {
        "nbgrader": {
          "grade": false,
          "grade_id": "cell-c705ab9d11473b9f9",
          "locked": false,
          "schema_version": 3,
          "solution": true,
          "task": false
        },
        "id": "0EcwIqHoCT9x"
      },
      "outputs": [],
      "source": [
        "prompt86 = \"\"\"Crie uma função para construir um dataframe contendo o último dia útil de todos os meses de um ano passado como argumento da função. Adicione uma coluna contendo o dia da semana da data da primeira coluna. Chame estas duas colunas de \"Col1\" e \"Col2\".\"\"\""
      ]
    },
    {
      "cell_type": "code",
      "execution_count": null,
      "metadata": {
        "id": "bzLWdmZNCT90"
      },
      "outputs": [],
      "source": [
        "validate(prompt86, \"A8-E6\")"
      ]
    },
    {
      "cell_type": "markdown",
      "source": [
        "### 8.7 Escreva um prompt de uma função python para realizar a transformação monstrada no exemplo a seguir.\n",
        "\n",
        "#### Entrada:\n",
        "```\n",
        "{\n",
        "    'Start Date': ['2021-05-01', '2021-06-15', '2021-07-20'],\n",
        "    'End Date': ['2021-05-10', '2021-06-25', '2021-08-01']\n",
        "}\n",
        "```\n",
        "\n",
        "#### Saída:\n",
        "\n",
        "|    |   index | Start Date          | End Date            |   Difference |\n",
        "|---:|--------:|:--------------------|:--------------------|-------------:|\n",
        "|  0 |       2 | 2021-07-20 00:00:00 | 2021-08-01 00:00:00 |           12 |\n"
      ],
      "metadata": {
        "id": "AFrMfPFDAwRv"
      }
    },
    {
      "cell_type": "code",
      "source": [],
      "metadata": {
        "id": "DNVMsFBmJ5vd"
      },
      "execution_count": null,
      "outputs": []
    },
    {
      "cell_type": "code",
      "execution_count": 17,
      "metadata": {
        "nbgrader": {
          "grade": false,
          "grade_id": "cell-c705ab9d11473b9f9",
          "locked": false,
          "schema_version": 3,
          "solution": true,
          "task": false
        },
        "id": "DXVdoZdlCUb3"
      },
      "outputs": [],
      "source": [
        "prompt87 = \"\"\"AQUI\"\"\""
      ]
    },
    {
      "cell_type": "code",
      "execution_count": null,
      "metadata": {
        "id": "luQuTo5-CUb5"
      },
      "outputs": [],
      "source": [
        "validate(prompt87, \"A8-E7\")"
      ]
    },
    {
      "cell_type": "markdown",
      "source": [
        "### 8.8 Escreva um prompt de uma função python para realizar a transformação monstrada no exemplo a seguir.\n",
        "\n",
        "#### Entrada 1:\n",
        "```\n",
        "{\n",
        "    'Event': ['Event A', 'Event B', 'Event C'],\n",
        "    'Start Date': ['2023-01-05', '2023-02-15', '2023-07-20'],\n",
        "    'End Date': ['2023-02-10', '2023-03-28', '2023-08-01']\n",
        "}\n",
        "```\n",
        "\n",
        "\n",
        "#### Saída:\n",
        "|    | Event   | Start Date          | End Date            |   Difference |   Full Weeks Difference |\n",
        "|---:|:--------|:--------------------|:--------------------|-------------:|------------------------:|\n",
        "|  0 | Event A | 2023-01-05 00:00:00 | 2023-02-10 00:00:00 |           36 |                       5 |\n",
        "|  1 | Event B | 2023-02-15 00:00:00 | 2023-03-28 00:00:00 |           41 |                       5 |\n",
        "|  2 | Event C | 2023-07-20 00:00:00 | 2023-08-01 00:00:00 |           12 |                       1 |\n",
        "\n"
      ],
      "metadata": {
        "id": "rSBuKF2fAwrP"
      }
    },
    {
      "cell_type": "code",
      "source": [],
      "metadata": {
        "id": "olo5R2k_J4jI"
      },
      "execution_count": null,
      "outputs": []
    },
    {
      "cell_type": "code",
      "execution_count": 21,
      "metadata": {
        "nbgrader": {
          "grade": false,
          "grade_id": "cell-c705ab9d11473b9f9",
          "locked": false,
          "schema_version": 3,
          "solution": true,
          "task": false
        },
        "id": "PseMbwuxCU09"
      },
      "outputs": [],
      "source": [
        "prompt88 = \"\"\"AQUI\"\"\""
      ]
    },
    {
      "cell_type": "code",
      "execution_count": null,
      "metadata": {
        "id": "rN3j4g7TCU1C"
      },
      "outputs": [],
      "source": [
        "validate(prompt88, \"A8-E8\")"
      ]
    },
    {
      "cell_type": "code",
      "source": [],
      "metadata": {
        "id": "IoFYhlp1Jnwf"
      },
      "execution_count": null,
      "outputs": []
    }
  ],
  "metadata": {
    "celltoolbar": "Create Assignment",
    "kernelspec": {
      "display_name": "Python 3",
      "language": "python",
      "name": "python3"
    },
    "language_info": {
      "codemirror_mode": {
        "name": "ipython",
        "version": 3
      },
      "file_extension": ".py",
      "mimetype": "text/x-python",
      "name": "python",
      "nbconvert_exporter": "python",
      "pygments_lexer": "ipython3",
      "version": "3.8.3"
    },
    "name": "_merged",
    "varInspector": {
      "cols": {
        "lenName": 16,
        "lenType": 16,
        "lenVar": 40
      },
      "kernels_config": {
        "python": {
          "delete_cmd_postfix": "",
          "delete_cmd_prefix": "del ",
          "library": "var_list.py",
          "varRefreshCmd": "print(var_dic_list())"
        },
        "r": {
          "delete_cmd_postfix": ") ",
          "delete_cmd_prefix": "rm(",
          "library": "var_list.r",
          "varRefreshCmd": "cat(var_dic_list()) "
        }
      },
      "types_to_exclude": [
        "module",
        "function",
        "builtin_function_or_method",
        "instance",
        "_Feature"
      ],
      "window_display": false
    },
    "colab": {
      "provenance": [],
      "include_colab_link": true
    }
  },
  "nbformat": 4,
  "nbformat_minor": 0
}