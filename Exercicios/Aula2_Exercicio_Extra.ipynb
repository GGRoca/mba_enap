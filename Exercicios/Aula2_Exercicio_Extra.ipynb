{
  "cells": [
    {
      "cell_type": "markdown",
      "metadata": {
        "id": "view-in-github",
        "colab_type": "text"
      },
      "source": [
        "<a href=\"https://colab.research.google.com/github/alexlopespereira/mba_enap/blob/main/Exercicios/Aula2_Exercicio_Extra.ipynb\" target=\"_parent\"><img src=\"https://colab.research.google.com/assets/colab-badge.svg\" alt=\"Open In Colab\"/></a>"
      ]
    },
    {
      "cell_type": "markdown",
      "metadata": {
        "id": "tq8PZEL0QMqR"
      },
      "source": [
        "# Aula 2 - Exercícios Extras - Sintaxe de Python e NumPy Array"
      ]
    },
    {
      "cell_type": "markdown",
      "source": [
        "\n",
        "\n",
        "---\n",
        "\n",
        "\n",
        "### Instalação do Autograde e Login com Google"
      ],
      "metadata": {
        "id": "Z9yRG250XMx_"
      }
    },
    {
      "cell_type": "code",
      "source": [
        "!pip install --upgrade ipynb_autograde 1> /dev/null"
      ],
      "metadata": {
        "id": "V6bpa6KeXPr8"
      },
      "execution_count": 2,
      "outputs": []
    },
    {
      "cell_type": "code",
      "source": [
        "%env  COURSE=python_tribosgd\n",
        "from ipynb_autograde.main import init_log, validate\n",
        "init_log()\n",
        "email_result=!gcloud config get-value account\n",
        "if not email_result or 'unset' in email_result[0]:\n",
        "  !gcloud auth login"
      ],
      "metadata": {
        "id": "icb4gitTXVSu"
      },
      "execution_count": null,
      "outputs": []
    },
    {
      "cell_type": "markdown",
      "metadata": {
        "id": "m4pzQLX9QMqZ"
      },
      "source": [
        "### 2.19 Crie um prompt para resolver o problema abaixo:\n",
        "#### Entrada 1: [1, 3, 4] e N=2\n",
        "#### Saída 1: [1, 3]\n",
        "#### Entrada 2: [0, 12, 45, 34, 99] e N=40\n",
        "#### Saída 2: [45]\n",
        "#### Entrada 2: [-10, 19099, 102, 3404, 245] e N=102\n",
        "#### Saída 2: [102]\n"
      ]
    },
    {
      "cell_type": "code",
      "execution_count": null,
      "metadata": {
        "nbgrader": {
          "grade": false,
          "grade_id": "cell-e0a4e5deea9187c4",
          "locked": false,
          "schema_version": 3,
          "solution": true,
          "task": false
        },
        "id": "eBX3dJA3QMqb"
      },
      "outputs": [],
      "source": [
        "prompt219=\"\"\"AQUI\"\"\""
      ]
    },
    {
      "cell_type": "code",
      "execution_count": null,
      "metadata": {
        "id": "Sf5g0C_GQMqe"
      },
      "outputs": [],
      "source": [
        "validate(prompt219, \"A2-E19\")"
      ]
    },
    {
      "cell_type": "markdown",
      "metadata": {
        "id": "qhol2j7eQMqf"
      },
      "source": [
        "### 2.20 Crie um prompt para resolver o problema abaixo:\n",
        "#### Entrada:  [1, 2, 3, 4, 5]\n",
        "#### Saída: {\"1\": 5, \"2\": 4, \"3\": 3, \"4\": 2, \"5\": 1}"
      ]
    },
    {
      "cell_type": "code",
      "execution_count": 1,
      "metadata": {
        "id": "im88By4aQMqg"
      },
      "outputs": [],
      "source": [
        "prompt220=\"\"\"AQUI\"\"\""
      ]
    },
    {
      "cell_type": "code",
      "execution_count": null,
      "metadata": {
        "id": "4Bbu7kB6QMqh"
      },
      "outputs": [],
      "source": [
        "validate(prompt220, \"A2-E20\")"
      ]
    }
  ],
  "metadata": {
    "celltoolbar": "Create Assignment",
    "kernelspec": {
      "display_name": "Python 3",
      "language": "python",
      "name": "python3"
    },
    "language_info": {
      "codemirror_mode": {
        "name": "ipython",
        "version": 3
      },
      "file_extension": ".py",
      "mimetype": "text/x-python",
      "name": "python",
      "nbconvert_exporter": "python",
      "pygments_lexer": "ipython3",
      "version": "3.8.3"
    },
    "name": "_merged",
    "colab": {
      "provenance": [],
      "include_colab_link": true
    }
  },
  "nbformat": 4,
  "nbformat_minor": 0
}