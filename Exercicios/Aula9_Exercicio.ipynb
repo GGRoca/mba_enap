{
  "cells": [
    {
      "cell_type": "markdown",
      "metadata": {
        "id": "view-in-github",
        "colab_type": "text"
      },
      "source": [
        "<a href=\"https://colab.research.google.com/github/alexlopespereira/mba_enap/blob/main/Exercicios/Aula9_Exercicio.ipynb\" target=\"_parent\"><img src=\"https://colab.research.google.com/assets/colab-badge.svg\" alt=\"Open In Colab\"/></a>"
      ]
    },
    {
      "cell_type": "markdown",
      "metadata": {
        "id": "k92_GJC2OwAo"
      },
      "source": [
        "# Aula 9 - Exercício - Agregação com Pandas"
      ]
    },
    {
      "cell_type": "markdown",
      "source": [
        "### Documentação do Autograder [Link](https://github.com/alexlopespereira/mba_enap/blob/main/Exercicios/Autograder.ipynb)\n",
        "\n",
        "\n",
        "*   Link para o gabarito das questões\n",
        "*   Imports padrão\n",
        "*   Instalação\n",
        "*   Autenticaçao para nota\n",
        "*   Validação\n",
        "\n",
        "\n"
      ],
      "metadata": {
        "id": "_nJJVge3PVNe"
      }
    },
    {
      "cell_type": "code",
      "execution_count": 1,
      "metadata": {
        "id": "RkNwKAd8kJz5"
      },
      "outputs": [],
      "source": [
        "!pip install --upgrade ipynb_autograde > /dev/null"
      ]
    },
    {
      "cell_type": "code",
      "source": [
        "%env  COURSE=mba_enap\n",
        "from ipynb_autograde.main import init_log, validate\n",
        "init_log()\n",
        "email_result=!gcloud config get-value account\n",
        "if not email_result or 'unset' in email_result[0]:\n",
        "  !gcloud auth login"
      ],
      "metadata": {
        "id": "WxBHNGxie9BB"
      },
      "execution_count": null,
      "outputs": []
    },
    {
      "cell_type": "code",
      "execution_count": 3,
      "metadata": {
        "id": "R3jJ85H8OwAr"
      },
      "outputs": [],
      "source": [
        "# Faca o import das bibliotecas\n",
        "import pandas as pd\n",
        "import numpy as np"
      ]
    },
    {
      "cell_type": "markdown",
      "metadata": {
        "id": "ny_zhXxFOwAt"
      },
      "source": [
        "### 9.1 Escreva um prompt de uma função python para carregar os dados de população de 2017 e realizar as operações ilustradas na tabela a seguir. Retorne apenas os top 3 resultados ordenados pela soma.\n",
        "\n",
        "#### Entrada: ```https://github.com/alexlopespereira/mba_enap/raw/refs/heads/main/data/originais/populacao/estimativa_dou_2017.xlsx```\n",
        "\n",
        "\n",
        "### Resultado esperado:\n",
        "\n",
        "|    | uf   |      sum |     mean |   median |    std |\n",
        "|---:|:-----|---------:|---------:|---------:|-------:|\n",
        "|  0 | SP   | 45094866 |  69914.5 |    13810 | 489370 |\n",
        "|  1 | MG   | 21119536 |  24759.1 |     8287 | 100604 |\n",
        "|  2 | RJ   | 16718956 | 181728   |    35918 | 693337 |\n"
      ]
    },
    {
      "cell_type": "code",
      "source": [
        "prompt91 = \"\"\"Escreva uma função Python utilizando pandas para carregar um arquivo Excel de uma URL passada como 1o argumento interpretando a coluna cod_ibge como string. Nomeie esse dataframe como df_pop. Agrege o dataframe  por uf e calcule as métricas sum, mean, median e std da coluna pop2017, arredonde o resultado de todas essas métricas para uma casa decimal. Ordene o dataframe agregado pela coluna sum, e depois retorne os top 3 registros. Antes de retornar, aplique o metodo reset_index(drop=False)\n",
        "\"\"\""
      ],
      "metadata": {
        "id": "pP-pq8q_SqFI"
      },
      "execution_count": 15,
      "outputs": []
    },
    {
      "cell_type": "code",
      "source": [
        "validate(prompt91, \"A9-E1\")"
      ],
      "metadata": {
        "id": "euAQ0fkXStP0",
        "outputId": "6a332135-dc04-4cf8-ad6e-080926b8bf4a",
        "colab": {
          "base_uri": "https://localhost:8080/"
        }
      },
      "execution_count": 16,
      "outputs": [
        {
          "output_type": "stream",
          "name": "stdout",
          "text": [
            "Error: 400 - Bad Request\n",
            "Details: {\"error\":\"Unsafe code: Syntax error in code: invalid syntax (<unknown>, line 1)\"}\n",
            "\n"
          ]
        }
      ]
    },
    {
      "cell_type": "markdown",
      "metadata": {
        "id": "T8bUoRlHS5a3"
      },
      "source": [
        "### 9.2 Escreva um prompt de uma função python para carregar os dados do dataset do Titanic e realizar as operações ilustradas na tabela a seguir.\n",
        "\n",
        "#### Entrada: ```https://github.com/alexlopespereira/mba_enap/raw/main/data/originais/titanic/titanic.xls```\n",
        "\n",
        "\n",
        "### Resultado esperado:\n",
        "\n",
        "\n",
        "|    |   pclass | sex    |   survived |   fare |\n",
        "|---:|---------:|:-------|-----------:|-------:|\n",
        "|  0 |        1 | female |        139 |   80.9 |\n",
        "|  1 |        1 | male   |         61 |   49.5 |\n",
        "|  2 |        2 | female |         94 |   23   |\n",
        "|  3 |        2 | male   |         25 |   13   |\n",
        "|  4 |        3 | female |        106 |   10.5 |\n",
        "|  5 |        3 | male   |         75 |    7.9 |\n"
      ]
    },
    {
      "cell_type": "code",
      "source": [
        "prompt92 = \"\"\"Escreva uma função Python utilizando pandas para carregar um arquivo Excel de uma URL passada como 1o argumento. Nomeie esse dataframe como df_titanic. Agrege o dataframe por pclass e sex, e calcule a soma da coluna survived e a mediana da coluna fare, assim: df_titanic.groupby(['pclass', 'sex']).agg({'survived': 'sum', 'fare': 'median'}). Arredonde o resultado de todas essas métricas para uma casa decimal. Antes de retornar, aplique o metodo reset_index(drop=False)\"\"\""
      ],
      "metadata": {
        "id": "EKq0uHezeU1X"
      },
      "execution_count": 7,
      "outputs": []
    },
    {
      "cell_type": "code",
      "source": [
        "validate(prompt92, \"A9-E2\")"
      ],
      "metadata": {
        "id": "K2voYQypeEaD",
        "outputId": "5e4ff562-77f0-4a6a-9372-7868c1ae1e2a",
        "colab": {
          "base_uri": "https://localhost:8080/"
        }
      },
      "execution_count": 8,
      "outputs": [
        {
          "output_type": "stream",
          "name": "stdout",
          "text": [
            "Codigo gerado: \n",
            "def process_titanic_data(url):\n",
            "    df_titanic = pd.read_excel(url)\n",
            "    result = df_titanic.groupby(['pclass', 'sex']).agg({'survived': 'sum', 'fare': 'median'})\n",
            "    result = result.round(1)\n",
            "    return result.reset_index(drop=False)\n",
            "\n",
            "✅ Passed the Test Case!\n",
            "  Expected: {'data': {'aggregation_checks': {'sum': {'fare': 184.8, 'pclass': 12.0, 'survived': 500.0}, 'total_rows': {'max': 6, 'min': 6}}, 'columns': ['pclass', 'sex', 'survived', 'fare'], 'dtypes': {'fare': 'float64', 'pclass': 'int64', 'sex': 'object', 'survived': 'int64'}, 'sample_rows': [{'expected_values': {'survived': 139}, 'filter': {'pclass': 1, 'sex': 'female'}}, {'expected_values': {'survived': 75}, 'filter': {'pclass': 3, 'sex': 'male'}}]}, 'type': 'dataframe', 'validation_rules': {'round_decimals': 1, 'row_match_threshold': 0.9, 'tolerance': 3}}\n",
            "  Delivered: {'aggregation_summary': {'sums': {'fare': 184.8, 'pclass': 12.0, 'survived': 500.0}, 'total_rows': {'max': 6, 'min': 6}}, 'column_analysis': {'expected_columns': ['pclass', 'sex', 'survived', 'fare'], 'missing_columns': [], 'possible_matches': {}, 'provided_columns': ['pclass', 'sex', 'survived', 'fare'], 'unexpected_columns': []}, 'verified_samples': [{'expected_values': {'survived': 139}, 'filter': {'pclass': 1, 'sex': 'female'}}, {'expected_values': {'survived': 75}, 'filter': {'pclass': 3, 'sex': 'male'}}]}\n"
          ]
        }
      ]
    },
    {
      "cell_type": "markdown",
      "metadata": {
        "id": "o65FxFrYOwBF"
      },
      "source": [
        "### 9.3 Escreva uma função para realizar o agrupamento do dataset de morbidade por UF e por município aplicando a soma sobre as colunas Valor_total, Internações e Dias_permanência. Em seguida calcule, para todos os municípios nesta agregação, o custo médio diário das internações com a fórmula abaixo. Retorne um dataframe com os top 3 municipios segundo o custo médio de internação.\n",
        "\n",
        "#### Entrada: ```https://github.com/alexlopespereira/mba_enap/raw/refs/heads/main/data/originais/morbidade/consolidado/morbidade.csv```\n",
        "\n",
        "\n",
        "#### Resultado esperado:\n",
        "\n",
        "\n",
        "|      |   uf |   cod_ibge6 | Município             |      Valor_total |   Internações |   Dias_permanência |   custo_medio_diario_intern |\n",
        "|-----:|-----:|------------:|:----------------------|-----------------:|--------------:|-------------------:|----------------------------:|\n",
        "| 3967 |   41 |      410400 | Campina Grande do Sul |      3.32947e+07 |          7037 |              29277 |                      1137.2 |\n",
        "| 3864 |   35 |      355365 | Taquaral              | 382405           |           152 |                465 |                       822.4 |\n",
        "| 3685 |   35 |      353715 | Pedrinhas Paulista    | 769964           |           188 |               1004 |                       766.9 |\n",
        "| 3205 |   33 |      330205 | Italva                |      2.39501e+06 |           585 |               3160 |                       757.9 |\n",
        "| 3193 |   33 |      330115 | Cardoso Moreira       |      2.80194e+06 |           740 |               3840 |                       729.7 |"
      ]
    },
    {
      "cell_type": "code",
      "source": [
        "prompt93 = \"\"\"A função tem no 1o argumento o caminho de um arquivo csv carregue o arquivo corretamente num dataframe chamado df_morbidade. Nesse csv, user o argumento sep=\";\". Os na values são ['-', '...'], o simbolo para decimal é a virgula, e a coluna cod_ibge6 deve ser importada como string. A primeira coluna já tem o índice para o dataframe, ou seja, use index_col=0. Crie uma coluna chamada uf apartir dos dois primeiros caracteres da coluna cod_ibge6. Agrege por uf, cod_ibge6 e Município e calcule a soma do Valor_total, Internações e Dias_permanência. Arredonde o resultado de todas essas métricas para um numero inteiro num formato int64. Use a seguinte fórmula para calcular o custo diário médio de internação: custo_medio_diario_intern = Valor_total/Dias_permanência, e armazene esse resultado numa nova coluna do dataframe. Retorne os 5 registros de maior custo medio de internação. Antes de retornar, aplique o metodo reset_index(drop=False)\"\"\""
      ],
      "metadata": {
        "id": "MeYiPepMecVb"
      },
      "execution_count": 9,
      "outputs": []
    },
    {
      "cell_type": "code",
      "source": [
        "validate(prompt93, \"A9-E3\")"
      ],
      "metadata": {
        "id": "dRJiOiGZeGFd",
        "outputId": "33664e03-4eda-4af7-ee9b-21cb3c703349",
        "colab": {
          "base_uri": "https://localhost:8080/"
        }
      },
      "execution_count": 10,
      "outputs": [
        {
          "output_type": "stream",
          "name": "stdout",
          "text": [
            "Codigo gerado: \n",
            "def process_morbidity_data(csv_path):\n",
            "    df_morbidade = pd.read_csv(csv_path, sep=\";\", na_values=['-', '...'], decimal=',', \n",
            "                                index_col=0, dtype={'cod_ibge6': str})\n",
            "    \n",
            "    df_morbidade['uf'] = df_morbidade['cod_ibge6'].str[:2]\n",
            "    \n",
            "    aggregated_df = df_morbidade.groupby(['uf', 'cod_ibge6', 'Município'], as_index=False).agg({\n",
            "        'Valor_total': 'sum',\n",
            "        'Internações': 'sum',\n",
            "        'Dias_permanência': 'sum'\n",
            "    }).round().astype({'Valor_total': 'int64', 'Internações': 'int64', 'Dias_permanência': 'int64'})\n",
            "    \n",
            "    aggregated_df['custo_medio_diario_intern'] = aggregated_df['Valor_total'] / aggregated_df['Dias_permanência']\n",
            "    \n",
            "    result_df = aggregated_df.reset_index(drop=False)\n",
            "    \n",
            "    return result_df.nlargest(5, 'custo_medio_diario_intern')\n",
            "\n",
            "✅ Passed the Test Case!\n",
            "  Expected: {'data': {'aggregation_checks': {'sum': {'Dias_permanência': 37746, 'Internações': 8702, 'Valor_total': 39644021, 'custo_medio_diario_intern': 4214}, 'total_rows': {'max': 5, 'min': 5}}, 'columns': ['uf', 'cod_ibge6', 'Município', 'Valor_total', 'Internações', 'Dias_permanência', 'custo_medio_diario_intern'], 'dtypes': {'Dias_permanência': 'int64', 'Internações': 'int64', 'Município': 'object', 'Valor_total': 'int64', 'cod_ibge6': 'object', 'custo_medio_diario_intern': 'float64', 'uf': 'object'}, 'sample_rows': [{'expected_values': {'custo_medio_diario_intern': 1137.2}, 'filter': {'cod_ibge6': '410400'}}, {'expected_values': {'custo_medio_diario_intern': 729.7}, 'filter': {'cod_ibge6': '330115'}}]}, 'type': 'dataframe', 'validation_rules': {'round_decimals': 1, 'row_match_threshold': 1.5, 'tolerance': 3}}\n",
            "  Delivered: {'aggregation_summary': {'sums': {'Dias_permanência': 37746, 'Internações': 8702, 'Valor_total': 39644021, 'custo_medio_diario_intern': 4214}, 'total_rows': {'max': 5, 'min': 5}}, 'column_analysis': {'expected_columns': ['uf', 'cod_ibge6', 'Município', 'Valor_total', 'Internações', 'Dias_permanência', 'custo_medio_diario_intern'], 'missing_columns': [], 'possible_matches': {}, 'provided_columns': ['index', 'uf', 'cod_ibge6', 'Município', 'Valor_total', 'Internações', 'Dias_permanência', 'custo_medio_diario_intern'], 'unexpected_columns': ['index']}, 'verified_samples': [{'expected_values': {'custo_medio_diario_intern': 1137.2}, 'filter': {'cod_ibge6': '410400'}}, {'expected_values': {'custo_medio_diario_intern': 729.7}, 'filter': {'cod_ibge6': '330115'}}]}\n"
          ]
        }
      ]
    },
    {
      "cell_type": "markdown",
      "metadata": {
        "id": "gwC_H_9dOwBI"
      },
      "source": [
        "### 9.4 Crie um prompt de uma função python para retornar a soma do Valor_total dos 5 municípios (do exercício anterior) do dataset de Morbidade do Datasus (ao longo do período representado no dataset disponibilizado).\n",
        "\n",
        "#### Entradas: ```https://github.com/alexlopespereira/mba_enap/raw/refs/heads/main/data/originais/morbidade/consolidado/morbidade.csv``` e ```[\"410400\", \"330115\", \"330205\", \"353715\", \"355365\"]```\n",
        "\n",
        "#### Resultado esperado:\n",
        "|    | Município             |      Valor_total |\n",
        "|---:|:----------------------|-----------------:|\n",
        "|  0 | Campina Grande do Sul |      33294700.7 |\n",
        "|  1 | Cardoso Moreira       |      2801938.8 |\n",
        "|  2 | Italva                |      2395014.9 |\n",
        "|  3 | Pedrinhas Paulista    | 769964.0           |\n",
        "|  4 | Taquaral              | 382405.0           |\n",
        "\n"
      ]
    },
    {
      "cell_type": "code",
      "source": [
        "prompt94 = \"\"\"A função tem no 1o argumento o caminho de um arquivo csv carregue o arquivo corretamente num dataframe chamado df_morbidade. Nesse csv, o caracter do argumento sep é o \";\". Os na values são ['-', '...'], o simbolo para decimal é a virgula, e a coluna cod_ibge6 deve ser importada como string. A primeira coluna já tem o índice para o dataframe, ou seja, use index_col=0. Crie uma coluna chamada uf a partir dos dois primeiros caracteres da coluna cod_ibge6.  Selecione todos os registros cujo cod_ibge6 esteja nesta lista [\"410400\", \"330115\", \"330205\", \"353715\", \"355365\"]. Depois agregue por \"Município\" e retorne a soma do valor Valor_total arredondado como numero inteiro. Escreva um código para testar esta função a partir desta url 'https://github.com/alexlopespereira/mba_enap/raw/refs/heads/main/data/originais/morbidade/consolidado/morbidade.csv'. Antes de retornar, aplique o metodo reset_index(drop=False)\"\"\""
      ],
      "metadata": {
        "id": "xi6OzCcqepnc"
      },
      "execution_count": 17,
      "outputs": []
    },
    {
      "cell_type": "code",
      "source": [
        "validate(prompt94, \"A9-E4\")"
      ],
      "metadata": {
        "id": "zX0QjdxdeITJ",
        "outputId": "873fa339-db60-4165-b503-784ac1c5d21c",
        "colab": {
          "base_uri": "https://localhost:8080/"
        }
      },
      "execution_count": 18,
      "outputs": [
        {
          "output_type": "stream",
          "name": "stdout",
          "text": [
            "Error: 400 - Bad Request\n",
            "Details: {\"error\":\"Unsafe code: Syntax error in code: invalid syntax (<unknown>, line 1)\"}\n",
            "\n"
          ]
        }
      ]
    },
    {
      "cell_type": "markdown",
      "source": [
        "### Exercício de Reflexão (Facultativo)\n",
        "#### Você aprendeu alguma coisa que pode ser reaproveitado em outros problemas?\n",
        "#### Como você pode melhorar seu processo de elaboração de requisitos / prompts?\n",
        "#### Você notou ambiguidade na sua especificação inicial?"
      ],
      "metadata": {
        "id": "9cTqrAw0IXaY"
      }
    },
    {
      "cell_type": "code",
      "source": [
        "resposta=\"\"\"AQUI\"\"\""
      ],
      "metadata": {
        "id": "Y9yjEmHV2nKi"
      },
      "execution_count": 19,
      "outputs": []
    },
    {
      "cell_type": "code",
      "source": [
        "validate(resposta, \"A9-R1\")"
      ],
      "metadata": {
        "id": "yLXjtjQaK6V1"
      },
      "execution_count": null,
      "outputs": []
    }
  ],
  "metadata": {
    "celltoolbar": "Create Assignment",
    "kernelspec": {
      "display_name": "Python 3",
      "language": "python",
      "name": "python3"
    },
    "language_info": {
      "codemirror_mode": {
        "name": "ipython",
        "version": 3
      },
      "file_extension": ".py",
      "mimetype": "text/x-python",
      "name": "python",
      "nbconvert_exporter": "python",
      "pygments_lexer": "ipython3",
      "version": "3.8.3"
    },
    "name": "_merged",
    "varInspector": {
      "cols": {
        "lenName": 16,
        "lenType": 16,
        "lenVar": 40
      },
      "kernels_config": {
        "python": {
          "delete_cmd_postfix": "",
          "delete_cmd_prefix": "del ",
          "library": "var_list.py",
          "varRefreshCmd": "print(var_dic_list())"
        },
        "r": {
          "delete_cmd_postfix": ") ",
          "delete_cmd_prefix": "rm(",
          "library": "var_list.r",
          "varRefreshCmd": "cat(var_dic_list()) "
        }
      },
      "types_to_exclude": [
        "module",
        "function",
        "builtin_function_or_method",
        "instance",
        "_Feature"
      ],
      "window_display": false
    },
    "colab": {
      "provenance": [],
      "include_colab_link": true
    }
  },
  "nbformat": 4,
  "nbformat_minor": 0
}