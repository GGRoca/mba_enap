{
 "cells": [
  {
   "cell_type": "markdown",
   "metadata": {},
   "source": [
    "# Aula 9 - Exercício - Agregação com Pandas"
   ]
  },
  {
   "cell_type": "code",
   "execution_count": null,
   "metadata": {},
   "outputs": [],
   "source": [
    "# Faca o import das bibliotecas\n",
    "import pandas as pd\n",
    "import numpy as np"
   ]
  },
  {
   "cell_type": "markdown",
   "metadata": {},
   "source": [
    "### 9.1 Escreva uma função para ler os dados de PIB e população dos datasets disponibilizados e retornar um dataframe com a agregação por Estados e as métricas soma, média, desvio padrão e mediana do PIB de 2017 e da população de todos os Estados brasileiros. O arredondamento é opcional.\n",
    "\n",
    "#### As 3 primeiras linhas do resultado esperado:\n",
    "```\n",
    "    pop2017                                            2017                \n",
    "        sum          mean   median            std       sum          mean     median           std  \n",
    "uf                                                                          \n",
    "AC   829619  37709.954545  17903.5   79035.975649  14271061  6.486846e+05   229775.0  1.695167e+06  \n",
    "AL  3375823  33096.303922  17900.5  103131.981409  52843471  5.180732e+05   175900.5  2.184281e+06  \n",
    "AM  4063614  65542.161290  24438.5  267475.531426  93204173  1.503293e+06   205869.5  9.261592e+06  \n",
    "```\n",
    "#### Ou\n",
    "```\n",
    "    pop2017                                  2017                          \n",
    "        sum     mean   median       std       sum       mean    median   std  \n",
    "uf                                                                       \n",
    "AC   829619  37710.0  17903.5   79036.0  14271061   648684.6  229775.0   1695166.9\n",
    "AL  3375823  33096.3  17900.5  103132.0  52843471   518073.2  175900.5   2184280.9\n",
    "AM  4063614  65542.2  24438.5  267475.5  93204173  1503293.1  205869.5   9261592.2\n",
    "```"
   ]
  },
  {
   "cell_type": "code",
   "execution_count": null,
   "metadata": {},
   "outputs": [],
   "source": [
    "# Faca aqui seus testes do Exercício 9.1\n",
    "path_pib = 'https://github.com/alexlopespereira/enapespcd2021/raw/main/data/originais/pib/pib_municipios.xlsx'\n",
    "path_pop = 'https://github.com/alexlopespereira/enapespcd2021/raw/main/data/originais/populacao/estimativa_dou_2017.xlsx'\n",
    "\n"
   ]
  },
  {
   "cell_type": "code",
   "execution_count": null,
   "metadata": {
    "nbgrader": {
     "grade": false,
     "grade_id": "cell-c705ab9d11473b9f9",
     "locked": false,
     "schema_version": 3,
     "solution": true,
     "task": false
    }
   },
   "outputs": [],
   "source": [
    "# Faca aqui sua função do Exercício 9.1\n",
    "def aggregate_pib_pop(path_pop, path_pib):\n",
    "    \"\"\"retorne um dataframe com a agregação por Estados e as métricas soma, média, mediana\n",
    "       e o desvio padrão do PIB de 2017 e da população de todos os Estados brasileiros.\n",
    "    \"\"\"\n",
    "    ### BEGIN SOLUTION\n",
    "    df_pop = pd.read_excel(path_pop, sheet_name=\"Municipios\", dtype={'cod_munic': str, 'cod_uf': str})\n",
    "    # Concatena o codigo da UF com o codigo do municipio\n",
    "    df_pop['cod_ibge7'] = df_pop['cod_uf'] + df_pop['cod_munic']\n",
    "    df_pib = pd.read_excel(path_pib, skiprows=3, skipfooter=1, dtype={'Unnamed: 1': str})\n",
    "    df_pib.rename(columns={'Unnamed: 0': 'nivel', 'Unnamed: 1': 'cod_ibge7', \n",
    "                           'Unnamed: 2': 'municipio'}, inplace=True)\n",
    "    df_pib_pop = pd.merge(df_pop, df_pib, on='cod_ibge7')\n",
    "    return df_pib_pop.groupby('uf').agg({'pop2017' : ['sum', 'mean', 'median', 'std'], '2017' : ['sum', 'mean', 'median', 'std']})\n",
    "    ### END SOLUTION\n"
   ]
  },
  {
   "cell_type": "code",
   "execution_count": null,
   "metadata": {
    "nbgrader": {
     "grade": true,
     "grade_id": "cell-9ffdsa88d58e9282a",
     "locked": true,
     "points": 1,
     "schema_version": 3,
     "solution": false,
     "task": false
    }
   },
   "outputs": [],
   "source": [
    "# Faca aqui a validacao do Exercicio 9.1\n",
    "path_pib = 'https://github.com/alexlopespereira/enapespcd2021/raw/main/data/originais/pib/pib_municipios.xlsx'\n",
    "path_pop = 'https://github.com/alexlopespereira/enapespcd2021/raw/main/data/originais/populacao/estimativa_dou_2017.xlsx'\n",
    "\n",
    "test_data = {('pop2017', 'sum'): 829619.0,\n",
    " ('pop2017', 'mean'): 37710.0,\n",
    " ('pop2017', 'median'): 17903.5,\n",
    " ('pop2017', 'std'): 79036.0,\n",
    " ('2017', 'sum'): 14271061.0,\n",
    " ('2017', 'mean'): 648684.6,\n",
    " ('2017', 'median'): 229775.0,\n",
    " ('2017', 'std'): 1695166.9}\n",
    "\n",
    "entradas = [[path_pop, path_pib]]\n",
    "saidas = [test_data]\n",
    "validate(aggregate_pib_pop, entradas, lambda x: x.loc['AC'].apply(lambda x: round(x,1)).to_dict(), saidas, \"9.1\")\n"
   ]
  },
  {
   "cell_type": "markdown",
   "metadata": {},
   "source": [
    "### 9.2 Escreva uma função para agregar o dataset do Titanic por classe (pclass) e sexo (sex) e calcular a soma da coluna survived (sobrevivente) e a média e mediana da coluna fare (preço do ticket). O arredondamento para uma casa decimal é opcional.\n",
    "#### Dica: Faça a agregação usando um dicionário que mapeia a coluna e a(s) respectiva(s) métrica(s) de agregação solicitada(s) no enunciado.\n",
    "#### Resultado esperado:\n",
    "```\n",
    "              survived        fare          \n",
    "                   sum        mean    median\n",
    "pclass sex                                  \n",
    "1      female      139  109.412385  80.92915\n",
    "       male         61   69.888385  49.50420\n",
    "2      female       94   23.234827  23.00000\n",
    "       male         25   19.904946  13.00000\n",
    "3      female      106   15.324250  10.48960\n",
    "       male         75   12.415462   7.89580\n",
    "```\n",
    "#### Ou\n",
    "```\n",
    "              survived   fare          \n",
    "                   sum   mean median\n",
    "pclass sex                                  \n",
    "1      female      139  109.4   80.9\n",
    "       male         61   69.9   49.5\n",
    "2      female       94   23.2   23.0\n",
    "       male         25   19.9   13.0\n",
    "3      female      106   15.3   10.5\n",
    "       male         75   12.4    7.9\n",
    "```"
   ]
  },
  {
   "cell_type": "code",
   "execution_count": null,
   "metadata": {},
   "outputs": [],
   "source": [
    "# Faca aqui seus testes do Exercício 9.2\n",
    "path_titanic = 'https://github.com/alexlopespereira/enapespcd2021/raw/main/data/originais/titanic/titanic.xls'\n",
    "\n"
   ]
  },
  {
   "cell_type": "code",
   "execution_count": null,
   "metadata": {
    "nbgrader": {
     "grade": false,
     "grade_id": "cell-553em5248eb14bc30",
     "locked": false,
     "schema_version": 3,
     "solution": true,
     "task": false
    }
   },
   "outputs": [],
   "source": [
    "# Faca aqui sua função do Exercício 9.2\n",
    "def agg_titanic(df_titanic):\n",
    "    \"\"\"retorne aagregação do dataframe df_titanic por pclass e sex e calcular a soma \n",
    "       da coluna survived e a média e mediana da coluna fare.\n",
    "    \"\"\"\n",
    "    ### BEGIN SOLUTION\n",
    "    return df_titanic.groupby(['pclass', 'sex']).agg({'survived': 'sum', 'fare': ['mean', 'median']})\n",
    "    ### END SOLUTION\n"
   ]
  },
  {
   "cell_type": "code",
   "execution_count": null,
   "metadata": {
    "nbgrader": {
     "grade": true,
     "grade_id": "cell-0se2b6cefe06bdc60",
     "locked": true,
     "points": 1,
     "schema_version": 3,
     "solution": false,
     "task": false
    }
   },
   "outputs": [],
   "source": [
    "# Faca aqui a validacao do Exercicio 9.2\n",
    "path_titanic = 'https://github.com/alexlopespereira/enapespcd2021/raw/main/data/originais/titanic/titanic.xls'\n",
    "df_titanic = pd.read_excel(path_titanic)\n",
    "\n",
    "test_data = {('survived', 'sum'): {(1, 'female'): 139,  (1, 'male'): 61,\n",
    "  (2, 'female'): 94,  (2, 'male'): 25,  (3, 'female'): 106,  (3, 'male'): 75},\n",
    "  ('fare', 'mean'): {(1, 'female'): 109.4,  (1, 'male'): 69.9,  (2, 'female'): 23.2,\n",
    "  (2, 'male'): 19.9,  (3, 'female'): 15.3,  (3, 'male'): 12.4}, \n",
    "  ('fare', 'median'): {(1, 'female'): 80.9,  (1, 'male'): 49.5,  \n",
    "  (2, 'female'): 23.0,  (2, 'male'): 13.0,  (3, 'female'): 10.5,  (3, 'male'): 7.9}}\n",
    "\n",
    "\n",
    "entradas = [[df_titanic]]\n",
    "saidas = [test_data]\n",
    "validate(agg_titanic, entradas, lambda x: x.apply(lambda x: round(x, 1)).to_dict(), saidas, \"9.2\")"
   ]
  },
  {
   "cell_type": "markdown",
   "metadata": {},
   "source": [
    "### 9.3 Escreva uma função para realizar o agrupamento do dataset de morbidade por UF e por município aplicando a soma sobre as colunas Valor_total, Internações e Dias_permanência. Em seguida calcule, para todos os municípios nesta agregação, o custo médio diário das internações com a fórmula abaixo. O arredondamento é opcional. \n",
    "#### Dica: Faça a agregação usando um dicionário que mapeia a coluna e a respectiva métrica de agregação solicitada no enunciado.\n",
    "#### Use a seguinte fórmula para calculár o custo diário médio de internação:\n",
    "```python \n",
    "custo_medio_diario_intern = Valor_total/Dias_permanência\n",
    "```\n",
    "\n",
    "#### As 3 primeiras linhas do resultado esperado:\n",
    "```\n",
    "                 Valor_total  Internações  Dias_permanência   custo_medio_diario_intern\n",
    "uf municipio                                                  \n",
    "AC Acrelândia      579340.95        643.0            2805.0   206.538663 \n",
    "   Assis Brasil    418280.89        669.0            2518.0   166.116319 \n",
    "   Brasiléia      1814919.82       2118.0            8349.0   217.381701\n",
    "```\n",
    "\n",
    "#### Ou\n",
    "```\n",
    "                 Valor_total  Internações  Dias_permanência   custo_medio_diario_intern  \n",
    "uf municipio                                                  \n",
    "AC Acrelândia       579341.0        643.0            2805.0   206.5\n",
    "   Assis Brasil     418280.9        669.0            2518.0   166.1 \n",
    "   Brasiléia       1814919.8       2118.0            8349.0   217.4  \n",
    "```"
   ]
  },
  {
   "cell_type": "code",
   "execution_count": 32,
   "metadata": {},
   "outputs": [],
   "source": [
    "# Faca aqui seus testes do Exercício 9.3\n",
    "path_morbidade = 'https://github.com/alexlopespereira/enapespcd2021/raw/main/data/originais/morbidade/consolidado/morbidade.csv'\n",
    "path_pop = 'https://github.com/alexlopespereira/enapespcd2021/raw/main/data/originais/populacao/estimativa_dou_2017.xlsx'\n",
    "\n"
   ]
  },
  {
   "cell_type": "code",
   "execution_count": null,
   "metadata": {
    "nbgrader": {
     "grade": false,
     "grade_id": "cell-5b4dc5640fc839be",
     "locked": false,
     "schema_version": 3,
     "solution": true,
     "task": false
    }
   },
   "outputs": [],
   "source": [
    "# Faça aqui sua função do Exercício 9.3\n",
    "def custo_medio_internacao_agregado(df_morbidade_pop):\n",
    "    ### BEGIN SOLUTION\n",
    "    df_internacoes = df_morbidade_pop.groupby(['uf','municipio']).agg({'Valor_total': 'sum', 'Internações': 'sum', 'Dias_permanência': 'sum'})\n",
    "    df_internacoes['custo_medio_diario_intern'] = df_internacoes['Valor_total']/df_internacoes['Dias_permanência']\n",
    "    return df_internacoes\n",
    "    ### END SOLUTION"
   ]
  },
  {
   "cell_type": "code",
   "execution_count": null,
   "metadata": {
    "nbgrader": {
     "grade": true,
     "grade_id": "cell-eee2219340bc517c",
     "locked": true,
     "points": 1,
     "schema_version": 3,
     "solution": false,
     "task": false
    }
   },
   "outputs": [],
   "source": [
    "# Faca aqui a validacao do Exercicio 9.3\n",
    "path_morbidade = 'https://github.com/alexlopespereira/enapespcd2021/raw/main/data/originais/morbidade/consolidado/morbidade.csv'\n",
    "path_pop = 'https://github.com/alexlopespereira/enapespcd2021/raw/main/data/originais/populacao/estimativa_dou_2017.xlsx'\n",
    "\n",
    "test_data = {'Valor_total': 1534117.3,\n",
    " 'Internações': 1094.0,\n",
    " 'Dias_permanência': 5291.0,\n",
    " 'custo_medio_diario_intern': 289.9}\n",
    "\n",
    "df_pop = pd.read_excel(path_pop, sheet_name=\"Municipios\", dtype={'cod_munic': str, 'cod_uf': str})\n",
    "df_pop['cod_ibge6'] = df_pop['cod_uf'] + df_pop['cod_munic'].apply(lambda x: x[:-1])\n",
    "df_morbidade = pd.read_csv(path_morbidade, sep=';', decimal=',', dtype={'cod_ibge6': str}, \n",
    "                           na_values=['-', '...'])\n",
    "df_pop_morbidade = pd.merge(df_pop, df_morbidade, on='cod_ibge6') \n",
    "\n",
    "entradas = [[df_pop_morbidade]]\n",
    "saidas = [test_data]\n",
    "validate(custo_medio_internacao_agregado, entradas, lambda x: x.loc['GO','Abadia de Goiás'].apply(lambda x: round(x, 1)).to_dict(), saidas, \"9.3\")"
   ]
  },
  {
   "cell_type": "markdown",
   "metadata": {},
   "source": [
    "### 9.4 Crie uma função python para retornar a mediana da coluna Valor_total de 5 municípios do dataset de Morbidade do Datasus (ao longo do período representado no dataset disponibilizado). Os municípios de interesse são aqueles que obtiverem o maior custo médio diário de internação em todo o brasil, nesse período. \n",
    "#### Esta métrica de custo médio diário de internação foi calculada no exercício 9.3. \n",
    "#### Dica 1: Escreva algumas sentenças de código usando operações do pandas para encontrar quais são esses 5 municípios.\n",
    "#### Dica 2: Depois de encontrar o codigo IBGE desses 5 municípios, faça um filtro no dataframe dos dados de morbidade.\n",
    "#### Dica 3: Calcule as medianas das séries referentes a cada município, utilizando uma operação de groupby.\n",
    "\n",
    "#### Resultado esperado:\n",
    "```\n",
    "                                 Valor_total\n",
    "municipio             cod_ibge6             \n",
    "Campina Grande do Sul 410400      2579493.47\n",
    "Cardoso Moreira       330115       167867.62\n",
    "Italva                330205       147509.47\n",
    "Pedrinhas Paulista    353715        30360.03\n",
    "Taquaral              355365        15871.31\n",
    "\n",
    "``` \n",
    "\n",
    "#### Ou:\n",
    "```\n",
    "               municipio cod_ibge6  Valor_total\n",
    "0  Campina Grande do Sul    410400   2579493.47\n",
    "1        Cardoso Moreira    330115    167867.62\n",
    "2                 Italva    330205    147509.47\n",
    "3     Pedrinhas Paulista    353715     30360.03\n",
    "4               Taquaral    355365     15871.31\n",
    "```"
   ]
  },
  {
   "cell_type": "code",
   "execution_count": 35,
   "metadata": {},
   "outputs": [
    {
     "name": "stdout",
     "output_type": "stream",
     "text": [
      "               municipio cod_ibge6  Valor_total\n",
      "0  Campina Grande do Sul    410400   2579493.47\n",
      "1        Cardoso Moreira    330115    167867.62\n",
      "2                 Italva    330205    147509.47\n",
      "3     Pedrinhas Paulista    353715     30360.03\n",
      "4               Taquaral    355365     15871.31\n"
     ]
    }
   ],
   "source": [
    "# Faca aqui seus testes do Exercício 9.4\n",
    "path_morbidade = 'https://github.com/alexlopespereira/enapespcd2021/raw/main/data/originais/morbidade/consolidado/morbidade.csv'\n",
    "path_pop = 'https://github.com/alexlopespereira/enapespcd2021/raw/main/data/originais/populacao/estimativa_dou_2017.xlsx'\n",
    "print(median_top5(path_morbidade, path_pop).reset_index())"
   ]
  },
  {
   "cell_type": "code",
   "execution_count": null,
   "metadata": {
    "nbgrader": {
     "grade": false,
     "grade_id": "cell-919c16309d90227d",
     "locked": false,
     "schema_version": 3,
     "solution": true,
     "task": false
    }
   },
   "outputs": [],
   "source": [
    "# Faca aqui sua função do Exercício 9.4\n",
    "def median_top5(path_morbidade, path_pop):\n",
    "    df_pop = pd.read_excel(path_pop, sheet_name=\"Municipios\", dtype={'cod_munic': str, 'cod_uf': str})\n",
    "    # Concatena o codigo da UF com o codigo do municipio\n",
    "    df_pop['cod_ibge6'] = df_pop['cod_uf'] + df_pop['cod_munic'].apply(lambda x: x[:-1])\n",
    "    df_morbidade = pd.read_csv(path_morbidade, sep=';', decimal=',', dtype={'cod_ibge6': str}, \n",
    "                               na_values=['-', '...'])\n",
    "    df_pop_morb =  pd.merge(df_pop, df_morbidade, on='cod_ibge6')\n",
    "    grouped=df_pop_morb.groupby(['municipio', 'cod_ibge6'])\n",
    "    df_final = grouped.agg({'Valor_total':'sum','Internações':'sum','Dias_permanência':'sum'})\n",
    "    df_final['custo_medio_diario_intern'] = df_final['Valor_total']/df_final['Dias_permanência']\n",
    "    df_final.sort_values(by=['custo_medio_diario_intern'],ascending=False, inplace=True)\n",
    "    df_final = df_final.iloc[:5]\n",
    "    selecao = df_final.reset_index(level='cod_ibge6')['cod_ibge6']\n",
    "    df_selecao = df_pop_morb[df_pop_morb['cod_ibge6'].isin(selecao)]\n",
    "    return df_selecao[['Valor_total', 'municipio', 'cod_ibge6']].groupby(['municipio', 'cod_ibge6']).median()"
   ]
  },
  {
   "cell_type": "code",
   "execution_count": null,
   "metadata": {},
   "outputs": [],
   "source": [
    "# Faca aqui a validacao do Exercicio 9.4\n",
    "path_morbidade = 'https://github.com/alexlopespereira/enapespcd2021/raw/main/data/originais/morbidade/consolidado/morbidade.csv'\n",
    "path_pop = 'https://github.com/alexlopespereira/enapespcd2021/raw/main/data/originais/populacao/estimativa_dou_2017.xlsx'\n",
    "test_data = {'Valor_total': {0: 2579493.47, 1: 167867.62, 2: 147509.47, 3: 30360.03, 4: 15871.31}, \n",
    "              'cod_ibge6': {0: '410400', 1: '330115', 2: '330205', 3: '353715', 4: '355365'}, \n",
    "              'municipio': {0: 'Campina Grande do Sul', 1: 'Cardoso Moreira', 2: 'Italva', 3: 'Pedrinhas Paulista', 4: 'Taquaral'}}\n",
    "\n",
    "\n",
    "entradas = [[path_morbidade, path_pop]]\n",
    "saidas = [test_data]\n",
    "val1, m = validate(median_top5, entradas, lambda x: x.reset_index()[['municipio', 'cod_ibge6', 'Valor_total', ]].to_dict(), saidas, \"9.4\")\n",
    "print(m)"
   ]
  }
 ],
 "metadata": {
  "celltoolbar": "Create Assignment",
  "kernelspec": {
   "display_name": "Python 3",
   "language": "python",
   "name": "python3"
  },
  "language_info": {
   "codemirror_mode": {
    "name": "ipython",
    "version": 3
   },
   "file_extension": ".py",
   "mimetype": "text/x-python",
   "name": "python",
   "nbconvert_exporter": "python",
   "pygments_lexer": "ipython3",
   "version": "3.8.3"
  },
  "name": "_merged",
  "varInspector": {
   "cols": {
    "lenName": 16,
    "lenType": 16,
    "lenVar": 40
   },
   "kernels_config": {
    "python": {
     "delete_cmd_postfix": "",
     "delete_cmd_prefix": "del ",
     "library": "var_list.py",
     "varRefreshCmd": "print(var_dic_list())"
    },
    "r": {
     "delete_cmd_postfix": ") ",
     "delete_cmd_prefix": "rm(",
     "library": "var_list.r",
     "varRefreshCmd": "cat(var_dic_list()) "
    }
   },
   "types_to_exclude": [
    "module",
    "function",
    "builtin_function_or_method",
    "instance",
    "_Feature"
   ],
   "window_display": false
  }
 },
 "nbformat": 4,
 "nbformat_minor": 4
}
