{
  "cells": [
    {
      "cell_type": "markdown",
      "metadata": {
        "id": "view-in-github",
        "colab_type": "text"
      },
      "source": [
        "<a href=\"https://colab.research.google.com/github/alexlopespereira/mba_enap/blob/main/Exercicios/Aula6_Exercicio.ipynb\" target=\"_parent\"><img src=\"https://colab.research.google.com/assets/colab-badge.svg\" alt=\"Open In Colab\"/></a>"
      ]
    },
    {
      "cell_type": "markdown",
      "metadata": {
        "id": "qkRSuajToMi4"
      },
      "source": [
        "# Aula 6 - Exercícios - Pandas e Fontes de dados"
      ]
    },
    {
      "cell_type": "code",
      "execution_count": 65,
      "metadata": {
        "id": "RkNwKAd8kJz5"
      },
      "outputs": [],
      "source": [
        "!pip install --upgrade ipynb_autograde 1> /dev/null"
      ]
    },
    {
      "cell_type": "code",
      "source": [
        "\n",
        "%env  COURSE=mba_enap\n",
        "from ipynb_autograde.main import init_log, validate\n",
        "init_log()\n",
        "email_result=!gcloud config get-value account\n",
        "if not email_result or 'unset' in email_result[0]:\n",
        "  !gcloud auth login"
      ],
      "metadata": {
        "id": "WxBHNGxie9BB",
        "colab": {
          "base_uri": "https://localhost:8080/"
        },
        "outputId": "087ab24d-374f-40e6-9372-f50802d1bfcd"
      },
      "execution_count": 66,
      "outputs": [
        {
          "output_type": "stream",
          "name": "stdout",
          "text": [
            "env: COURSE=mba_enap\n"
          ]
        }
      ]
    },
    {
      "cell_type": "code",
      "execution_count": 17,
      "metadata": {
        "id": "NaOcSO9AoMi_"
      },
      "outputs": [],
      "source": [
        "# Importe as bibliotecas pandas, numpy\n",
        "import pandas as pd\n",
        "import numpy as np\n",
        "from numpy import nan"
      ]
    },
    {
      "cell_type": "markdown",
      "metadata": {
        "id": "Up1ah0hCoMjC"
      },
      "source": [
        "### 6.1 Crie um prompt de uma função python para calcular a média do IDEB de 2017, de uma determinada UF e da Rede Municipal.\n",
        "\n",
        "#### Entrada: ```https://github.com/alexlopespereira/mba_enap/raw/main/data/originais/ideb/ideb_municipios2017.xlsx``` e ```'GO'```\n",
        "\n",
        "#### Resultado esperado: ```4.0```\n",
        "\n",
        "#### Entrada: ```https://github.com/alexlopespereira/mba_enap/raw/main/data/originais/ideb/ideb_municipios2017.xlsx``` e ```'SC'```\n",
        "\n",
        "#### Resultado esperado: ```4.5```\n",
        "\n",
        "#### Entrada: ```https://github.com/alexlopespereira/mba_enap/raw/main/data/originais/ideb/ideb_municipios2017.xlsx``` e ```'SP'```\n",
        "\n",
        "#### Resultado esperado: ```4.9```"
      ]
    },
    {
      "cell_type": "code",
      "source": [
        "prompt61=\"\"\"Crie uma função em Python chamada calcular_media_ideb que calcula a média do IDEB de 2017 para escolas públicas de um estado específico cuja URL do xlsx foi passada como argumento da função, juntamente com a sigla da UF. A função deve carregar o DataFrame, descartar as 9 primeiras linhas. Substituir valores ausentes representados por '-' por NaN e filtrar os dados apenas para escolas municipal cuja Rede (coluna de índice 3) seja igual a 'Municipal' e cuja UF (1a coluna) seja igual ao argumento uf passado na função. Calcule a média da coluna de índice 14 considerando e retorne o valor arredondado para baixo com uma casa decimal.\"\"\""
      ],
      "metadata": {
        "id": "YFgDD4s3mWn9"
      },
      "execution_count": 89,
      "outputs": []
    },
    {
      "cell_type": "code",
      "source": [
        "validate(prompt61, \"A6-E1\")"
      ],
      "metadata": {
        "id": "lnuI-Ih_on-U",
        "outputId": "92ecc46a-e1c9-4f5b-d1cc-7d7e2bebfa54",
        "colab": {
          "base_uri": "https://localhost:8080/"
        }
      },
      "execution_count": 92,
      "outputs": [
        {
          "output_type": "stream",
          "name": "stdout",
          "text": [
            "Codigo gerado: \n",
            "def calcular_media_ideb(url, uf):\n",
            "\n",
            "\n",
            "    df = pd.read_excel(url, skiprows=9)\n",
            "    df.replace('-', np.nan, inplace=True)\n",
            "    df_filtered = df[(df.iloc[:, 3] == 'Municipal') & (df.iloc[:, 0] == uf)]\n",
            "    coluna_ideb = df_filtered.iloc[:, 14].astype(float)\n",
            "    media = coluna_ideb.mean()\n",
            "    media_arredondada = int(media * 10) / 10\n",
            "    return media_arredondada\n",
            "\n",
            "✅ Passed Test Cases:\n",
            "  - Test ID: 1: 4.5\n",
            "  - Test ID: 1: 4.9\n",
            "  - Test ID: 1: 4.0\n",
            "\n",
            "❌ No tests failed.\n"
          ]
        }
      ]
    },
    {
      "cell_type": "markdown",
      "metadata": {
        "id": "uFNe09j-oMjF"
      },
      "source": [
        "### 6.2 Crie um prompt de uma função python para distribuir pessoas de forma aleatoria em grupos conforme o exemplo a seguir. O 1o argumento é a lista de nomes, o 2o é uma semente (para garantir a replicabilidade do experimento) e o 3o é o tamanho do grupo.\n",
        "\n",
        "#### Entrada: ```[\"Lisa Watson\", \"Gilbert Ravenell\", \"Olga Crocker\", \"Julie Lewis\", \"Kimberly Ransome\", \"Jennifer Daniels\", \"Jillian Brennan\", \"Mary Phinney\", \"Michelle Humphreys\"]```, ```42``` e ```4```\n",
        "\n",
        "#### Resultado esperado:\n",
        "Um dataframe exatamente igual a esse\n",
        "\n",
        "|    | Grupo   | Nome               |\n",
        "|---:|:--------|:-------------------|\n",
        "|  0 | Grupo 1 | Julie Lewis        |\n",
        "|  1 | Grupo 1 | Jillian Brennan    |\n",
        "|  2 | Grupo 1 | Mary Phinney       |\n",
        "|  3 | Grupo 1 | Kimberly Ransome   |\n",
        "|  4 | Grupo 2 | Michelle Humphreys |\n",
        "|  5 | Grupo 2 | Olga Crocker       |\n",
        "|  6 | Grupo 2 | Jennifer Daniels   |\n",
        "|  7 | Grupo 2 | Lisa Watson        |\n",
        "|  8 | Grupo 3 | Gilbert Ravenell   |\n",
        "\n",
        "#### Dica 1: A função len calcula o tamanho de uma lista.\n",
        "#### Dica 2: Use a função math.ceil(N/n), onde N é o tamanho da lista e n é a quantidade de pessoas em cada grupo.\n"
      ]
    },
    {
      "cell_type": "code",
      "source": [
        "prompt62=\"\"\"Escreva uma função para gerar uma permutação (aleatória) de uma lista, passada como argumento, usando um seed (2o argumento) para garantir a replicabilidade dos experimentos e colocar o resultado essa lista reordenada numa coluna do dataframe chamada Nome. Uma outra coluna deve ser criada contendo o padrão \"Grupo X\" repetido N vezes, N é o 3o argumento da função e representa o tamanho do grupo, e X deve variar de 1 a até len(lista)/N, se não houver resto da divisão len(lista)/N, ou então X terá o valor máximo de len(lista)/N + 1, caso a divisão não seja inteira.\"\"\""
      ],
      "metadata": {
        "id": "as1eBUiUxwcu"
      },
      "execution_count": 97,
      "outputs": []
    },
    {
      "cell_type": "code",
      "source": [
        "validate(prompt62, \"A6-E2\")"
      ],
      "metadata": {
        "id": "sVUrZxEJyXXf",
        "outputId": "4f741c69-bcc0-4123-9160-7da9f72b109c",
        "colab": {
          "base_uri": "https://localhost:8080/"
        }
      },
      "execution_count": 98,
      "outputs": [
        {
          "output_type": "stream",
          "name": "stdout",
          "text": [
            "Codigo gerado: \n",
            "\n",
            "\n",
            "\n",
            "\n",
            "def gerar_permutacao(lst, seed, N):\n",
            "    random.seed(seed)\n",
            "    shuffled_list = lst.copy()\n",
            "    random.shuffle(shuffled_list)\n",
            "    \n",
            "    total_grupos = math.ceil(len(shuffled_list) / N)\n",
            "    grupos = []\n",
            "    for i in range(len(shuffled_list)):\n",
            "        grupo_num = (i // N) + 1\n",
            "        grupos.append(f\"Grupo {grupo_num}\")\n",
            "    \n",
            "    df = pd.DataFrame({\n",
            "        'Nome': shuffled_list,\n",
            "        'Grupo': grupos\n",
            "    })\n",
            "    \n",
            "    return df\n",
            "\n",
            "\n",
            "❌ Failed the Test Case:\n",
            "  Expected: {'aggregation_summary': {'means': {}, 'sums': {}, 'total_rows': {'max': 9, 'min': 9}}, 'verified_samples': [{'expected_values': {'Nome': 'Gilbert Ravenell'}, 'filter': {'Grupo': 'Grupo 2'}}]}\n",
            "  Delivered: {'aggregation_summary': {'means': {}, 'sums': {}, 'total_rows': {'max': 9, 'min': 9}}, 'verified_samples': [{'expected_values': {'Nome': 'Gilbert Ravenell'}, 'filter': {'Grupo': 'Grupo 2'}}]}\n"
          ]
        }
      ]
    },
    {
      "cell_type": "code",
      "source": [
        "import random\n",
        "def gerar_permutacao(lst, seed, N):\n",
        "    random.seed(seed)\n",
        "    shuffled_list = lst.copy()\n",
        "    random.shuffle(shuffled_list)\n",
        "\n",
        "    total_grupos = math.ceil(len(shuffled_list) / N)\n",
        "    grupos = []\n",
        "    for i in range(len(shuffled_list)):\n",
        "        grupo_num = (i // N) + 1\n",
        "        grupos.append(f\"Grupo {grupo_num}\")\n",
        "\n",
        "    df = pd.DataFrame({\n",
        "        'Grupo': grupos,\n",
        "        'Nome': shuffled_list\n",
        "    })\n",
        "\n",
        "    return df\n",
        "df = gerar_permutacao([\"Lisa Watson\", \"Gilbert Ravenell\", \"Olga Crocker\", \"Julie Lewis\", \"Kimberly Ransome\", \"Jennifer Daniels\", \"Jillian Brennan\", \"Mary Phinney\", \"Michelle Humphreys\"], 42, 4)\n",
        "df.to_markdown()"
      ],
      "metadata": {
        "id": "TBl-SbBkp5JA",
        "outputId": "a287243c-aa5c-471a-82b0-dce738ff0a06",
        "colab": {
          "base_uri": "https://localhost:8080/",
          "height": 90
        }
      },
      "execution_count": 103,
      "outputs": [
        {
          "output_type": "execute_result",
          "data": {
            "text/plain": [
              "'|    | Grupo   | Nome               |\\n|---:|:--------|:-------------------|\\n|  0 | Grupo 1 | Julie Lewis        |\\n|  1 | Grupo 1 | Jillian Brennan    |\\n|  2 | Grupo 1 | Mary Phinney       |\\n|  3 | Grupo 1 | Kimberly Ransome   |\\n|  4 | Grupo 2 | Michelle Humphreys |\\n|  5 | Grupo 2 | Olga Crocker       |\\n|  6 | Grupo 2 | Jennifer Daniels   |\\n|  7 | Grupo 2 | Lisa Watson        |\\n|  8 | Grupo 3 | Gilbert Ravenell   |'"
            ],
            "application/vnd.google.colaboratory.intrinsic+json": {
              "type": "string"
            }
          },
          "metadata": {},
          "execution_count": 103
        }
      ]
    },
    {
      "cell_type": "code",
      "execution_count": 76,
      "metadata": {
        "nbgrader": {
          "grade": false,
          "grade_id": "cell-553em5248eb14bc30",
          "locked": false,
          "schema_version": 3,
          "solution": true,
          "task": false
        },
        "id": "7QUYvS1doMjF"
      },
      "outputs": [],
      "source": [
        "def gerar_permutacao_em_grupos(names_list, seed, n):\n",
        "    import math\n",
        "    import pandas as pd\n",
        "    import random\n",
        "\n",
        "    # Set the random seed\n",
        "    random.seed(seed)\n",
        "\n",
        "    # Calculate number of people and groups needed\n",
        "    N = len(names_list)\n",
        "    num_groups = math.ceil(N/n)\n",
        "\n",
        "    # Create list of group names repeated n times\n",
        "    groups = ['Grupo ' + str(g) for g in range(num_groups)] * n\n",
        "    groups.sort()\n",
        "    groups = groups[:N]  # Trim to match number of names\n",
        "\n",
        "    # Shuffle the names\n",
        "    shuffled_names = names_list.copy()  # Create a copy to avoid modifying original list\n",
        "    random.shuffle(shuffled_names)\n",
        "\n",
        "    # Create DataFrame with explicit columns\n",
        "    df = pd.DataFrame({\n",
        "        'Grupo': groups,\n",
        "        'Nome': shuffled_names\n",
        "    })\n",
        "\n",
        "    return df"
      ]
    },
    {
      "cell_type": "code",
      "execution_count": 79,
      "metadata": {
        "id": "IJVO8qiwoMjG",
        "colab": {
          "base_uri": "https://localhost:8080/",
          "height": 352
        },
        "outputId": "56215149-2549-4280-e8b1-20a58362458a"
      },
      "outputs": [
        {
          "output_type": "execute_result",
          "data": {
            "text/plain": [
              "     Grupo                Nome\n",
              "0  Grupo 0         Julie Lewis\n",
              "1  Grupo 0     Jillian Brennan\n",
              "2  Grupo 0        Mary Phinney\n",
              "3  Grupo 0    Kimberly Ransome\n",
              "4  Grupo 1  Michelle Humphreys\n",
              "5  Grupo 1        Olga Crocker\n",
              "6  Grupo 1    Jennifer Daniels\n",
              "7  Grupo 1         Lisa Watson\n",
              "8  Grupo 2    Gilbert Ravenell"
            ],
            "text/html": [
              "\n",
              "  <div id=\"df-4ec815f4-24e1-487f-9854-f98880ea90f8\" class=\"colab-df-container\">\n",
              "    <div>\n",
              "<style scoped>\n",
              "    .dataframe tbody tr th:only-of-type {\n",
              "        vertical-align: middle;\n",
              "    }\n",
              "\n",
              "    .dataframe tbody tr th {\n",
              "        vertical-align: top;\n",
              "    }\n",
              "\n",
              "    .dataframe thead th {\n",
              "        text-align: right;\n",
              "    }\n",
              "</style>\n",
              "<table border=\"1\" class=\"dataframe\">\n",
              "  <thead>\n",
              "    <tr style=\"text-align: right;\">\n",
              "      <th></th>\n",
              "      <th>Grupo</th>\n",
              "      <th>Nome</th>\n",
              "    </tr>\n",
              "  </thead>\n",
              "  <tbody>\n",
              "    <tr>\n",
              "      <th>0</th>\n",
              "      <td>Grupo 0</td>\n",
              "      <td>Julie Lewis</td>\n",
              "    </tr>\n",
              "    <tr>\n",
              "      <th>1</th>\n",
              "      <td>Grupo 0</td>\n",
              "      <td>Jillian Brennan</td>\n",
              "    </tr>\n",
              "    <tr>\n",
              "      <th>2</th>\n",
              "      <td>Grupo 0</td>\n",
              "      <td>Mary Phinney</td>\n",
              "    </tr>\n",
              "    <tr>\n",
              "      <th>3</th>\n",
              "      <td>Grupo 0</td>\n",
              "      <td>Kimberly Ransome</td>\n",
              "    </tr>\n",
              "    <tr>\n",
              "      <th>4</th>\n",
              "      <td>Grupo 1</td>\n",
              "      <td>Michelle Humphreys</td>\n",
              "    </tr>\n",
              "    <tr>\n",
              "      <th>5</th>\n",
              "      <td>Grupo 1</td>\n",
              "      <td>Olga Crocker</td>\n",
              "    </tr>\n",
              "    <tr>\n",
              "      <th>6</th>\n",
              "      <td>Grupo 1</td>\n",
              "      <td>Jennifer Daniels</td>\n",
              "    </tr>\n",
              "    <tr>\n",
              "      <th>7</th>\n",
              "      <td>Grupo 1</td>\n",
              "      <td>Lisa Watson</td>\n",
              "    </tr>\n",
              "    <tr>\n",
              "      <th>8</th>\n",
              "      <td>Grupo 2</td>\n",
              "      <td>Gilbert Ravenell</td>\n",
              "    </tr>\n",
              "  </tbody>\n",
              "</table>\n",
              "</div>\n",
              "    <div class=\"colab-df-buttons\">\n",
              "\n",
              "  <div class=\"colab-df-container\">\n",
              "    <button class=\"colab-df-convert\" onclick=\"convertToInteractive('df-4ec815f4-24e1-487f-9854-f98880ea90f8')\"\n",
              "            title=\"Convert this dataframe to an interactive table.\"\n",
              "            style=\"display:none;\">\n",
              "\n",
              "  <svg xmlns=\"http://www.w3.org/2000/svg\" height=\"24px\" viewBox=\"0 -960 960 960\">\n",
              "    <path d=\"M120-120v-720h720v720H120Zm60-500h600v-160H180v160Zm220 220h160v-160H400v160Zm0 220h160v-160H400v160ZM180-400h160v-160H180v160Zm440 0h160v-160H620v160ZM180-180h160v-160H180v160Zm440 0h160v-160H620v160Z\"/>\n",
              "  </svg>\n",
              "    </button>\n",
              "\n",
              "  <style>\n",
              "    .colab-df-container {\n",
              "      display:flex;\n",
              "      gap: 12px;\n",
              "    }\n",
              "\n",
              "    .colab-df-convert {\n",
              "      background-color: #E8F0FE;\n",
              "      border: none;\n",
              "      border-radius: 50%;\n",
              "      cursor: pointer;\n",
              "      display: none;\n",
              "      fill: #1967D2;\n",
              "      height: 32px;\n",
              "      padding: 0 0 0 0;\n",
              "      width: 32px;\n",
              "    }\n",
              "\n",
              "    .colab-df-convert:hover {\n",
              "      background-color: #E2EBFA;\n",
              "      box-shadow: 0px 1px 2px rgba(60, 64, 67, 0.3), 0px 1px 3px 1px rgba(60, 64, 67, 0.15);\n",
              "      fill: #174EA6;\n",
              "    }\n",
              "\n",
              "    .colab-df-buttons div {\n",
              "      margin-bottom: 4px;\n",
              "    }\n",
              "\n",
              "    [theme=dark] .colab-df-convert {\n",
              "      background-color: #3B4455;\n",
              "      fill: #D2E3FC;\n",
              "    }\n",
              "\n",
              "    [theme=dark] .colab-df-convert:hover {\n",
              "      background-color: #434B5C;\n",
              "      box-shadow: 0px 1px 3px 1px rgba(0, 0, 0, 0.15);\n",
              "      filter: drop-shadow(0px 1px 2px rgba(0, 0, 0, 0.3));\n",
              "      fill: #FFFFFF;\n",
              "    }\n",
              "  </style>\n",
              "\n",
              "    <script>\n",
              "      const buttonEl =\n",
              "        document.querySelector('#df-4ec815f4-24e1-487f-9854-f98880ea90f8 button.colab-df-convert');\n",
              "      buttonEl.style.display =\n",
              "        google.colab.kernel.accessAllowed ? 'block' : 'none';\n",
              "\n",
              "      async function convertToInteractive(key) {\n",
              "        const element = document.querySelector('#df-4ec815f4-24e1-487f-9854-f98880ea90f8');\n",
              "        const dataTable =\n",
              "          await google.colab.kernel.invokeFunction('convertToInteractive',\n",
              "                                                    [key], {});\n",
              "        if (!dataTable) return;\n",
              "\n",
              "        const docLinkHtml = 'Like what you see? Visit the ' +\n",
              "          '<a target=\"_blank\" href=https://colab.research.google.com/notebooks/data_table.ipynb>data table notebook</a>'\n",
              "          + ' to learn more about interactive tables.';\n",
              "        element.innerHTML = '';\n",
              "        dataTable['output_type'] = 'display_data';\n",
              "        await google.colab.output.renderOutput(dataTable, element);\n",
              "        const docLink = document.createElement('div');\n",
              "        docLink.innerHTML = docLinkHtml;\n",
              "        element.appendChild(docLink);\n",
              "      }\n",
              "    </script>\n",
              "  </div>\n",
              "\n",
              "\n",
              "<div id=\"df-5dad0c97-0e42-4d23-bc37-608a90b62b62\">\n",
              "  <button class=\"colab-df-quickchart\" onclick=\"quickchart('df-5dad0c97-0e42-4d23-bc37-608a90b62b62')\"\n",
              "            title=\"Suggest charts\"\n",
              "            style=\"display:none;\">\n",
              "\n",
              "<svg xmlns=\"http://www.w3.org/2000/svg\" height=\"24px\"viewBox=\"0 0 24 24\"\n",
              "     width=\"24px\">\n",
              "    <g>\n",
              "        <path d=\"M19 3H5c-1.1 0-2 .9-2 2v14c0 1.1.9 2 2 2h14c1.1 0 2-.9 2-2V5c0-1.1-.9-2-2-2zM9 17H7v-7h2v7zm4 0h-2V7h2v10zm4 0h-2v-4h2v4z\"/>\n",
              "    </g>\n",
              "</svg>\n",
              "  </button>\n",
              "\n",
              "<style>\n",
              "  .colab-df-quickchart {\n",
              "      --bg-color: #E8F0FE;\n",
              "      --fill-color: #1967D2;\n",
              "      --hover-bg-color: #E2EBFA;\n",
              "      --hover-fill-color: #174EA6;\n",
              "      --disabled-fill-color: #AAA;\n",
              "      --disabled-bg-color: #DDD;\n",
              "  }\n",
              "\n",
              "  [theme=dark] .colab-df-quickchart {\n",
              "      --bg-color: #3B4455;\n",
              "      --fill-color: #D2E3FC;\n",
              "      --hover-bg-color: #434B5C;\n",
              "      --hover-fill-color: #FFFFFF;\n",
              "      --disabled-bg-color: #3B4455;\n",
              "      --disabled-fill-color: #666;\n",
              "  }\n",
              "\n",
              "  .colab-df-quickchart {\n",
              "    background-color: var(--bg-color);\n",
              "    border: none;\n",
              "    border-radius: 50%;\n",
              "    cursor: pointer;\n",
              "    display: none;\n",
              "    fill: var(--fill-color);\n",
              "    height: 32px;\n",
              "    padding: 0;\n",
              "    width: 32px;\n",
              "  }\n",
              "\n",
              "  .colab-df-quickchart:hover {\n",
              "    background-color: var(--hover-bg-color);\n",
              "    box-shadow: 0 1px 2px rgba(60, 64, 67, 0.3), 0 1px 3px 1px rgba(60, 64, 67, 0.15);\n",
              "    fill: var(--button-hover-fill-color);\n",
              "  }\n",
              "\n",
              "  .colab-df-quickchart-complete:disabled,\n",
              "  .colab-df-quickchart-complete:disabled:hover {\n",
              "    background-color: var(--disabled-bg-color);\n",
              "    fill: var(--disabled-fill-color);\n",
              "    box-shadow: none;\n",
              "  }\n",
              "\n",
              "  .colab-df-spinner {\n",
              "    border: 2px solid var(--fill-color);\n",
              "    border-color: transparent;\n",
              "    border-bottom-color: var(--fill-color);\n",
              "    animation:\n",
              "      spin 1s steps(1) infinite;\n",
              "  }\n",
              "\n",
              "  @keyframes spin {\n",
              "    0% {\n",
              "      border-color: transparent;\n",
              "      border-bottom-color: var(--fill-color);\n",
              "      border-left-color: var(--fill-color);\n",
              "    }\n",
              "    20% {\n",
              "      border-color: transparent;\n",
              "      border-left-color: var(--fill-color);\n",
              "      border-top-color: var(--fill-color);\n",
              "    }\n",
              "    30% {\n",
              "      border-color: transparent;\n",
              "      border-left-color: var(--fill-color);\n",
              "      border-top-color: var(--fill-color);\n",
              "      border-right-color: var(--fill-color);\n",
              "    }\n",
              "    40% {\n",
              "      border-color: transparent;\n",
              "      border-right-color: var(--fill-color);\n",
              "      border-top-color: var(--fill-color);\n",
              "    }\n",
              "    60% {\n",
              "      border-color: transparent;\n",
              "      border-right-color: var(--fill-color);\n",
              "    }\n",
              "    80% {\n",
              "      border-color: transparent;\n",
              "      border-right-color: var(--fill-color);\n",
              "      border-bottom-color: var(--fill-color);\n",
              "    }\n",
              "    90% {\n",
              "      border-color: transparent;\n",
              "      border-bottom-color: var(--fill-color);\n",
              "    }\n",
              "  }\n",
              "</style>\n",
              "\n",
              "  <script>\n",
              "    async function quickchart(key) {\n",
              "      const quickchartButtonEl =\n",
              "        document.querySelector('#' + key + ' button');\n",
              "      quickchartButtonEl.disabled = true;  // To prevent multiple clicks.\n",
              "      quickchartButtonEl.classList.add('colab-df-spinner');\n",
              "      try {\n",
              "        const charts = await google.colab.kernel.invokeFunction(\n",
              "            'suggestCharts', [key], {});\n",
              "      } catch (error) {\n",
              "        console.error('Error during call to suggestCharts:', error);\n",
              "      }\n",
              "      quickchartButtonEl.classList.remove('colab-df-spinner');\n",
              "      quickchartButtonEl.classList.add('colab-df-quickchart-complete');\n",
              "    }\n",
              "    (() => {\n",
              "      let quickchartButtonEl =\n",
              "        document.querySelector('#df-5dad0c97-0e42-4d23-bc37-608a90b62b62 button');\n",
              "      quickchartButtonEl.style.display =\n",
              "        google.colab.kernel.accessAllowed ? 'block' : 'none';\n",
              "    })();\n",
              "  </script>\n",
              "</div>\n",
              "\n",
              "    </div>\n",
              "  </div>\n"
            ],
            "application/vnd.google.colaboratory.intrinsic+json": {
              "type": "dataframe",
              "summary": "{\n  \"name\": \"gerar_permutacao_em_grupos(nomes, 42, 4)\",\n  \"rows\": 9,\n  \"fields\": [\n    {\n      \"column\": \"Grupo\",\n      \"properties\": {\n        \"dtype\": \"category\",\n        \"num_unique_values\": 3,\n        \"samples\": [\n          \"Grupo 0\",\n          \"Grupo 1\",\n          \"Grupo 2\"\n        ],\n        \"semantic_type\": \"\",\n        \"description\": \"\"\n      }\n    },\n    {\n      \"column\": \"Nome\",\n      \"properties\": {\n        \"dtype\": \"string\",\n        \"num_unique_values\": 9,\n        \"samples\": [\n          \"Lisa Watson\",\n          \"Jillian Brennan\",\n          \"Olga Crocker\"\n        ],\n        \"semantic_type\": \"\",\n        \"description\": \"\"\n      }\n    }\n  ]\n}"
            }
          },
          "metadata": {},
          "execution_count": 79
        }
      ],
      "source": [
        "## Faça seus testes aqui\n",
        "# Instale a biblioteca names, na primeira vez que rodar esta célula\n",
        "#!pip install names  ##### Execute esta linha na primeira vez que executar esta célula !!! ####\n",
        "nomes = ['Lisa Watson', 'Gilbert Ravenell', 'Olga Crocker', 'Julie Lewis', 'Kimberly Ransome', 'Jennifer Daniels', 'Jillian Brennan', 'Mary Phinney', 'Michelle Humphreys']\n",
        "\n",
        "gerar_permutacao_em_grupos(nomes, 42, 4)\n"
      ]
    },
    {
      "cell_type": "code",
      "execution_count": null,
      "metadata": {
        "nbgrader": {
          "grade": true,
          "grade_id": "cell-0se2b6cefe06bdc60",
          "locked": true,
          "points": 1,
          "schema_version": 3,
          "solution": false,
          "task": false
        },
        "id": "01QpFRgDoMjH"
      },
      "outputs": [],
      "source": [
        "# Validação\n",
        "import names\n",
        "N = 9\n",
        "group_length = 4\n",
        "test_data = [names.get_full_name() for n in range(N)]\n",
        "result = ['Grupo 0', 'Grupo 0', 'Grupo 0', 'Grupo 0', 'Grupo 1', 'Grupo 1', 'Grupo 1', 'Grupo 1', 'Grupo 2']\n",
        "\n",
        "entradas = [[test_data, group_length]]\n",
        "saidas = [result]\n",
        "validate(create_groups, entradas, lambda x: x.index.to_list(), saidas, \"6.2\", False)"
      ]
    },
    {
      "cell_type": "markdown",
      "metadata": {
        "nbgrader": {
          "grade": false,
          "grade_id": "cell-553e524r8eb14bc30",
          "locked": false,
          "schema_version": 3,
          "solution": false,
          "task": false
        },
        "id": "AWRRpOzgoMjH"
      },
      "source": [
        "### 6.3 Escreva uma função para carregar corretamente o dataframe de população disponibilizado. A função deve receber como argumento o caminho para o dataset. Crie uma coluna chamada ```cod_ibge7``` a partir da concatenação  do conteúdo das colunas ```cod_uf``` e ```cod_munic``` (nesta ordem).\n",
        "\n",
        "#### Dica 1: Converta o codigo do município para string ao carregar o dataframe de população utilizando o mapeamento de tipos dtype={'cod_munic': str, 'cod_uf': str}. Assim o codigo do municipio não perde os zeros a esquerda.\n",
        "#### Dica 2: Concatene o codigo da UF com o código do município usando o operador."
      ]
    },
    {
      "cell_type": "code",
      "execution_count": 86,
      "metadata": {
        "nbgrader": {
          "grade": false,
          "grade_id": "cell-cbfdac791270d86c",
          "locked": false,
          "schema_version": 3,
          "solution": true,
          "task": false
        },
        "id": "0AaFO2jCoMjI"
      },
      "outputs": [],
      "source": [
        "prompt63=\"\"\"Escreva uma função Python utilizando pandas para carregar um arquivo Excel de uma URL passada como argumento. O código deve:\n",
        "    Ler a planilha chamada 'MUNICÍPIOS', ignorando a primeira linha;\n",
        "    Converter as colunas 'COD. UF' e 'COD. MUNIC' para string;\n",
        "    Remover a última coluna do DataFrame;\n",
        "    Alterar o nome duas últimas colunas para 'MUNICIPIO' e 'POPULACAO', respectivamente;\n",
        "    Criar uma nova coluna chamada 'cod_ibge7', concatenando 'COD. UF' e 'COD. MUNIC';\n",
        "    Excluir as últimas 40 linhas do DataFrame;\n",
        "    Retornar o dataframe resultante.\"\"\""
      ]
    },
    {
      "cell_type": "code",
      "execution_count": 94,
      "metadata": {
        "scrolled": true,
        "id": "K1nj6AtCoMjI",
        "colab": {
          "base_uri": "https://localhost:8080/"
        },
        "outputId": "d666a17b-d7aa-4879-e2fc-68ab6c43691f"
      },
      "outputs": [
        {
          "output_type": "stream",
          "name": "stdout",
          "text": [
            "Codigo gerado: \n",
            "def carregar_municipios(url):\n",
            "    df = pd.read_excel(url, sheet_name='MUNICÍPIOS', skiprows=1)\n",
            "    df['COD. UF'] = df['COD. UF'].astype(str)\n",
            "    df['COD. MUNIC'] = df['COD. MUNIC'].astype(str)\n",
            "    df = df.iloc[:, :-1]\n",
            "    df.rename(columns={\n",
            "        df.columns[-2]: 'MUNICIPIO',\n",
            "        df.columns[-1]: 'POPULACAO'\n",
            "    }, inplace=True)\n",
            "    df['cod_ibge7'] = df['COD. UF'] + df['COD. MUNIC']\n",
            "    df = df.iloc[:-40].reset_index(drop=True)\n",
            "    return df\n",
            "\n",
            "\n",
            "❌ Failed the Test Case:\n",
            "  Expected: {'aggregation_summary': {'means': {'POPULACAO': 38158.9}, 'sums': {'POPULACAO': 212583750.0}, 'total_rows': {'max': 5571, 'min': 5571}}, 'verified_samples': [{'expected_values': {'POPULACAO': 2982818}, 'filter': {'UF': 'DF'}}, {'expected_values': {'POPULACAO': 22853}, 'filter': {'cod_ibge7': '1100015'}}]}\n",
            "  Delivered: {'aggregation_summary': {'means': {'POPULACAO': 38158.9}, 'sums': {'POPULACAO': 212583750.0}, 'total_rows': {'max': 5571, 'min': 5571}}, 'verified_samples': [{'expected_values': {'POPULACAO': 2982818}, 'filter': {'UF': 'DF'}}, {'expected_values': {'POPULACAO': 22853}, 'filter': {'cod_ibge7': '1100015'}}]}\n"
          ]
        }
      ],
      "source": [
        "validate(prompt63, \"A6-E3\")\n"
      ]
    },
    {
      "cell_type": "code",
      "source": [
        "# prompt: Escreva uma função Python utilizando pandas para carregar um arquivo Excel de uma URL passada como argumento. O código deve:\n",
        "#     Ler a planilha chamada 'MUNICÍPIOS', ignorando a primeira linha;\n",
        "#     Converter as colunas 'COD. UF' e 'COD. MUNIC' para string;\n",
        "#     Remover a última coluna do DataFrame;\n",
        "#     Alterar o nome duas últimas colunas para 'MUNICIPIO' e 'POPULACAO', respectivamente;\n",
        "#     Criar uma nova coluna chamada 'cod_ibge7', concatenando 'COD. UF' e 'COD. MUNIC';\n",
        "#     Excluir as últimas 40 linhas do DataFrame;\n",
        "#     Retornar o dataframe resultante.\n",
        "\n",
        "import pandas as pd\n",
        "\n",
        "def carregar_dataframe_populacao(url):\n",
        "    # Lê a planilha 'MUNICÍPIOS', ignorando a primeira linha e convertendo colunas para string\n",
        "    df = pd.read_excel(url, sheet_name='MUNICÍPIOS', header=1, dtype={'COD. UF': str, 'COD. MUNIC': str})\n",
        "\n",
        "    # Remove a última coluna\n",
        "    df = df.iloc[:, :-1]\n",
        "\n",
        "    # Renomeia as duas últimas colunas\n",
        "    df = df.rename(columns={df.columns[-2]: 'MUNICIPIO', df.columns[-1]: 'POPULACAO'})\n",
        "\n",
        "    # Cria a coluna 'cod_ibge7'\n",
        "    df['cod_ibge7'] = df['COD. UF'] + df['COD. MUNIC']\n",
        "\n",
        "    # Exclui as últimas 40 linhas\n",
        "    df = df[:-40]\n",
        "\n",
        "    return df"
      ],
      "metadata": {
        "id": "ypXFscGgeMhz"
      },
      "execution_count": null,
      "outputs": []
    },
    {
      "cell_type": "code",
      "execution_count": null,
      "metadata": {
        "id": "9fMnkQyhoMjJ"
      },
      "outputs": [],
      "source": [
        "path_pop = 'https://github.com/alexlopespereira/mba_enap/raw/main/data/originais/populacao/estimativa_dou_2017.xlsx'\n",
        "entradas = [[path_pop]]\n",
        "saidas = [{'uf': 'RO', 'cod_uf': '11', 'cod_munic': '00015', 'municipio': \"Alta Floresta D'Oeste\",\n",
        " 'pop2017': 25437, 'cod_ibge7': '1100015'}]\n",
        "validate(load_pop, entradas, lambda x: x.iloc[0].to_dict(), saidas, \"6.3\", False)"
      ]
    },
    {
      "cell_type": "markdown",
      "metadata": {
        "id": "cAhrxy_0oMjJ"
      },
      "source": [
        "### 6.4 Despivote o dataframe abaixo transformando as colunas 1991, 2000 e 2010 em conteúdos das linhas no dataframe resultante.\n",
        "#### Dataframe de entrada:\n",
        "|    | Município                      |     1991 |   2000 |   2010 |\n",
        "|---:|:-------------------------------|---------:|-------:|-------:|\n",
        "|  0 | 110001 Alta Floresta D'Oeste   |   0.5983 | 0.5868 | 0.5893 |\n",
        "|  1 | 110037 Alto Alegre dos Parecis | NaN     | 0.508  | 0.5491 |\n",
        "|  2 | 110040 Alto Paraíso            | NaN     | 0.6256 | 0.5417 |\n",
        "|  3 | 110034 Alvorada D'Oeste        |   0.569  | 0.6534 | 0.5355 |\n",
        "|  4 | 110002 Ariquemes               |   0.5827 | 0.5927 | 0.5496 |\n",
        "\n",
        "#### Resultado esperado:\n",
        "|    | Município                      |   data |     gini |\n",
        "|---:|:-------------------------------|-------:|---------:|\n",
        "|  0 | 110001 Alta Floresta D'Oeste   |   1991 |   0.5983 |\n",
        "|  1 | 110037 Alto Alegre dos Parecis |   1991 | NaN     |\n",
        "|  2 | 110040 Alto Paraíso            |   1991 | NaN     |\n",
        "|  3 | 110034 Alvorada D'Oeste        |   1991 |   0.569  |\n",
        "|  4 | 110002 Ariquemes               |   1991 |   0.5827 |\n",
        "|  5 | 110001 Alta Floresta D'Oeste   |   2000 |   0.5868 |\n",
        "|  6 | 110037 Alto Alegre dos Parecis |   2000 |   0.508  |\n",
        "|  7 | 110040 Alto Paraíso            |   2000 |   0.6256 |\n",
        "|  8 | 110034 Alvorada D'Oeste        |   2000 |   0.6534 |\n",
        "|  9 | 110002 Ariquemes               |   2000 |   0.5927 |\n",
        "| 10 | 110001 Alta Floresta D'Oeste   |   2010 |   0.5893 |\n",
        "| 11 | 110037 Alto Alegre dos Parecis |   2010 |   0.5491 |\n",
        "| 12 | 110040 Alto Paraíso            |   2010 |   0.5417 |\n",
        "| 13 | 110034 Alvorada D'Oeste        |   2010 |   0.5355 |\n",
        "| 14 | 110002 Ariquemes               |   2010 |   0.5496 |"
      ]
    },
    {
      "cell_type": "code",
      "execution_count": null,
      "metadata": {
        "nbgrader": {
          "grade": false,
          "grade_id": "cell-ad0e87d66c42fd83",
          "locked": false,
          "schema_version": 3,
          "solution": true,
          "task": false
        },
        "id": "O9QR7kl_oMjJ"
      },
      "outputs": [],
      "source": [
        "def unpivot_gini(df):\n",
        "    \"\"\"retorne um dataframe despivotado.\n",
        "    \"\"\"\n",
        "    ### BEGIN SOLUTION\n",
        "    return df.melt(id_vars=['Município'], var_name='data', value_name='gini')\n",
        "    ### END SOLUTION\n"
      ]
    },
    {
      "cell_type": "code",
      "execution_count": null,
      "metadata": {
        "id": "6sAgUTNKoMjK"
      },
      "outputs": [],
      "source": [
        "# Faça seus testes aqui\n",
        "dataset_gini = {'Município': {0: \"110001 Alta Floresta D'Oeste\",\n",
        "  1: '110037 Alto Alegre dos Parecis',\n",
        "  2: '110040 Alto Paraíso',\n",
        "  3: \"110034 Alvorada D'Oeste\",\n",
        "  4: '110002 Ariquemes'},\n",
        " '1991': {0: 0.5983, 1: None, 2: None, 3: 0.569, 4: 0.5827},\n",
        " '2000': {0: 0.5868, 1: 0.508, 2: 0.6256, 3: 0.6534, 4: 0.5927},\n",
        " '2010': {0: 0.5893, 1: 0.5491, 2: 0.5417, 3: 0.5355, 4: 0.5496}}\n",
        "df_gini = pd.DataFrame(dataset_gini)\n",
        "df_gini"
      ]
    },
    {
      "cell_type": "code",
      "execution_count": null,
      "metadata": {
        "id": "p72eAz5foMjK"
      },
      "outputs": [],
      "source": [
        "# Validação\n",
        "dataset_gini = {'Município': {0: \"110001 Alta Floresta D'Oeste\",\n",
        "  1: '110037 Alto Alegre dos Parecis',\n",
        "  2: '110040 Alto Paraíso',\n",
        "  3: \"110034 Alvorada D'Oeste\",\n",
        "  4: '110002 Ariquemes'},\n",
        " '1991': {0: 0.5983, 1: None, 2: None, 3: 0.569, 4: 0.5827},\n",
        " '2000': {0: 0.5868, 1: 0.508, 2: 0.6256, 3: 0.6534, 4: 0.5927},\n",
        " '2010': {0: 0.5893, 1: 0.5491, 2: 0.5417, 3: 0.5355, 4: 0.5496}}\n",
        "df_gini = pd.DataFrame(dataset_gini)\n",
        "\n",
        "test_data = {'Município': {0: \"110001 Alta Floresta D'Oeste\", 1: '110037 Alto Alegre dos Parecis',\n",
        "  2: '110040 Alto Paraíso',  3: \"110034 Alvorada D'Oeste\", 4: '110002 Ariquemes', 5: \"110001 Alta Floresta D'Oeste\",\n",
        "  6: '110037 Alto Alegre dos Parecis', 7: '110040 Alto Paraíso', 8: \"110034 Alvorada D'Oeste\", 9: '110002 Ariquemes',\n",
        "  10: \"110001 Alta Floresta D'Oeste\", 11: '110037 Alto Alegre dos Parecis', 12: '110040 Alto Paraíso',\n",
        "  13: \"110034 Alvorada D'Oeste\", 14: '110002 Ariquemes'}, 'data': {0: '1991', 1: '1991', 2: '1991', 3: '1991',\n",
        "  4: '1991', 5: '2000', 6: '2000', 7: '2000', 8: '2000', 9: '2000', 10: '2010', 11: '2010', 12: '2010', 13: '2010',\n",
        "  14: '2010'},'gini': {0: 0.5983, 1: nan, 2: nan, 3: 0.569, 4: 0.5827, 5: 0.5868, 6: 0.508, 7: 0.6256, 8: 0.6534,\n",
        "  9: 0.5927, 10: 0.5893, 11: 0.5491, 12: 0.5417, 13: 0.5355, 14: 0.5496}}\n",
        "\n",
        "entradas = [[df_gini]]\n",
        "saidas = [pd.DataFrame(test_data)]\n",
        "validate(unpivot_gini, entradas, lambda x: x, saidas, \"6.4\", False)"
      ]
    }
  ],
  "metadata": {
    "celltoolbar": "Create Assignment",
    "kernelspec": {
      "display_name": "Python 3",
      "language": "python",
      "name": "python3"
    },
    "language_info": {
      "codemirror_mode": {
        "name": "ipython",
        "version": 3
      },
      "file_extension": ".py",
      "mimetype": "text/x-python",
      "name": "python",
      "nbconvert_exporter": "python",
      "pygments_lexer": "ipython3",
      "version": "3.8.3"
    },
    "name": "_merged",
    "varInspector": {
      "cols": {
        "lenName": 16,
        "lenType": 16,
        "lenVar": 40
      },
      "kernels_config": {
        "python": {
          "delete_cmd_postfix": "",
          "delete_cmd_prefix": "del ",
          "library": "var_list.py",
          "varRefreshCmd": "print(var_dic_list())"
        },
        "r": {
          "delete_cmd_postfix": ") ",
          "delete_cmd_prefix": "rm(",
          "library": "var_list.r",
          "varRefreshCmd": "cat(var_dic_list()) "
        }
      },
      "types_to_exclude": [
        "module",
        "function",
        "builtin_function_or_method",
        "instance",
        "_Feature"
      ],
      "window_display": false
    },
    "colab": {
      "provenance": [],
      "include_colab_link": true
    }
  },
  "nbformat": 4,
  "nbformat_minor": 0
}