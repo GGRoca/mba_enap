{
 "cells": [
  {
   "cell_type": "markdown",
   "metadata": {
    "id": "ZTiYF34HF8D0"
   },
   "source": [
    "# Aula 7 - Exercícios - Pandas Parte 3 (Merge e Join)"
   ]
  },
  {
   "cell_type": "code",
   "execution_count": 1,
   "metadata": {
    "executionInfo": {
     "elapsed": 839,
     "status": "ok",
     "timestamp": 1620764519434,
     "user": {
      "displayName": "Rodrigo Dias Botelho",
      "photoUrl": "https://lh3.googleusercontent.com/a-/AOh14GjgTCvHxMnMBu2B5-g2VAM3j8PQUhXgqpsy81hnkA=s64",
      "userId": "15723687865298183300"
     },
     "user_tz": 180
    },
    "id": "Jfl_yj4fF8D6"
   },
   "outputs": [],
   "source": [
    "# Importe a biblioteca pandas \n",
    "import pandas as pd"
   ]
  },
  {
   "cell_type": "markdown",
   "metadata": {
    "id": "OewxYtWaF8D6"
   },
   "source": [
    "### 7.1 Escreva uma função para fazer o merge dos dataframes de população e de PIB de 2017. A função deve receber como parâmetro o caminho para cada um dos dataframes. Na operação de merge, o pandas renomeará as colunas municipio para municipio_x e municipio_y. Mantenha esses dois nomes de coluna, pois eles serão usados em exercícios posteriores.\n",
    "\n",
    "#### Dica 1: Você já resolveu uma parte deste problema nos exercícios 6.2 e 6.3. Reaproveite o código copiando e colando aqui, ou refaça-o.\n",
    "#### Dica 2: A coluna que contem o código IBGE do município deve ter o mesmo formato (string) e a mesma quantidade de caracteres nas duas tabelas.\n",
    "#### Dica 3: Converta o codigo do município para string ao carregar o dataframe de população utilizando o mapeamento de tipos dtype={'cod_munic': str, 'cod_uf': str}. Assim o codigo do municipio não perde os zeros a esquerda.\n",
    "#### Dica 4: Concatene o codigo da UF com o código do município usando o operador + e salve em outra coluna.\n",
    "#### Dica 5: Use o código apresentado na aula para carregar o dataframe do PIB de 2017, especifique o dtype da coluna que contém o codigo do municipio.\n",
    "#### Dica 6: Renomeie as colunas apropriadamente antes de fazer o merge. A coluna com o nome do municipio deve se chamar municipio (sem acento) e a coluna com o codigo ibge de 7 caracteres cod_ibge7. Veja o exemplo: {'Unnamed: 0': 'nivel', 'Unnamed: 1': 'cod_ibge7', 'Unnamed: 2': 'municipio'}. \n",
    "#### Dica 7: Depois que os dois dataframes tiverem o codigo ibge (com valores equivalentes  e mesmo tipo de dados) você pode fazer o merge.\n"
   ]
  },
  {
   "cell_type": "code",
   "execution_count": null,
   "metadata": {
    "id": "661LI-sJF8D7",
    "nbgrader": {
     "grade": false,
     "grade_id": "cell-d2e0568a09d9eb4a",
     "locked": false,
     "schema_version": 3,
     "solution": true,
     "task": false
    }
   },
   "outputs": [],
   "source": [
    "def merge_pop_pib(path_pop, path_pib):\n",
    "    \"\"\"retorne um dataframe resultante do merge dos dados do pib e da população\n",
    "    \"\"\"\n",
    "    ### BEGIN SOLUTION\n",
    "    df_pop = pd.read_excel(path_pop, sheet_name=\"Municipios\", dtype={'cod_munic': str, 'cod_uf': str})\n",
    "    # Concatena o codigo da UF com o codigo do municipio\n",
    "    df_pop['cod_ibge7'] = df_pop['cod_uf'] + df_pop['cod_munic']\n",
    "    df_pib = pd.read_excel(path_pib, skiprows=3, skipfooter=1, dtype={'Unnamed: 1': str})\n",
    "    df_pib.rename(columns={'Unnamed: 0': 'nivel', 'Unnamed: 1': 'cod_ibge7', \n",
    "                           'Unnamed: 2': 'municipio'}, inplace=True)\n",
    "\n",
    "    return pd.merge(df_pop, df_pib, on='cod_ibge7')\n",
    "    ### END SOLUTION\n"
   ]
  },
  {
   "cell_type": "code",
   "execution_count": null,
   "metadata": {
    "id": "QI7rGoeMF8D8"
   },
   "outputs": [],
   "source": [
    "## Faça seus testes aqui\n",
    "path_pib = 'https://github.com/alexlopespereira/enapespcd2021/raw/main/data/originais/pib/pib_municipios.xlsx'\n",
    "path_pop = 'https://github.com/alexlopespereira/enapespcd2021/raw/main/data/originais/populacao/estimativa_dou_2017.xlsx'\n"
   ]
  },
  {
   "cell_type": "code",
   "execution_count": null,
   "metadata": {
    "id": "ySCjc62MF8D8"
   },
   "outputs": [],
   "source": [
    "# Validação\n",
    "path_pib = 'https://github.com/alexlopespereira/enapespcd2021/raw/main/data/originais/pib/pib_municipios.xlsx'\n",
    "path_pop = 'https://github.com/alexlopespereira/enapespcd2021/raw/main/data/originais/populacao/estimativa_dou_2017.xlsx'\n",
    "\n",
    "entradas = [[path_pop, path_pib]]\n",
    "saidas = [{'pop2017': 25437, '2017': 498864}]\n",
    "validate(merge_pop_pib, entradas, lambda x: x.loc[0,['pop2017', '2017']].to_dict(), saidas, \"7.1\", False)"
   ]
  },
  {
   "cell_type": "markdown",
   "metadata": {
    "id": "_tIVqGrgF8D8"
   },
   "source": [
    "### 7.2 Escreva uma função para calcular o PIB percapita  de 2017 de cada município do Brasil, considerando o dataframe resultante do exercício anterior.\n",
    "#### Nomeie a coluna do PIB Percapita com 'pib_percapita' e arredonde o resultado para uma casa decimal usando a função ```round```.\n",
    "#### Dica: Use a função ```round``` dentro de uma função ```apply```."
   ]
  },
  {
   "cell_type": "code",
   "execution_count": null,
   "metadata": {
    "id": "n-ROUHzLF8D8",
    "nbgrader": {
     "grade": false,
     "grade_id": "cell-553qe5248eb14bc30",
     "locked": false,
     "schema_version": 3,
     "solution": true,
     "task": false
    },
    "scrolled": true
   },
   "outputs": [],
   "source": [
    "def pib_percapita(pib_pop):\n",
    "    \"\"\"retorne um dataframe contendo o PIB percapita dos municípios.\n",
    "    \"\"\"\n",
    "    ### BEGIN SOLUTION\n",
    "    pib_pop['pib_percapita'] = pib_pop['2017']/pib_pop['pop2017']\n",
    "    pib_pop['pib_percapita'] = pib_pop['pib_percapita'].apply(lambda x: round(x, 1))\n",
    "    return pib_pop\n",
    "    ### END SOLUTION\n"
   ]
  },
  {
   "cell_type": "code",
   "execution_count": null,
   "metadata": {
    "id": "l9zygGMhF8D9"
   },
   "outputs": [],
   "source": [
    "## Faça seus testes aqui\n",
    "\n"
   ]
  },
  {
   "cell_type": "code",
   "execution_count": null,
   "metadata": {
    "id": "4BiHIcYUF8D9"
   },
   "outputs": [],
   "source": [
    "# Validação\n",
    "# Considerando a função merge_pop_pib do exercicio 7.1\n",
    "df_pib_pop = merge_pop_pib(path_pop, path_pib)\n",
    "\n",
    "entradas = [[df_pib_pop]]\n",
    "saidas = [19.6]\n",
    "validate(pib_percapita, entradas, lambda x: x.loc[0,'pib_percapita'], saidas, \"7.2\", False)"
   ]
  },
  {
   "cell_type": "markdown",
   "metadata": {
    "id": "35nGWFLKF8D9"
   },
   "source": [
    "### 7.3 Escreva uma função para retornar os registros dos 10 maiores PIBs percapita do brasil (de 2017) a partir do dataframe do exercício anterior. \n",
    "#### Escreva uma função genérica que receba como parâmetro um dataframe e o nome da coluna de ordenação.\n",
    "#### Dica 1: Use o método sort_values para ordenar o dataframe. Para uma ordenação descendente use ascending=False.\n",
    "#### Dica 2: Use o atributo iloc para retornar todas as colunas dos 10 primeiros registros."
   ]
  },
  {
   "cell_type": "code",
   "execution_count": null,
   "metadata": {
    "id": "hMkE7gqWF8D9",
    "nbgrader": {
     "grade": false,
     "grade_id": "cell-a60691c9ae84528b",
     "locked": false,
     "schema_version": 3,
     "solution": true,
     "task": false
    }
   },
   "outputs": [],
   "source": [
    "def top10(df, col):\n",
    "    \"\"\"retorne os top 10 registros do dataframe df ordenados por col\n",
    "    \"\"\"\n",
    "    ### BEGIN SOLUTION\n",
    "    return df.sort_values(by=col, ascending=False).iloc[:10,:]\n",
    "    ### END SOLUTION\n"
   ]
  },
  {
   "cell_type": "code",
   "execution_count": null,
   "metadata": {
    "id": "cJwDk7hxF8D-"
   },
   "outputs": [],
   "source": [
    "## Faça seus testes aqui\n",
    "df_pib_pop = merge_pop_pib(path_pop, path_pib)\n",
    "pib_percapita_2017 = pib_percapita(df_pib_pop)\n"
   ]
  },
  {
   "cell_type": "code",
   "execution_count": null,
   "metadata": {
    "id": "mqh1tJJnF8D-"
   },
   "outputs": [],
   "source": [
    "# Validação\n",
    "df_pib_pop = merge_pop_pib(path_pop, path_pib)\n",
    "pib_percapita_2017 = pib_percapita(df_pib_pop)\n",
    "\n",
    "test_data = {'cod_ibge7': {3677: '3536505', 3547: '3524709'},\n",
    "             'municipio_x': {3677: 'Paulínia', 3547: 'Jaguariúna'},\n",
    "             'uf': {3677: 'SP', 3547: 'SP'},\n",
    "             'pib_percapita': {3677: 344.8, 3547: 209.3}}\n",
    "test_data_y = {'cod_ibge7': {3677: '3536505', 3547: '3524709'},\n",
    "             'municipio_y': {3677: 'Paulínia', 3547: 'Jaguariúna'},\n",
    "             'uf': {3677: 'SP', 3547: 'SP'},\n",
    "             'pib_percapita': {3677: 344.8, 3547: 209.3}}\n",
    "\n",
    "entradas = [[pib_percapita_2017, 'pib_percapita']]\n",
    "saidas = [test_data]\n",
    "val1 = validate(top10, entradas, lambda x: x[['cod_ibge7', 'municipio_x', 'uf', 'pib_percapita']].iloc[[0,9]].to_dict(), saidas, \"7.3\", False)\n",
    "if not val1:\n",
    "    saidas = [test_data_y]\n",
    "    val2 = validate(top10, entradas, lambda x: x[['cod_ibge7', 'municipio_y', 'uf', 'pib_percapita']].iloc[[0,9]].to_dict(), saidas, \"7.3\", False)\n",
    "    print(val2)\n",
    "else:\n",
    "    print(val1)"
   ]
  },
  {
   "cell_type": "markdown",
   "metadata": {
    "id": "E-z4DlYzF8D-"
   },
   "source": [
    "### 7.4 Escreva uma função para fazer o merge do dataset de morbidade consolidado com o dataset de população\n",
    "#### O dataset da população deve ficar a esquerda e o dataset da morbidade a direita no resultado.\n",
    "#### Dica 1: No dataset de morbidade existem valores NA representados por caracteres específicos em várias colunas do dataframe. Descubra quais são esses caracteres e especifiquei no argumento na_values. Passe nesse argumento uma lista como os caracteres que devem ser interpretados como NA.\n",
    "#### Dica 2: No dataset de morbidade, especifique o separador, o caracter de números decimais e o tipo do dado do cod_ibge6 como str. Ou seja, dtype={'cod_ibge6': str}.\n",
    "#### Dica 3: No dataset de população, converta o cod_munic e cod_uf para str no momento de carregar o dataset de população, usando novamente o argumento dtype. \n",
    "#### Dica 4: No dataset de população, construa o código ibge de 6 dígitos do município a partir das colunas ```cod_uf``` e ```cod_munic```.\n"
   ]
  },
  {
   "cell_type": "code",
   "execution_count": null,
   "metadata": {
    "id": "QEn6a8cSF8D-",
    "nbgrader": {
     "grade": false,
     "grade_id": "cell-553em5248eb14bc30",
     "locked": false,
     "schema_version": 3,
     "solution": true,
     "task": false
    }
   },
   "outputs": [],
   "source": [
    "def merge_morbidade_pop(path_pop, path_morbidade):\n",
    "    \"\"\"retorne o merge dos datasets de população e morbidade.\n",
    "    \"\"\"\n",
    "    ### BEGIN SOLUTION\n",
    "    df_pop = pd.read_excel(path_pop, sheet_name=\"Municipios\", dtype={'cod_munic': str, 'cod_uf': str})\n",
    "    # Concatena o codigo da UF com o codigo do municipio\n",
    "    df_pop['cod_ibge6'] = df_pop['cod_uf'] + df_pop['cod_munic'].apply(lambda x: x[:-1])\n",
    "    df_morbidade = pd.read_csv(path_morbidade, sep=';', decimal=',', dtype={'cod_ibge6': str}, \n",
    "                               na_values=['-', '...'])\n",
    "    return pd.merge(df_pop, df_morbidade, on='cod_ibge6') \n",
    "    ### END SOLUTION\n"
   ]
  },
  {
   "cell_type": "code",
   "execution_count": null,
   "metadata": {
    "id": "CrDBC6P8F8D_"
   },
   "outputs": [],
   "source": [
    "## Faça seus testes aqui\n",
    "path_morbidade = 'https://github.com/alexlopespereira/enapespcd2021/raw/main/data/originais/morbidade/consolidado/morbidade.csv'\n",
    "path_pop = 'https://github.com/alexlopespereira/enapespcd2021/raw/main/data/originais/populacao/estimativa_dou_2017.xlsx'\n"
   ]
  },
  {
   "cell_type": "code",
   "execution_count": null,
   "metadata": {
    "id": "7RhNUSyhF8D_"
   },
   "outputs": [],
   "source": [
    "path_morbidade = 'https://github.com/alexlopespereira/enapespcd2021/raw/main/data/originais/morbidade/consolidado/morbidade.csv'\n",
    "path_pop = 'https://github.com/alexlopespereira/enapespcd2021/raw/main/data/originais/populacao/estimativa_dou_2017.xlsx'\n",
    "test_data = {'Internações': 149, 'AIH_aprovadas': 149, 'Valor_total': 101282.26}\n",
    "\n",
    "entradas = [[path_pop, path_morbidade]]\n",
    "saidas = [{'Internações': 149, 'AIH_aprovadas': 149, 'Valor_total': 101282.26}]\n",
    "val1 = validate(merge_morbidade_pop, entradas, lambda x: x[(x['mes']=='Abr') & (x['cod_munic']=='00015')].loc[:,['Internações', 'AIH_aprovadas', 'Valor_total']].to_dict(orient='records')[0], saidas, \"7.4\", False)\n",
    "if not val1:\n",
    "    val2 = validate(top10, entradas, lambda x: x.iloc[0, 8:11].to_dict(), saidas, \"7.4\", False)\n",
    "    print(val2)\n",
    "else:\n",
    "    print(val1)"
   ]
  }
 ],
 "metadata": {
  "celltoolbar": "Create Assignment",
  "colab": {
   "name": "Aula7_Exercicio_Solucoes.ipynb",
   "provenance": []
  },
  "kernelspec": {
   "display_name": "Python 3",
   "language": "python",
   "name": "python3"
  },
  "language_info": {
   "codemirror_mode": {
    "name": "ipython",
    "version": 3
   },
   "file_extension": ".py",
   "mimetype": "text/x-python",
   "name": "python",
   "nbconvert_exporter": "python",
   "pygments_lexer": "ipython3",
   "version": "3.8.3"
  },
  "name": "_merged",
  "varInspector": {
   "cols": {
    "lenName": 16,
    "lenType": 16,
    "lenVar": 40
   },
   "kernels_config": {
    "python": {
     "delete_cmd_postfix": "",
     "delete_cmd_prefix": "del ",
     "library": "var_list.py",
     "varRefreshCmd": "print(var_dic_list())"
    },
    "r": {
     "delete_cmd_postfix": ") ",
     "delete_cmd_prefix": "rm(",
     "library": "var_list.r",
     "varRefreshCmd": "cat(var_dic_list()) "
    }
   },
   "types_to_exclude": [
    "module",
    "function",
    "builtin_function_or_method",
    "instance",
    "_Feature"
   ],
   "window_display": false
  }
 },
 "nbformat": 4,
 "nbformat_minor": 1
}
