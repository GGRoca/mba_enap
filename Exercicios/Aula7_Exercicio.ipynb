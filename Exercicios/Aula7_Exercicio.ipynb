{
  "cells": [
    {
      "cell_type": "markdown",
      "metadata": {
        "id": "ZTiYF34HF8D0"
      },
      "source": [
        "# Aula 7 - Exercícios - Pandas Parte 3 (Merge e Join)"
      ]
    },
    {
      "cell_type": "code",
      "execution_count": 2,
      "metadata": {
        "id": "RkNwKAd8kJz5"
      },
      "outputs": [],
      "source": [
        "!pip install --upgrade ipynb_autograde > /dev/null"
      ]
    },
    {
      "cell_type": "code",
      "source": [
        "%env  COURSE=mba_enap\n",
        "from ipynb_autograde.main import init_log, validate\n",
        "init_log()\n",
        "email_result=!gcloud config get-value account\n",
        "if not email_result or 'unset' in email_result[0]:\n",
        "  !gcloud auth login"
      ],
      "metadata": {
        "id": "WxBHNGxie9BB"
      },
      "execution_count": null,
      "outputs": []
    },
    {
      "cell_type": "code",
      "execution_count": null,
      "metadata": {
        "id": "Jfl_yj4fF8D6"
      },
      "outputs": [],
      "source": [
        "# Importe a biblioteca pandas\n",
        "import pandas as pd"
      ]
    },
    {
      "cell_type": "markdown",
      "metadata": {
        "id": "OewxYtWaF8D6"
      },
      "source": [
        "### 7.1 Faça um prompt para criar uma função python que integre os dados de PIB de 2017 (Exercício 6.7) e da população (Exercício 6.3) carregados no notebook da aula anterior. Como sugestão, reaproveite o prompt desses dois exercícios e faça um prompt que carregue novamente os arquivos e na sequencia instrua o modelo a integra-los.\n",
        "\n",
        "#### Entradas: ```https://github.com/alexlopespereira/mba_enap/raw/main/data/originais/pib/pib_municipios.xlsx``` e ```https://github.com/alexlopespereira/mba_enap/raw/main/data/originais/populacao/POP2024_20241101.xls```\n",
        "\n",
        "#### Resultado esperado:\n",
        "\n"
      ]
    },
    {
      "cell_type": "code",
      "execution_count": null,
      "metadata": {
        "id": "661LI-sJF8D7",
        "nbgrader": {
          "grade": false,
          "grade_id": "cell-d2e0568a09d9eb4a",
          "locked": false,
          "schema_version": 3,
          "solution": true,
          "task": false
        }
      },
      "outputs": [],
      "source": [
        "prompt71 = \"\"\"Escreva uma função Python utilizando pandas para carregar um arquivo Excel de uma URL passada como 1o argumento. O código deve: Ler a planilha chamada 'MUNICÍPIOS', ignorando a primeira linha e interpretando as colunas 'COD. UF' e 'COD. MUNIC' como string; Remover a última coluna do DataFrame; Alterar o nome duas últimas colunas para 'MUNICIPIO' e 'POPULACAO', respectivamente; Criar uma nova coluna chamada 'cod_ibge7', concatenando 'COD. UF' e 'COD. MUNIC'; Excluir as últimas 40 linhas do DataFrame. Nomeie esse dataframe como df_pop. A função tem num segundo argumento o caminho de um arquivo Excel carregue o arquivo ignorando a última linha, forçando a coluna CodIBGE como string, e nomeando esse dataframe como df_pib. Faça um merge entre esses dois dataframes, considerando que a chave comum no df_pop se chama cod_ibge7 e no df_pib se chama CodIBGE.\"\"\""
      ]
    },
    {
      "cell_type": "code",
      "execution_count": null,
      "metadata": {
        "id": "QI7rGoeMF8D8"
      },
      "outputs": [],
      "source": [
        "validate(prompt71, \"A7-E1\")"
      ]
    },
    {
      "cell_type": "code",
      "source": [
        "# prompt: carregue os dados desse xlsx num pandas dataframe https://github.com/alexlopespereira/mba_enap/raw/refs/heads/main/data/originais/populacao/estimativa_dou_2017.xlsx\n",
        "\n",
        "import pandas as pd\n",
        "\n",
        "def load_dataframe_from_xlsx(url):\n",
        "    df = pd.read_excel(url)\n",
        "    return df\n",
        "\n",
        "url = 'https://github.com/alexlopespereira/mba_enap/raw/refs/heads/main/data/originais/populacao/estimativa_dou_2017.xlsx'\n",
        "df = load_dataframe_from_xlsx(url)\n",
        "\n",
        "df.head()"
      ],
      "metadata": {
        "id": "ZNGf3fhii0nd",
        "outputId": "6d4673c1-85d6-4b04-cc44-415572641343",
        "colab": {
          "base_uri": "https://localhost:8080/",
          "height": 226
        }
      },
      "execution_count": 6,
      "outputs": [
        {
          "output_type": "execute_result",
          "data": {
            "text/plain": [
              "   uf  cod_uf  cod_munic  cod_ibge              municipio  pop2017\n",
              "0  RO      11         15   1100015  Alta Floresta D'Oeste    25437\n",
              "1  RO      11         23   1100023              Ariquemes   107345\n",
              "2  RO      11         31   1100031                 Cabixi     6224\n",
              "3  RO      11         49   1100049                 Cacoal    88507\n",
              "4  RO      11         56   1100056             Cerejeiras    17934"
            ],
            "text/html": [
              "\n",
              "  <div id=\"df-2d459bbe-5b32-44f2-bc80-dc34d9410a83\" class=\"colab-df-container\">\n",
              "    <div>\n",
              "<style scoped>\n",
              "    .dataframe tbody tr th:only-of-type {\n",
              "        vertical-align: middle;\n",
              "    }\n",
              "\n",
              "    .dataframe tbody tr th {\n",
              "        vertical-align: top;\n",
              "    }\n",
              "\n",
              "    .dataframe thead th {\n",
              "        text-align: right;\n",
              "    }\n",
              "</style>\n",
              "<table border=\"1\" class=\"dataframe\">\n",
              "  <thead>\n",
              "    <tr style=\"text-align: right;\">\n",
              "      <th></th>\n",
              "      <th>uf</th>\n",
              "      <th>cod_uf</th>\n",
              "      <th>cod_munic</th>\n",
              "      <th>cod_ibge</th>\n",
              "      <th>municipio</th>\n",
              "      <th>pop2017</th>\n",
              "    </tr>\n",
              "  </thead>\n",
              "  <tbody>\n",
              "    <tr>\n",
              "      <th>0</th>\n",
              "      <td>RO</td>\n",
              "      <td>11</td>\n",
              "      <td>15</td>\n",
              "      <td>1100015</td>\n",
              "      <td>Alta Floresta D'Oeste</td>\n",
              "      <td>25437</td>\n",
              "    </tr>\n",
              "    <tr>\n",
              "      <th>1</th>\n",
              "      <td>RO</td>\n",
              "      <td>11</td>\n",
              "      <td>23</td>\n",
              "      <td>1100023</td>\n",
              "      <td>Ariquemes</td>\n",
              "      <td>107345</td>\n",
              "    </tr>\n",
              "    <tr>\n",
              "      <th>2</th>\n",
              "      <td>RO</td>\n",
              "      <td>11</td>\n",
              "      <td>31</td>\n",
              "      <td>1100031</td>\n",
              "      <td>Cabixi</td>\n",
              "      <td>6224</td>\n",
              "    </tr>\n",
              "    <tr>\n",
              "      <th>3</th>\n",
              "      <td>RO</td>\n",
              "      <td>11</td>\n",
              "      <td>49</td>\n",
              "      <td>1100049</td>\n",
              "      <td>Cacoal</td>\n",
              "      <td>88507</td>\n",
              "    </tr>\n",
              "    <tr>\n",
              "      <th>4</th>\n",
              "      <td>RO</td>\n",
              "      <td>11</td>\n",
              "      <td>56</td>\n",
              "      <td>1100056</td>\n",
              "      <td>Cerejeiras</td>\n",
              "      <td>17934</td>\n",
              "    </tr>\n",
              "  </tbody>\n",
              "</table>\n",
              "</div>\n",
              "    <div class=\"colab-df-buttons\">\n",
              "\n",
              "  <div class=\"colab-df-container\">\n",
              "    <button class=\"colab-df-convert\" onclick=\"convertToInteractive('df-2d459bbe-5b32-44f2-bc80-dc34d9410a83')\"\n",
              "            title=\"Convert this dataframe to an interactive table.\"\n",
              "            style=\"display:none;\">\n",
              "\n",
              "  <svg xmlns=\"http://www.w3.org/2000/svg\" height=\"24px\" viewBox=\"0 -960 960 960\">\n",
              "    <path d=\"M120-120v-720h720v720H120Zm60-500h600v-160H180v160Zm220 220h160v-160H400v160Zm0 220h160v-160H400v160ZM180-400h160v-160H180v160Zm440 0h160v-160H620v160ZM180-180h160v-160H180v160Zm440 0h160v-160H620v160Z\"/>\n",
              "  </svg>\n",
              "    </button>\n",
              "\n",
              "  <style>\n",
              "    .colab-df-container {\n",
              "      display:flex;\n",
              "      gap: 12px;\n",
              "    }\n",
              "\n",
              "    .colab-df-convert {\n",
              "      background-color: #E8F0FE;\n",
              "      border: none;\n",
              "      border-radius: 50%;\n",
              "      cursor: pointer;\n",
              "      display: none;\n",
              "      fill: #1967D2;\n",
              "      height: 32px;\n",
              "      padding: 0 0 0 0;\n",
              "      width: 32px;\n",
              "    }\n",
              "\n",
              "    .colab-df-convert:hover {\n",
              "      background-color: #E2EBFA;\n",
              "      box-shadow: 0px 1px 2px rgba(60, 64, 67, 0.3), 0px 1px 3px 1px rgba(60, 64, 67, 0.15);\n",
              "      fill: #174EA6;\n",
              "    }\n",
              "\n",
              "    .colab-df-buttons div {\n",
              "      margin-bottom: 4px;\n",
              "    }\n",
              "\n",
              "    [theme=dark] .colab-df-convert {\n",
              "      background-color: #3B4455;\n",
              "      fill: #D2E3FC;\n",
              "    }\n",
              "\n",
              "    [theme=dark] .colab-df-convert:hover {\n",
              "      background-color: #434B5C;\n",
              "      box-shadow: 0px 1px 3px 1px rgba(0, 0, 0, 0.15);\n",
              "      filter: drop-shadow(0px 1px 2px rgba(0, 0, 0, 0.3));\n",
              "      fill: #FFFFFF;\n",
              "    }\n",
              "  </style>\n",
              "\n",
              "    <script>\n",
              "      const buttonEl =\n",
              "        document.querySelector('#df-2d459bbe-5b32-44f2-bc80-dc34d9410a83 button.colab-df-convert');\n",
              "      buttonEl.style.display =\n",
              "        google.colab.kernel.accessAllowed ? 'block' : 'none';\n",
              "\n",
              "      async function convertToInteractive(key) {\n",
              "        const element = document.querySelector('#df-2d459bbe-5b32-44f2-bc80-dc34d9410a83');\n",
              "        const dataTable =\n",
              "          await google.colab.kernel.invokeFunction('convertToInteractive',\n",
              "                                                    [key], {});\n",
              "        if (!dataTable) return;\n",
              "\n",
              "        const docLinkHtml = 'Like what you see? Visit the ' +\n",
              "          '<a target=\"_blank\" href=https://colab.research.google.com/notebooks/data_table.ipynb>data table notebook</a>'\n",
              "          + ' to learn more about interactive tables.';\n",
              "        element.innerHTML = '';\n",
              "        dataTable['output_type'] = 'display_data';\n",
              "        await google.colab.output.renderOutput(dataTable, element);\n",
              "        const docLink = document.createElement('div');\n",
              "        docLink.innerHTML = docLinkHtml;\n",
              "        element.appendChild(docLink);\n",
              "      }\n",
              "    </script>\n",
              "  </div>\n",
              "\n",
              "\n",
              "<div id=\"df-51d744a7-a8ed-4fb5-b41f-ef7ed9508c99\">\n",
              "  <button class=\"colab-df-quickchart\" onclick=\"quickchart('df-51d744a7-a8ed-4fb5-b41f-ef7ed9508c99')\"\n",
              "            title=\"Suggest charts\"\n",
              "            style=\"display:none;\">\n",
              "\n",
              "<svg xmlns=\"http://www.w3.org/2000/svg\" height=\"24px\"viewBox=\"0 0 24 24\"\n",
              "     width=\"24px\">\n",
              "    <g>\n",
              "        <path d=\"M19 3H5c-1.1 0-2 .9-2 2v14c0 1.1.9 2 2 2h14c1.1 0 2-.9 2-2V5c0-1.1-.9-2-2-2zM9 17H7v-7h2v7zm4 0h-2V7h2v10zm4 0h-2v-4h2v4z\"/>\n",
              "    </g>\n",
              "</svg>\n",
              "  </button>\n",
              "\n",
              "<style>\n",
              "  .colab-df-quickchart {\n",
              "      --bg-color: #E8F0FE;\n",
              "      --fill-color: #1967D2;\n",
              "      --hover-bg-color: #E2EBFA;\n",
              "      --hover-fill-color: #174EA6;\n",
              "      --disabled-fill-color: #AAA;\n",
              "      --disabled-bg-color: #DDD;\n",
              "  }\n",
              "\n",
              "  [theme=dark] .colab-df-quickchart {\n",
              "      --bg-color: #3B4455;\n",
              "      --fill-color: #D2E3FC;\n",
              "      --hover-bg-color: #434B5C;\n",
              "      --hover-fill-color: #FFFFFF;\n",
              "      --disabled-bg-color: #3B4455;\n",
              "      --disabled-fill-color: #666;\n",
              "  }\n",
              "\n",
              "  .colab-df-quickchart {\n",
              "    background-color: var(--bg-color);\n",
              "    border: none;\n",
              "    border-radius: 50%;\n",
              "    cursor: pointer;\n",
              "    display: none;\n",
              "    fill: var(--fill-color);\n",
              "    height: 32px;\n",
              "    padding: 0;\n",
              "    width: 32px;\n",
              "  }\n",
              "\n",
              "  .colab-df-quickchart:hover {\n",
              "    background-color: var(--hover-bg-color);\n",
              "    box-shadow: 0 1px 2px rgba(60, 64, 67, 0.3), 0 1px 3px 1px rgba(60, 64, 67, 0.15);\n",
              "    fill: var(--button-hover-fill-color);\n",
              "  }\n",
              "\n",
              "  .colab-df-quickchart-complete:disabled,\n",
              "  .colab-df-quickchart-complete:disabled:hover {\n",
              "    background-color: var(--disabled-bg-color);\n",
              "    fill: var(--disabled-fill-color);\n",
              "    box-shadow: none;\n",
              "  }\n",
              "\n",
              "  .colab-df-spinner {\n",
              "    border: 2px solid var(--fill-color);\n",
              "    border-color: transparent;\n",
              "    border-bottom-color: var(--fill-color);\n",
              "    animation:\n",
              "      spin 1s steps(1) infinite;\n",
              "  }\n",
              "\n",
              "  @keyframes spin {\n",
              "    0% {\n",
              "      border-color: transparent;\n",
              "      border-bottom-color: var(--fill-color);\n",
              "      border-left-color: var(--fill-color);\n",
              "    }\n",
              "    20% {\n",
              "      border-color: transparent;\n",
              "      border-left-color: var(--fill-color);\n",
              "      border-top-color: var(--fill-color);\n",
              "    }\n",
              "    30% {\n",
              "      border-color: transparent;\n",
              "      border-left-color: var(--fill-color);\n",
              "      border-top-color: var(--fill-color);\n",
              "      border-right-color: var(--fill-color);\n",
              "    }\n",
              "    40% {\n",
              "      border-color: transparent;\n",
              "      border-right-color: var(--fill-color);\n",
              "      border-top-color: var(--fill-color);\n",
              "    }\n",
              "    60% {\n",
              "      border-color: transparent;\n",
              "      border-right-color: var(--fill-color);\n",
              "    }\n",
              "    80% {\n",
              "      border-color: transparent;\n",
              "      border-right-color: var(--fill-color);\n",
              "      border-bottom-color: var(--fill-color);\n",
              "    }\n",
              "    90% {\n",
              "      border-color: transparent;\n",
              "      border-bottom-color: var(--fill-color);\n",
              "    }\n",
              "  }\n",
              "</style>\n",
              "\n",
              "  <script>\n",
              "    async function quickchart(key) {\n",
              "      const quickchartButtonEl =\n",
              "        document.querySelector('#' + key + ' button');\n",
              "      quickchartButtonEl.disabled = true;  // To prevent multiple clicks.\n",
              "      quickchartButtonEl.classList.add('colab-df-spinner');\n",
              "      try {\n",
              "        const charts = await google.colab.kernel.invokeFunction(\n",
              "            'suggestCharts', [key], {});\n",
              "      } catch (error) {\n",
              "        console.error('Error during call to suggestCharts:', error);\n",
              "      }\n",
              "      quickchartButtonEl.classList.remove('colab-df-spinner');\n",
              "      quickchartButtonEl.classList.add('colab-df-quickchart-complete');\n",
              "    }\n",
              "    (() => {\n",
              "      let quickchartButtonEl =\n",
              "        document.querySelector('#df-51d744a7-a8ed-4fb5-b41f-ef7ed9508c99 button');\n",
              "      quickchartButtonEl.style.display =\n",
              "        google.colab.kernel.accessAllowed ? 'block' : 'none';\n",
              "    })();\n",
              "  </script>\n",
              "</div>\n",
              "\n",
              "    </div>\n",
              "  </div>\n"
            ],
            "application/vnd.google.colaboratory.intrinsic+json": {
              "type": "dataframe",
              "variable_name": "df",
              "summary": "{\n  \"name\": \"df\",\n  \"rows\": 5570,\n  \"fields\": [\n    {\n      \"column\": \"uf\",\n      \"properties\": {\n        \"dtype\": \"category\",\n        \"num_unique_values\": 27,\n        \"samples\": [\n          \"PI\",\n          \"AL\",\n          \"CE\"\n        ],\n        \"semantic_type\": \"\",\n        \"description\": \"\"\n      }\n    },\n    {\n      \"column\": \"cod_uf\",\n      \"properties\": {\n        \"dtype\": \"number\",\n        \"std\": 9,\n        \"min\": 11,\n        \"max\": 53,\n        \"num_unique_values\": 27,\n        \"samples\": [\n          22,\n          27,\n          23\n        ],\n        \"semantic_type\": \"\",\n        \"description\": \"\"\n      }\n    },\n    {\n      \"column\": \"cod_munic\",\n      \"properties\": {\n        \"dtype\": \"number\",\n        \"std\": 15997,\n        \"min\": 13,\n        \"max\": 72202,\n        \"num_unique_values\": 4307,\n        \"samples\": [\n          107,\n          14498,\n          40903\n        ],\n        \"semantic_type\": \"\",\n        \"description\": \"\"\n      }\n    },\n    {\n      \"column\": \"cod_ibge\",\n      \"properties\": {\n        \"dtype\": \"number\",\n        \"std\": 984910,\n        \"min\": 1100015,\n        \"max\": 5300108,\n        \"num_unique_values\": 5570,\n        \"samples\": [\n          2408607,\n          2205102,\n          2100907\n        ],\n        \"semantic_type\": \"\",\n        \"description\": \"\"\n      }\n    },\n    {\n      \"column\": \"municipio\",\n      \"properties\": {\n        \"dtype\": \"string\",\n        \"num_unique_values\": 5297,\n        \"samples\": [\n          \"Sandol\\u00e2ndia\",\n          \"Encanto\",\n          \"Paquet\\u00e1\"\n        ],\n        \"semantic_type\": \"\",\n        \"description\": \"\"\n      }\n    },\n    {\n      \"column\": \"pop2017\",\n      \"properties\": {\n        \"dtype\": \"number\",\n        \"std\": 218399,\n        \"min\": 812,\n        \"max\": 12106920,\n        \"num_unique_values\": 5103,\n        \"samples\": [\n          2146,\n          38365,\n          7489\n        ],\n        \"semantic_type\": \"\",\n        \"description\": \"\"\n      }\n    }\n  ]\n}"
            }
          },
          "metadata": {},
          "execution_count": 6
        }
      ]
    },
    {
      "cell_type": "markdown",
      "metadata": {
        "id": "_tIVqGrgF8D8"
      },
      "source": [
        "### 7.2 Escreva uma função para calcular o PIB percapita  de 2017 de cada município do Brasil, considerando o dataframe resultante do exercício anterior.\n",
        "#### Nomeie a coluna do PIB Percapita com 'pib_percapita' e arredonde o resultado para uma casa decimal usando a função ```round```.\n",
        "#### Dica: Use a função ```round``` dentro de uma função ```apply```."
      ]
    },
    {
      "cell_type": "code",
      "execution_count": null,
      "metadata": {
        "id": "n-ROUHzLF8D8",
        "nbgrader": {
          "grade": false,
          "grade_id": "cell-553qe5248eb14bc30",
          "locked": false,
          "schema_version": 3,
          "solution": true,
          "task": false
        },
        "scrolled": true
      },
      "outputs": [],
      "source": [
        "def pib_percapita(pib_pop):\n",
        "    \"\"\"retorne um dataframe contendo o PIB percapita dos municípios.\n",
        "    \"\"\"\n",
        "    ### BEGIN SOLUTION\n",
        "    pib_pop['pib_percapita'] = pib_pop['2017']/pib_pop['pop2017']\n",
        "    pib_pop['pib_percapita'] = pib_pop['pib_percapita'].apply(lambda x: round(x, 1))\n",
        "    return pib_pop\n",
        "    ### END SOLUTION\n"
      ]
    },
    {
      "cell_type": "code",
      "execution_count": null,
      "metadata": {
        "id": "l9zygGMhF8D9"
      },
      "outputs": [],
      "source": [
        "## Faça seus testes aqui\n",
        "\n"
      ]
    },
    {
      "cell_type": "code",
      "execution_count": null,
      "metadata": {
        "id": "4BiHIcYUF8D9"
      },
      "outputs": [],
      "source": [
        "# Validação\n",
        "# Considerando a função merge_pop_pib do exercicio 7.1\n",
        "df_pib_pop = merge_pop_pib(path_pop, path_pib)\n",
        "\n",
        "entradas = [[df_pib_pop]]\n",
        "saidas = [19.6]\n",
        "validate(pib_percapita, entradas, lambda x: x.loc[0,'pib_percapita'], saidas, \"7.2\", False)"
      ]
    },
    {
      "cell_type": "markdown",
      "metadata": {
        "id": "35nGWFLKF8D9"
      },
      "source": [
        "### 7.3 Escreva uma função para retornar os registros dos 10 maiores PIBs percapita do brasil (de 2017) a partir do dataframe do exercício anterior.\n",
        "#### Escreva uma função genérica que receba como parâmetro um dataframe e o nome da coluna de ordenação.\n",
        "#### Dica 1: Use o método sort_values para ordenar o dataframe. Para uma ordenação descendente use ascending=False.\n",
        "#### Dica 2: Use o atributo iloc para retornar todas as colunas dos 10 primeiros registros."
      ]
    },
    {
      "cell_type": "code",
      "execution_count": null,
      "metadata": {
        "id": "hMkE7gqWF8D9",
        "nbgrader": {
          "grade": false,
          "grade_id": "cell-a60691c9ae84528b",
          "locked": false,
          "schema_version": 3,
          "solution": true,
          "task": false
        }
      },
      "outputs": [],
      "source": [
        "def top10(df, col):\n",
        "    \"\"\"retorne os top 10 registros do dataframe df ordenados por col\n",
        "    \"\"\"\n",
        "    ### BEGIN SOLUTION\n",
        "    return df.sort_values(by=col, ascending=False).iloc[:10,:]\n",
        "    ### END SOLUTION\n"
      ]
    },
    {
      "cell_type": "code",
      "execution_count": null,
      "metadata": {
        "id": "cJwDk7hxF8D-"
      },
      "outputs": [],
      "source": [
        "## Faça seus testes aqui\n",
        "df_pib_pop = merge_pop_pib(path_pop, path_pib)\n",
        "pib_percapita_2017 = pib_percapita(df_pib_pop)\n"
      ]
    },
    {
      "cell_type": "code",
      "execution_count": null,
      "metadata": {
        "id": "mqh1tJJnF8D-"
      },
      "outputs": [],
      "source": [
        "# Validação\n",
        "df_pib_pop = merge_pop_pib(path_pop, path_pib)\n",
        "pib_percapita_2017 = pib_percapita(df_pib_pop)\n",
        "\n",
        "test_data = {'cod_ibge7': {3677: '3536505', 3547: '3524709'},\n",
        "             'municipio_x': {3677: 'Paulínia', 3547: 'Jaguariúna'},\n",
        "             'uf': {3677: 'SP', 3547: 'SP'},\n",
        "             'pib_percapita': {3677: 344.8, 3547: 209.3}}\n",
        "test_data_y = {'cod_ibge7': {3677: '3536505', 3547: '3524709'},\n",
        "             'municipio_y': {3677: 'Paulínia', 3547: 'Jaguariúna'},\n",
        "             'uf': {3677: 'SP', 3547: 'SP'},\n",
        "             'pib_percapita': {3677: 344.8, 3547: 209.3}}\n",
        "\n",
        "entradas = [[pib_percapita_2017, 'pib_percapita']]\n",
        "saidas = [test_data]\n",
        "val1 = validate(top10, entradas, lambda x: x[['cod_ibge7', 'municipio_x', 'uf', 'pib_percapita']].iloc[[0,9]].to_dict(), saidas, \"7.3\", False)\n",
        "if not val1:\n",
        "    saidas = [test_data_y]\n",
        "    val2 = validate(top10, entradas, lambda x: x[['cod_ibge7', 'municipio_y', 'uf', 'pib_percapita']].iloc[[0,9]].to_dict(), saidas, \"7.3\", False)\n",
        "    print(val2)\n",
        "else:\n",
        "    print(val1)"
      ]
    },
    {
      "cell_type": "markdown",
      "metadata": {
        "id": "E-z4DlYzF8D-"
      },
      "source": [
        "### 7.4 Escreva uma função para fazer o merge do dataset de morbidade consolidado com o dataset de população\n",
        "#### O dataset da população deve ficar a esquerda e o dataset da morbidade a direita no resultado.\n",
        "#### Dica 1: No dataset de morbidade existem valores NA representados por caracteres específicos em várias colunas do dataframe. Descubra quais são esses caracteres e especifiquei no argumento na_values. Passe nesse argumento uma lista como os caracteres que devem ser interpretados como NA.\n",
        "#### Dica 2: No dataset de morbidade, especifique o separador, o caracter de números decimais e o tipo do dado do cod_ibge6 como str. Ou seja, dtype={'cod_ibge6': str}.\n",
        "#### Dica 3: No dataset de população, converta o cod_munic e cod_uf para str no momento de carregar o dataset de população, usando novamente o argumento dtype.\n",
        "#### Dica 4: No dataset de população, construa o código ibge de 6 dígitos do município a partir das colunas ```cod_uf``` e ```cod_munic```.\n"
      ]
    },
    {
      "cell_type": "code",
      "execution_count": null,
      "metadata": {
        "id": "QEn6a8cSF8D-",
        "nbgrader": {
          "grade": false,
          "grade_id": "cell-553em5248eb14bc30",
          "locked": false,
          "schema_version": 3,
          "solution": true,
          "task": false
        }
      },
      "outputs": [],
      "source": [
        "def merge_morbidade_pop(path_pop, path_morbidade):\n",
        "    \"\"\"retorne o merge dos datasets de população e morbidade.\n",
        "    \"\"\"\n",
        "    ### BEGIN SOLUTION\n",
        "    df_pop = pd.read_excel(path_pop, sheet_name=\"Municipios\", dtype={'cod_munic': str, 'cod_uf': str})\n",
        "    # Concatena o codigo da UF com o codigo do municipio\n",
        "    df_pop['cod_ibge6'] = df_pop['cod_uf'] + df_pop['cod_munic'].apply(lambda x: x[:-1])\n",
        "    df_morbidade = pd.read_csv(path_morbidade, sep=';', decimal=',', dtype={'cod_ibge6': str},\n",
        "                               na_values=['-', '...'])\n",
        "    return pd.merge(df_pop, df_morbidade, on='cod_ibge6')\n",
        "    ### END SOLUTION\n"
      ]
    },
    {
      "cell_type": "code",
      "execution_count": null,
      "metadata": {
        "id": "CrDBC6P8F8D_"
      },
      "outputs": [],
      "source": [
        "## Faça seus testes aqui\n",
        "path_morbidade = 'https://github.com/alexlopespereira/enapespcd2021/raw/main/data/originais/morbidade/consolidado/morbidade.csv'\n",
        "path_pop = 'https://github.com/alexlopespereira/enapespcd2021/raw/main/data/originais/populacao/estimativa_dou_2017.xlsx'\n"
      ]
    },
    {
      "cell_type": "code",
      "execution_count": null,
      "metadata": {
        "id": "7RhNUSyhF8D_"
      },
      "outputs": [],
      "source": [
        "path_morbidade = 'https://github.com/alexlopespereira/enapespcd2021/raw/main/data/originais/morbidade/consolidado/morbidade.csv'\n",
        "path_pop = 'https://github.com/alexlopespereira/enapespcd2021/raw/main/data/originais/populacao/estimativa_dou_2017.xlsx'\n",
        "test_data = {'Internações': 149, 'AIH_aprovadas': 149, 'Valor_total': 101282.26}\n",
        "\n",
        "entradas = [[path_pop, path_morbidade]]\n",
        "saidas = [{'Internações': 149, 'AIH_aprovadas': 149, 'Valor_total': 101282.26}]\n",
        "val1 = validate(merge_morbidade_pop, entradas, lambda x: x[(x['mes']=='Abr') & (x['cod_munic']=='00015')].loc[:,['Internações', 'AIH_aprovadas', 'Valor_total']].to_dict(orient='records')[0], saidas, \"7.4\", False)\n",
        "if not val1:\n",
        "    val2 = validate(top10, entradas, lambda x: x.iloc[0, 8:11].to_dict(), saidas, \"7.4\", False)\n",
        "    print(val2)\n",
        "else:\n",
        "    print(val1)"
      ]
    }
  ],
  "metadata": {
    "celltoolbar": "Create Assignment",
    "colab": {
      "name": "Aula7_Exercicio_Solucoes.ipynb",
      "provenance": []
    },
    "kernelspec": {
      "display_name": "Python 3",
      "language": "python",
      "name": "python3"
    },
    "language_info": {
      "codemirror_mode": {
        "name": "ipython",
        "version": 3
      },
      "file_extension": ".py",
      "mimetype": "text/x-python",
      "name": "python",
      "nbconvert_exporter": "python",
      "pygments_lexer": "ipython3",
      "version": "3.8.3"
    },
    "name": "_merged",
    "varInspector": {
      "cols": {
        "lenName": 16,
        "lenType": 16,
        "lenVar": 40
      },
      "kernels_config": {
        "python": {
          "delete_cmd_postfix": "",
          "delete_cmd_prefix": "del ",
          "library": "var_list.py",
          "varRefreshCmd": "print(var_dic_list())"
        },
        "r": {
          "delete_cmd_postfix": ") ",
          "delete_cmd_prefix": "rm(",
          "library": "var_list.r",
          "varRefreshCmd": "cat(var_dic_list()) "
        }
      },
      "types_to_exclude": [
        "module",
        "function",
        "builtin_function_or_method",
        "instance",
        "_Feature"
      ],
      "window_display": false
    }
  },
  "nbformat": 4,
  "nbformat_minor": 0
}