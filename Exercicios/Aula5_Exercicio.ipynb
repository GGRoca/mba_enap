{
  "cells": [
    {
      "cell_type": "markdown",
      "metadata": {
        "id": "view-in-github",
        "colab_type": "text"
      },
      "source": [
        "<a href=\"https://colab.research.google.com/github/alexlopespereira/mba_enap/blob/main/Exercicios/Aula5_Exercicio.ipynb\" target=\"_parent\"><img src=\"https://colab.research.google.com/assets/colab-badge.svg\" alt=\"Open In Colab\"/></a>"
      ]
    },
    {
      "cell_type": "markdown",
      "metadata": {
        "id": "1yj3DBgX2Zro"
      },
      "source": [
        "# Aula 5 - Exercícios - Python e Pandas"
      ]
    },
    {
      "cell_type": "code",
      "execution_count": 2,
      "metadata": {
        "id": "RkNwKAd8kJz5"
      },
      "outputs": [],
      "source": [
        "!pip install --upgrade ipynb_autograde 1> /dev/null"
      ]
    },
    {
      "cell_type": "code",
      "source": [
        "%env  COURSE=mba_enap\n",
        "from ipynb_autograde.main import init_log, validate\n",
        "init_log()\n",
        "email_result=!gcloud config get-value account\n",
        "if not email_result or 'unset' in email_result[0]:\n",
        "  !gcloud auth login"
      ],
      "metadata": {
        "id": "WxBHNGxie9BB"
      },
      "execution_count": null,
      "outputs": []
    },
    {
      "cell_type": "markdown",
      "metadata": {
        "id": "PyHsXDkl2Zrt"
      },
      "source": [
        "### Onde buscar informações sobre as funções do Pandas\n",
        "[https://pandas.pydata.org/docs/](https://pandas.pydata.org/docs/)"
      ]
    },
    {
      "cell_type": "code",
      "execution_count": 5,
      "metadata": {
        "id": "UrgGFCON2Zrx"
      },
      "outputs": [],
      "source": [
        "# Importe as bibliotecas pandas e numpy\n",
        "import pandas as pd\n",
        "import numpy as np"
      ]
    },
    {
      "cell_type": "markdown",
      "metadata": {
        "id": "Dd-Z8w_b2Zr2"
      },
      "source": [
        "### 5.1 Resolva o problema abaixo com uma função python que utilize umá serie do pandas:\n",
        "#### Entradas : ```[1, 2, 3, 4, 5, 6, 7, 8]``` e ```[2, 4, 6, 8, 10, 12]```\n",
        "#### Resultado Esperado: ```[1, 3, 5, 7]```\n",
        "\n"
      ]
    },
    {
      "cell_type": "code",
      "execution_count": null,
      "metadata": {
        "id": "SY1JbkBw2Zr7"
      },
      "outputs": [],
      "source": []
    },
    {
      "cell_type": "code",
      "source": [
        "prompt51=\"\"\"Escreva uma função que recebe como argumento duas listas de numeros, converte-as duas para series pandas, e encontra o conjunto complementar da 1a serie em relação a 2a. Converta a serie resultante para lista e retorne-a\"\"\""
      ],
      "metadata": {
        "id": "hKnrplpdzjOZ"
      },
      "execution_count": 27,
      "outputs": []
    },
    {
      "cell_type": "code",
      "source": [
        "validate(prompt51, \"A5-E1\")"
      ],
      "metadata": {
        "id": "w3IryUHOzjOa"
      },
      "execution_count": null,
      "outputs": []
    },
    {
      "cell_type": "code",
      "execution_count": null,
      "metadata": {
        "nbgrader": {
          "grade": true,
          "grade_id": "cell-9ffda88d58e9282a",
          "locked": true,
          "points": 1,
          "schema_version": 3,
          "solution": false,
          "task": false
        },
        "id": "u6Fapr1K2Zr8"
      },
      "outputs": [],
      "source": []
    },
    {
      "cell_type": "markdown",
      "metadata": {
        "id": "H69F5ikL2Zr-"
      },
      "source": [
        "### 5.2 Resolva o problema abaixo com uma função python que utilize umá serie do pandas:\n",
        "#### Entrada: ```[1, 2, 3, 4, 5, 6, 7, 8]``` e ```[2, 4, 6, 8, 10, 12]```\n",
        "#### Resultado Esperado: ```[1, 3, 5, 7,10,12]```\n"
      ]
    },
    {
      "cell_type": "code",
      "source": [
        "prompt52=\"\"\"Escreva uma função que recebe como argumento duas listas de numeros, converte-as duas para series pandas, e encontra o conjunto uniao dos dois conjuntos complementares das duas series.  Converta a serie resultante para lista e retorne-a\"\"\""
      ],
      "metadata": {
        "id": "L7sc2Blgk3Yk"
      },
      "execution_count": 29,
      "outputs": []
    },
    {
      "cell_type": "code",
      "source": [
        "validate(prompt52, \"A5-E2\")"
      ],
      "metadata": {
        "id": "4XWCu4Pnk3Oy"
      },
      "execution_count": null,
      "outputs": []
    },
    {
      "cell_type": "markdown",
      "source": [
        "### Instruções para Questões 5.3 a 5.5\n",
        "#### Considere que todos os dataframes de entrada estão no seguinte formato (o conteúdo varia de acordo com o exercício):\n",
        "```\n",
        "[{\"name\": \"Anastasia\", \"score\": 12.5, \"attempts\": 1, \"qualify\": \"yes\"},\n",
        "{\"name\": \"Dima\", \"score\": 9.0, \"attempts\": 3, \"qualify\": \"no\"},\n",
        "{\"name\": \"Katherine\", \"score\": 16.5, \"attempts\": 2, \"qualify\": \"yes\"},\n",
        "{\"name\": \"James\", \"score\": \"\", \"attempts\": 3, \"qualify\": \"no\"}]\n",
        "```"
      ],
      "metadata": {
        "id": "0EBIqgRVsy-W"
      }
    },
    {
      "cell_type": "markdown",
      "metadata": {
        "id": "d23-lIOX2ZsG"
      },
      "source": [
        "### 5.3 Escreva uma função para selecionar as linhas de um dataframe onde o valor na coluna especificada seja ausente (NA)\n",
        "\n",
        "#### Entrada:\n",
        "Um dicionário com os seguintes dados\n",
        "\n",
        "| name      |   score |   attempts | qualify   |\n",
        "|:----------|--------:|-----------:|:----------|\n",
        "| Anastasia |    12.5 |          1 | yes       |\n",
        "| Dima      |     9   |          3 | no        |\n",
        "| Katherine |    16.5 |          2 | yes       |\n",
        "| James     |         |          3 | no        |\n",
        "| Emily     |     9   |          2 | no        |\n",
        "| Michael   |    20   |          3 | yes       |\n",
        "| Matthew   |    14.5 |          1 | yes       |\n",
        "| Laura     |         |          1 | no        |\n",
        "\n",
        "E ```score```\n",
        "\n",
        "#### Resultado esperado:\n",
        "Um dicionário com os seguintes dados\n",
        "\n",
        "| name   | attempts | qualify   |\n",
        "|:-------|---------:|:----------|\n",
        "| James  |        3 | no        |\n",
        "| Laura  |        1 | no        |"
      ]
    },
    {
      "cell_type": "code",
      "source": [
        "prompt53=\"\"\"Escreva uma função python que recebe um dicionario e o converte num dataframe. Interprete valores \"\" do dicionario de entrada como NA. Seleciona as linhas cujos valores da coluna especificada no segundo argumento da função são NA. Deixe no resultado final apenas as colunas name,\tattempts, qualify. Retorna as linhas selecionadas no formato de um dicionário orientado por registros.\"\"\""
      ],
      "metadata": {
        "id": "Q3zf5kREI4Ro"
      },
      "execution_count": 53,
      "outputs": []
    },
    {
      "cell_type": "code",
      "source": [
        "validate(prompt53, \"A5-E3\")"
      ],
      "metadata": {
        "id": "q7AZhcFSJcCL"
      },
      "execution_count": null,
      "outputs": []
    },
    {
      "cell_type": "markdown",
      "metadata": {
        "id": "LbBwg39A2ZsJ"
      },
      "source": [
        "### 5.4 Escreva uma função para mudar o conteúdo de uma coluna de um dataframe, especificando como parâmetros de entrada o nome da coluna, o valor original e o novo valor.\n",
        "#### Entrada:\n",
        "Um dicionário com os seguintes dados\n",
        "\n",
        "| name      |   score | qualify   |\n",
        "|:----------|--------:|:----------|\n",
        "| Jose |    12.5 | yes       |\n",
        "| Maria      |     9   | no        |\n",
        "| Joao |    16.5 | yes       |\n",
        "| Pedro     |   13   | no        |\n",
        "\n",
        "E ```name```, ```Pedro``` e ```Rafael```\n",
        "\n",
        "#### Resultado Esperado:\n",
        "Um dicionário com os seguintes dados\n",
        "\n",
        "| name      |   score | qualify   |\n",
        "|:----------|--------:|:----------|\n",
        "| Jose |    12.5 | yes       |\n",
        "| Maria      |     9   | no        |\n",
        "| Joao |    16.5 | yes       |\n",
        "| Rafael    |   13   | no        |\n",
        "\n"
      ]
    },
    {
      "cell_type": "code",
      "execution_count": 67,
      "metadata": {
        "nbgrader": {
          "grade": false,
          "grade_id": "cell-553f5248eb14bc30",
          "locked": false,
          "schema_version": 3,
          "solution": true,
          "task": false
        },
        "id": "71oehRsR2ZsJ"
      },
      "outputs": [],
      "source": [
        "prompt54=\"\"\"Escreva uma função python que recebe um dicionario orientado por records e o converte num dataframe. Altera o conteúdo da celula especificada pela coluna referenciada no 2o argumento e pelo conteúdo do 3o argumento atribuindo o valor do 4o argumento. Retorne o resultado no formato de um dicionário orientado por registros.\"\"\""
      ]
    },
    {
      "cell_type": "code",
      "execution_count": null,
      "metadata": {
        "id": "8pQRahX_2ZsK"
      },
      "outputs": [],
      "source": [
        "validate(prompt54, \"A5-E4\")"
      ]
    },
    {
      "cell_type": "code",
      "execution_count": null,
      "metadata": {
        "nbgrader": {
          "grade": true,
          "grade_id": "cell-0e2b65cefe06bdc60",
          "locked": true,
          "points": 1,
          "schema_version": 3,
          "solution": false,
          "task": false
        },
        "id": "npxq-hhK2ZsL"
      },
      "outputs": [],
      "source": []
    },
    {
      "cell_type": "markdown",
      "metadata": {
        "id": "lqTUETV7pJ-e"
      },
      "source": [
        "### 5.5 Resolva o problema abaixo com uma função python que utilize umá serie do pandas\n",
        "\n",
        "#### Entrada:\n",
        "Um dicionário com os seguintes dados\n",
        "\n",
        "| name      |   score | qualify   |\n",
        "|:----------|--------:|:----------|\n",
        "| Jose |    12.5 | yes       |\n",
        "| Maria      |     9   | no        |\n",
        "| Joao |    16.5 | yes       |\n",
        "\n",
        "#### Resultado Esperado:\n",
        "Um dicionário com os seguintes dados\n",
        "\n",
        "| name      |   score | qualify   |\n",
        "|:----------|--------:|:----------|\n",
        "| Jose |    12.5 | 1      |\n",
        "| Maria      |     9   | 0     |\n",
        "| Joao |    16.5 | 1      |\n"
      ]
    },
    {
      "cell_type": "code",
      "source": [
        "prompt55=\"\"\"Escreva uma função python que recebe um dicionario orientado por records e o converte num dataframe. Faça um mapeamento de yes->1 e no->0 para a coluna qualify. Retorne o resultado no formato de um dicionário orientado por registros.\"\"\""
      ],
      "metadata": {
        "id": "givgbsXfpgwu"
      },
      "execution_count": 64,
      "outputs": []
    },
    {
      "cell_type": "code",
      "source": [
        "validate(prompt55, \"A5-E5\")"
      ],
      "metadata": {
        "id": "fpVq_fWrq_Nw"
      },
      "execution_count": null,
      "outputs": []
    },
    {
      "cell_type": "code",
      "source": [],
      "metadata": {
        "id": "NdAlmTWSrlDf"
      },
      "execution_count": null,
      "outputs": []
    },
    {
      "cell_type": "markdown",
      "source": [
        "### 5.6 Resolva o problema abaixo com uma função python que utilize umá serie do pandas\n",
        "\n",
        "#### Entrada:\n",
        "```https://raw.githubusercontent.com/mwaskom/seaborn-data/master/diamonds.csv```, ```price``` e ```3```\n",
        "\n",
        "### Resultado esperado:\n",
        "\n",
        "Um dicionário com os seguintes dados\n",
        "\n",
        "|       |   carat | cut       | color   | clarity   |   depth |   table |   price |    x |    y |    z |\n",
        "|------:|--------:|:----------|:--------|:----------|--------:|--------:|--------:|-----:|-----:|-----:|\n",
        "| 27749 |    2.29 | Premium   | I       | VS2       |    60.8 |      60 |   18823 | 8.5  | 8.47 | 5.16 |\n",
        "| 27748 |    2    | Very Good | G       | SI1       |    63.5 |      56 |   18818 | 7.9  | 7.97 | 5.04 |\n",
        "| 27747 |    1.51 | Ideal     | G       | IF        |    61.7 |      55 |   18806 | 7.37 | 7.41 | 4.56 |"
      ],
      "metadata": {
        "id": "xRy736hZwLzq"
      }
    },
    {
      "cell_type": "code",
      "source": [
        "prompt56=\"\"\"Crie uma função que recebe como argumento a url de um csv. Faz o download do csv, converte-o para Dataframe, ordena por ordem decrescente pela coluna referenciada no 2o argumento, e retorna os top N resultados, onde N é o 3o argumento da função. Retorne o resultado no formato de um dicionário orientado por registros.\"\"\""
      ],
      "metadata": {
        "id": "ctspmTJmweGz"
      },
      "execution_count": 69,
      "outputs": []
    },
    {
      "cell_type": "code",
      "source": [
        "validate(prompt56, \"A5-E6\")"
      ],
      "metadata": {
        "id": "l-Tt7xEKwfqz"
      },
      "execution_count": null,
      "outputs": []
    },
    {
      "cell_type": "markdown",
      "source": [
        "### 5.7 Ainda sobre o dataframe diamonds do exercicio anterior, crie um prompt de uma função para retornar os diamentes que têm as três dimensões maiores do que um dado valor.\n",
        "\n",
        "#### Entrada:\n",
        "```https://raw.githubusercontent.com/mwaskom/seaborn-data/master/diamonds.csv```, ```x```, ```y```, ```z``` e ```7```\n",
        "\n",
        "#### Resultado esperado:\n",
        "\n",
        "Um dicionário com os seguintes dados\n",
        "\n",
        "|   carat | cut     | color   | clarity   |   depth |   table |   price |    x |    y |    z |\n",
        "|--------:|:--------|:--------|:----------|--------:|--------:|--------:|-----:|-----:|-----:|\n",
        "|       2 | Premium | H       | SI2       |    58.9 |      57 |   12210 | 8.09 | 58.9 | 8.06 |\n"
      ],
      "metadata": {
        "id": "xMpQHOu20f3I"
      }
    },
    {
      "cell_type": "code",
      "source": [
        "prompt57=\"\"\"Crie uma função python para fazer download cuja URL do csv é passada no 1o argumento, depois filtrar os registros deste dataframe de tal forma que as tres colunas identificadas nos argumentos 2 a 4 tenham ao mesmo tempo valores maiores do que o valor especificado no argumento 5o. Retorne o resultado no formato de um dicionário orientado por registros.\"\"\""
      ],
      "metadata": {
        "id": "7qBHo8k1x2z8"
      },
      "execution_count": 71,
      "outputs": []
    },
    {
      "cell_type": "code",
      "source": [
        "validate(prompt57, \"A5-E7\")"
      ],
      "metadata": {
        "id": "hAX9rH9j3c0F"
      },
      "execution_count": null,
      "outputs": []
    },
    {
      "cell_type": "markdown",
      "source": [
        "### 5.8 Faça um prompt de uma função que utilize uma função lambda (anônima) para resolver o problema abaixo\n",
        "\n",
        "#### Entrada:\n",
        "```\n",
        "[{'nome': ['Pedro'], 'classe': ['V'], 'disciplina': ['portugues', 'matematica', 'ciencia']},\n",
        "{'nome': ['Jose'], 'classe': ['V'], 'disciplina': ['portugues', 'matematica', 'ciencia']},\n",
        "{'nome': ['Maria'], 'classe': ['V'], 'disciplina': ['portugues', 'matematica', 'ciencia']}\n",
        "]\n",
        "```\n",
        "e\n",
        "```'nome'```\n",
        "\n",
        "#### Resultado esperado:\n",
        "```\n",
        "[{'nome': ['Jose'], 'classe': ['V'], 'disciplina': ['portugues', 'matematica', 'ciencia']},\n",
        "{'nome': ['Maria'], 'classe': ['V'], 'disciplina': ['portugues', 'matematica', 'ciencia']},\n",
        "{'nome': ['Pedro'], 'classe': ['V'], 'disciplina': ['portugues', 'matematica', 'ciencia']}]\n",
        "```\n"
      ],
      "metadata": {
        "id": "_MKCmg-z3baG"
      }
    },
    {
      "cell_type": "code",
      "source": [
        "prompt58 = \"\"\"Crie uma função python para ordernar uma lista de dicionários a partir de uma chave do dicionário especificada no 2o argumento da função. Retorne a lista ordenada.\"\"\""
      ],
      "metadata": {
        "id": "fijvzBFA5s7p"
      },
      "execution_count": 76,
      "outputs": []
    },
    {
      "cell_type": "code",
      "source": [
        "validate(prompt58, \"A5-E8\")"
      ],
      "metadata": {
        "colab": {
          "base_uri": "https://localhost:8080/"
        },
        "id": "NYe3pkMd6DCH",
        "outputId": "822336d6-a0ae-4b29-82a4-1d0fd89d76c8"
      },
      "execution_count": 89,
      "outputs": [
        {
          "output_type": "stream",
          "name": "stdout",
          "text": [
            "Codigo gerado: \n",
            "def ordenar_lista(lista, chave):\n",
            "    return sorted(lista, key=lambda dicionario: dicionario[chave])\n",
            "\n",
            "\n",
            "❌ Failed the Test Case:\n",
            "  Expected: [{'nome': ['Jose'], 'classe': ['V'], 'disciplina': ['portugues', 'matematica', 'ciencia']}, {'nome': ['Maria'], 'classe': ['V'], 'disciplina': ['portugues', 'matematica', 'ciencia']}, {'nome': ['Pedro'], 'classe': ['V'], 'disciplina': ['portugues', 'matematica', 'ciencia']}]\n",
            "  Error while running the code: Error from cloud function: string indices must be integers, not 'list'\n"
          ]
        }
      ]
    },
    {
      "cell_type": "code",
      "source": [],
      "metadata": {
        "id": "elNVOOFj6Hyv"
      },
      "execution_count": null,
      "outputs": []
    },
    {
      "cell_type": "markdown",
      "source": [
        "### 5.9 Faça um prompt de uma função que utilize uma função lambda (anônima) para resolver o problema abaixo\n",
        "\n",
        "#### Entrada: ```'nome'``` e\n",
        "Um dicionário com os seguintes dados\n",
        "\n",
        "|   d1 |   d2 |   d3 |\n",
        "|-----:|-----:|-----:|\n",
        "|   20 |   33 |   19 |\n",
        "|   36 |   25 |   47 |\n",
        "|   25 |   48 |    9 |\n",
        "|    4 |   39 |   27 |\n",
        "\n",
        "\n",
        "\n",
        "#### Resultado esperado: ```[25, 39, 27]```\n"
      ],
      "metadata": {
        "id": "F12tjel66o0a"
      }
    },
    {
      "cell_type": "code",
      "source": [
        "prompt59 = \"\"\"Crie uma função python receber um dicionario orientado por registros, transforma-lo num dataframe e selecionar o 2o maior valor de cada coluna e retornar numa lista do tipo int cuja ordenação é a mesma das colunas do dataframe.\"\"\""
      ],
      "metadata": {
        "id": "yd0A3cON6o0f"
      },
      "execution_count": 87,
      "outputs": []
    },
    {
      "cell_type": "code",
      "source": [
        "validate(prompt59, \"A5-E9\")"
      ],
      "metadata": {
        "colab": {
          "base_uri": "https://localhost:8080/"
        },
        "outputId": "7de27226-b94d-469a-f667-02bbba118cc9",
        "id": "L_EU-KQx6o0i"
      },
      "execution_count": 88,
      "outputs": [
        {
          "output_type": "stream",
          "name": "stdout",
          "text": [
            "Codigo gerado: \n",
            "def obter_segundo_maior_valor(dicionario):\n",
            "    df = pd.DataFrame.from_records(dicionario)\n",
            "    segundo_maior = []\n",
            "    for coluna in df.columns:\n",
            "        valores_unicos = df[coluna].dropna().unique()\n",
            "        if len(valores_unicos) < 2:\n",
            "            segundo_maior.append(int(valores_unicos[0]) if len(valores_unicos) == 1 else None)\n",
            "        else:\n",
            "            sorted_valores = sorted(valores_unicos, reverse=True)\n",
            "            segundo_maior.append(int(sorted_valores[1]))\n",
            "    return segundo_maior\n",
            "\n",
            "# Example usage:\n",
            "# dicionario = [\n",
            "#     {\"A\": 10, \"B\": 20},\n",
            "#     {\"A\": 30, \"B\": 15},\n",
            "#     {\"A\": 20, \"B\": 25}\n",
            "# ]\n",
            "# print(obter_segundo_maior_valor(dicionario))  # Output: [20, 20]\n",
            "\n",
            "✅ Passed the Test Case!\n",
            "  Expected: [25, 39, 27]\n",
            "  Delivered: [25, 39, 27]\n"
          ]
        }
      ]
    },
    {
      "cell_type": "code",
      "source": [],
      "metadata": {
        "id": "7EYz6EDp8_hB"
      },
      "execution_count": null,
      "outputs": []
    }
  ],
  "metadata": {
    "kernelspec": {
      "display_name": "Python 3",
      "language": "python",
      "name": "python3"
    },
    "language_info": {
      "codemirror_mode": {
        "name": "ipython",
        "version": 3
      },
      "file_extension": ".py",
      "mimetype": "text/x-python",
      "name": "python",
      "nbconvert_exporter": "python",
      "pygments_lexer": "ipython3",
      "version": "3.8.3"
    },
    "name": "_merged",
    "varInspector": {
      "cols": {
        "lenName": 16,
        "lenType": 16,
        "lenVar": 40
      },
      "kernels_config": {
        "python": {
          "delete_cmd_postfix": "",
          "delete_cmd_prefix": "del ",
          "library": "var_list.py",
          "varRefreshCmd": "print(var_dic_list())"
        },
        "r": {
          "delete_cmd_postfix": ") ",
          "delete_cmd_prefix": "rm(",
          "library": "var_list.r",
          "varRefreshCmd": "cat(var_dic_list()) "
        }
      },
      "types_to_exclude": [
        "module",
        "function",
        "builtin_function_or_method",
        "instance",
        "_Feature"
      ],
      "window_display": false
    },
    "colab": {
      "provenance": [],
      "include_colab_link": true
    }
  },
  "nbformat": 4,
  "nbformat_minor": 0
}