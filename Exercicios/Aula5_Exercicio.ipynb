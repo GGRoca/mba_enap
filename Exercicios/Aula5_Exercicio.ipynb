{
  "cells": [
    {
      "cell_type": "markdown",
      "metadata": {
        "id": "view-in-github",
        "colab_type": "text"
      },
      "source": [
        "<a href=\"https://colab.research.google.com/github/alexlopespereira/mba_enap/blob/main/Exercicios/Aula5_Exercicio.ipynb\" target=\"_parent\"><img src=\"https://colab.research.google.com/assets/colab-badge.svg\" alt=\"Open In Colab\"/></a>"
      ]
    },
    {
      "cell_type": "markdown",
      "metadata": {
        "id": "1yj3DBgX2Zro"
      },
      "source": [
        "# Aula 5 - Exercícios - Python e Pandas"
      ]
    },
    {
      "cell_type": "markdown",
      "source": [
        "### Documentação do Autgrader [Link](https://github.com/alexlopespereira/mba_enap/blob/main/Exercicios/Autograder.ipynb)\n",
        "\n",
        "\n",
        "*   Link para o gabarito das questões\n",
        "*   Imports padrão\n",
        "*   Instalação\n",
        "*   Autenticaçao para nota\n",
        "*   Validação\n",
        "\n",
        "\n"
      ],
      "metadata": {
        "id": "isqhNh0K2rW7"
      }
    },
    {
      "cell_type": "code",
      "execution_count": null,
      "metadata": {
        "id": "RkNwKAd8kJz5"
      },
      "outputs": [],
      "source": [
        "!pip install --upgrade ipynb_autograde 1> /dev/null"
      ]
    },
    {
      "cell_type": "code",
      "source": [
        "%env  COURSE=mba_enap\n",
        "from ipynb_autograde.main import init_log, validate\n",
        "init_log()\n",
        "email_result=!gcloud config get-value account\n",
        "if not email_result or 'unset' in email_result[0]:\n",
        "  !gcloud auth login"
      ],
      "metadata": {
        "id": "WxBHNGxie9BB"
      },
      "execution_count": null,
      "outputs": []
    },
    {
      "cell_type": "markdown",
      "metadata": {
        "id": "PyHsXDkl2Zrt"
      },
      "source": [
        "### Onde buscar informações sobre as funções do Pandas\n",
        "[https://pandas.pydata.org/docs/](https://pandas.pydata.org/docs/)"
      ]
    },
    {
      "cell_type": "code",
      "execution_count": null,
      "metadata": {
        "id": "UrgGFCON2Zrx"
      },
      "outputs": [],
      "source": [
        "# Importe as bibliotecas pandas e numpy\n",
        "import pandas as pd\n",
        "import numpy as np"
      ]
    },
    {
      "cell_type": "markdown",
      "metadata": {
        "id": "Dd-Z8w_b2Zr2"
      },
      "source": [
        "### 5.1 Resolva o problema abaixo com uma função python que utilize umá serie do pandas:\n",
        "#### Entradas : ```[1, 2, 3, 4, 5, 6, 7, 8]``` e ```[2, 4, 6, 8, 10, 12]```\n",
        "#### Resultado Esperado: ```[1, 3, 5, 7]```\n",
        "\n"
      ]
    },
    {
      "cell_type": "code",
      "execution_count": null,
      "metadata": {
        "id": "SY1JbkBw2Zr7"
      },
      "outputs": [],
      "source": []
    },
    {
      "cell_type": "code",
      "source": [
        "prompt51=\"\"\"Escreva uma função que recebe como argumento duas listas de numeros, converte-as duas para series pandas, e encontra o conjunto complementar da 1a serie em relação a 2a. Converta a serie resultante para lista e retorne-a\"\"\""
      ],
      "metadata": {
        "id": "hKnrplpdzjOZ"
      },
      "execution_count": null,
      "outputs": []
    },
    {
      "cell_type": "code",
      "source": [
        "validate(prompt51, \"A5-E1\")"
      ],
      "metadata": {
        "id": "w3IryUHOzjOa"
      },
      "execution_count": null,
      "outputs": []
    },
    {
      "cell_type": "code",
      "execution_count": null,
      "metadata": {
        "nbgrader": {
          "grade": true,
          "grade_id": "cell-9ffda88d58e9282a",
          "locked": true,
          "points": 1,
          "schema_version": 3,
          "solution": false,
          "task": false
        },
        "id": "u6Fapr1K2Zr8"
      },
      "outputs": [],
      "source": []
    },
    {
      "cell_type": "markdown",
      "metadata": {
        "id": "H69F5ikL2Zr-"
      },
      "source": [
        "### 5.2 Resolva o problema abaixo com uma função python que utilize umá serie do pandas:\n",
        "#### Entrada: ```[1, 2, 3, 4, 5, 6, 7, 8]``` e ```[2, 4, 6, 8, 10, 12]```\n",
        "#### Resultado Esperado: ```[1, 3, 5, 7,10,12]```\n"
      ]
    },
    {
      "cell_type": "code",
      "source": [
        "prompt52=\"\"\"Escreva uma função que recebe como argumento duas listas de numeros, converte-as duas para series pandas, e encontra o conjunto uniao dos dois conjuntos complementares das duas series.  Converta a serie resultante para lista e retorne-a\"\"\""
      ],
      "metadata": {
        "id": "L7sc2Blgk3Yk"
      },
      "execution_count": null,
      "outputs": []
    },
    {
      "cell_type": "code",
      "source": [
        "validate(prompt52, \"A5-E2\")"
      ],
      "metadata": {
        "id": "4XWCu4Pnk3Oy"
      },
      "execution_count": null,
      "outputs": []
    },
    {
      "cell_type": "markdown",
      "source": [
        "### Instruções para Questões 5.3 a 5.5\n",
        "#### Considere que todos os dataframes de entrada e de saída estão no seguinte formato (o conteúdo varia de acordo com o exercício):\n",
        "```\n",
        "[{\"name\": \"Anastasia\", \"score\": 12.5, \"attempts\": 1, \"qualify\": \"yes\"},\n",
        "{\"name\": \"Dima\", \"score\": 9.0, \"attempts\": 3, \"qualify\": \"no\"},\n",
        "{\"name\": \"Katherine\", \"score\": 16.5, \"attempts\": 2, \"qualify\": \"yes\"},\n",
        "{\"name\": \"James\", \"score\": \"\", \"attempts\": 3, \"qualify\": \"no\"}]\n",
        "```"
      ],
      "metadata": {
        "id": "0EBIqgRVsy-W"
      }
    },
    {
      "cell_type": "markdown",
      "metadata": {
        "id": "d23-lIOX2ZsG"
      },
      "source": [
        "### 5.3 Escreva uma função para selecionar as linhas de um dataframe onde o valor na coluna especificada seja ausente (NA)\n",
        "\n",
        "#### Entrada:\n",
        "Um dicionário com os seguintes dados\n",
        "\n",
        "| name      |   score |   attempts | qualify   |\n",
        "|:----------|--------:|-----------:|:----------|\n",
        "| Anastasia |    12.5 |          1 | yes       |\n",
        "| Dima      |     9   |          3 | no        |\n",
        "| Katherine |    16.5 |          2 | yes       |\n",
        "| James     |         |          3 | no        |\n",
        "| Emily     |     9   |          2 | no        |\n",
        "| Michael   |    20   |          3 | yes       |\n",
        "| Matthew   |    14.5 |          1 | yes       |\n",
        "| Laura     |         |          1 | no        |\n",
        "\n",
        "E ```score```\n",
        "\n",
        "#### Resultado esperado:\n",
        "Um dicionário com os seguintes dados\n",
        "\n",
        "| name   | attempts | qualify   |\n",
        "|:-------|---------:|:----------|\n",
        "| James  |        3 | no        |\n",
        "| Laura  |        1 | no        |"
      ]
    },
    {
      "cell_type": "code",
      "source": [
        "prompt53=\"\"\"Escreva uma função python que recebe um dicionario e o converte num dataframe. Interprete valores \"\" do dicionario de entrada como NA. Seleciona as linhas cujos valores da coluna especificada no segundo argumento da função são NA. Deixe no resultado final apenas as colunas name,\tattempts, qualify. Retorna as linhas selecionadas no formato de um dicionário orientado por registros.\"\"\""
      ],
      "metadata": {
        "id": "Q3zf5kREI4Ro"
      },
      "execution_count": null,
      "outputs": []
    },
    {
      "cell_type": "code",
      "source": [
        "validate(prompt53, \"A5-E3\")"
      ],
      "metadata": {
        "id": "q7AZhcFSJcCL"
      },
      "execution_count": null,
      "outputs": []
    },
    {
      "cell_type": "markdown",
      "metadata": {
        "id": "LbBwg39A2ZsJ"
      },
      "source": [
        "### 5.4 Escreva uma função para mudar o conteúdo de uma coluna de um dataframe, especificando como parâmetros de entrada o nome da coluna, o valor original e o novo valor.\n",
        "#### Entrada:\n",
        "Um dicionário com os seguintes dados\n",
        "\n",
        "| name      |   score | qualify   |\n",
        "|:----------|--------:|:----------|\n",
        "| Jose |    12.5 | yes       |\n",
        "| Maria      |     9   | no        |\n",
        "| Joao |    16.5 | yes       |\n",
        "| Pedro     |   13   | no        |\n",
        "\n",
        "E ```name```, ```Pedro``` e ```Rafael```\n",
        "\n",
        "#### Resultado Esperado:\n",
        "Um dicionário com os seguintes dados\n",
        "\n",
        "| name      |   score | qualify   |\n",
        "|:----------|--------:|:----------|\n",
        "| Jose |    12.5 | yes       |\n",
        "| Maria      |     9   | no        |\n",
        "| Joao |    16.5 | yes       |\n",
        "| Rafael    |   13   | no        |\n",
        "\n"
      ]
    },
    {
      "cell_type": "code",
      "execution_count": null,
      "metadata": {
        "nbgrader": {
          "grade": false,
          "grade_id": "cell-553f5248eb14bc30",
          "locked": false,
          "schema_version": 3,
          "solution": true,
          "task": false
        },
        "id": "71oehRsR2ZsJ"
      },
      "outputs": [],
      "source": [
        "prompt54=\"\"\"Escreva uma função python que recebe um dicionario orientado por records e o converte num dataframe. Altera o conteúdo da celula especificada pela coluna referenciada no 2o argumento e pelo conteúdo do 3o argumento atribuindo o valor do 4o argumento. Retorne o resultado no formato de um dicionário orientado por registros.\"\"\""
      ]
    },
    {
      "cell_type": "code",
      "execution_count": null,
      "metadata": {
        "id": "8pQRahX_2ZsK"
      },
      "outputs": [],
      "source": [
        "validate(prompt54, \"A5-E4\")"
      ]
    },
    {
      "cell_type": "code",
      "execution_count": null,
      "metadata": {
        "nbgrader": {
          "grade": true,
          "grade_id": "cell-0e2b65cefe06bdc60",
          "locked": true,
          "points": 1,
          "schema_version": 3,
          "solution": false,
          "task": false
        },
        "id": "npxq-hhK2ZsL"
      },
      "outputs": [],
      "source": []
    },
    {
      "cell_type": "markdown",
      "metadata": {
        "id": "lqTUETV7pJ-e"
      },
      "source": [
        "### 5.5 Resolva o problema abaixo com uma função python que utilize umá serie do pandas\n",
        "\n",
        "#### Entrada:\n",
        "Um dicionário com os seguintes dados\n",
        "\n",
        "| name      |   score | qualify   |\n",
        "|:----------|--------:|:----------|\n",
        "| Jose |    12.5 | yes       |\n",
        "| Maria      |     9   | no        |\n",
        "| Joao |    16.5 | yes       |\n",
        "\n",
        "#### Resultado Esperado:\n",
        "Um dicionário com os seguintes dados\n",
        "\n",
        "| name      |   score | qualify   |\n",
        "|:----------|--------:|:----------|\n",
        "| Jose |    12.5 | 1      |\n",
        "| Maria      |     9   | 0     |\n",
        "| Joao |    16.5 | 1      |\n"
      ]
    },
    {
      "cell_type": "code",
      "source": [
        "prompt55=\"\"\"Escreva uma função python que recebe um dicionario orientado por records e o converte num dataframe. Faça um mapeamento de yes->1 e no->0 para a coluna qualify. Retorne o resultado no formato de um dicionário orientado por registros.\"\"\""
      ],
      "metadata": {
        "id": "givgbsXfpgwu"
      },
      "execution_count": null,
      "outputs": []
    },
    {
      "cell_type": "code",
      "source": [
        "validate(prompt55, \"A5-E5\")"
      ],
      "metadata": {
        "id": "fpVq_fWrq_Nw"
      },
      "execution_count": null,
      "outputs": []
    },
    {
      "cell_type": "code",
      "source": [],
      "metadata": {
        "id": "NdAlmTWSrlDf"
      },
      "execution_count": null,
      "outputs": []
    },
    {
      "cell_type": "markdown",
      "source": [
        "### 5.6 Resolva o problema abaixo com uma função python que utilize umá serie do pandas\n",
        "\n",
        "#### Entrada:\n",
        "```https://raw.githubusercontent.com/mwaskom/seaborn-data/master/diamonds.csv```, ```price``` e ```3```\n",
        "\n",
        "### Resultado esperado:\n",
        "\n",
        "Um dicionário com os seguintes dados\n",
        "\n",
        "|       |   carat | cut       | color   | clarity   |   depth |   table |   price |    x |    y |    z |\n",
        "|------:|--------:|:----------|:--------|:----------|--------:|--------:|--------:|-----:|-----:|-----:|\n",
        "| 27749 |    2.29 | Premium   | I       | VS2       |    60.8 |      60 |   18823 | 8.5  | 8.47 | 5.16 |\n",
        "| 27748 |    2    | Very Good | G       | SI1       |    63.5 |      56 |   18818 | 7.9  | 7.97 | 5.04 |\n",
        "| 27747 |    1.51 | Ideal     | G       | IF        |    61.7 |      55 |   18806 | 7.37 | 7.41 | 4.56 |"
      ],
      "metadata": {
        "id": "xRy736hZwLzq"
      }
    },
    {
      "cell_type": "code",
      "source": [
        "prompt56=\"\"\"Crie uma função que recebe como argumento a url de um csv. Faz o download do csv, converte-o para Dataframe, ordena por ordem decrescente pela coluna referenciada no 2o argumento, e retorna os top N resultados, onde N é o 3o argumento da função. Retorne o resultado no formato de um dicionário orientado por registros.\"\"\""
      ],
      "metadata": {
        "id": "ctspmTJmweGz"
      },
      "execution_count": null,
      "outputs": []
    },
    {
      "cell_type": "code",
      "source": [
        "validate(prompt56, \"A5-E6\")"
      ],
      "metadata": {
        "id": "l-Tt7xEKwfqz"
      },
      "execution_count": null,
      "outputs": []
    },
    {
      "cell_type": "markdown",
      "source": [
        "### 5.7 Ainda sobre o dataframe diamonds do exercicio anterior, crie um prompt de uma função para retornar os diamentes que têm as três dimensões maiores do que um dado valor.\n",
        "\n",
        "#### Entrada:\n",
        "```https://raw.githubusercontent.com/mwaskom/seaborn-data/master/diamonds.csv```, ```x```, ```y```, ```z``` e ```7```\n",
        "\n",
        "#### Resultado esperado:\n",
        "\n",
        "Um dicionário com os seguintes dados\n",
        "\n",
        "|   carat | cut     | color   | clarity   |   depth |   table |   price |    x |    y |    z |\n",
        "|--------:|:--------|:--------|:----------|--------:|--------:|--------:|-----:|-----:|-----:|\n",
        "|       2 | Premium | H       | SI2       |    58.9 |      57 |   12210 | 8.09 | 58.9 | 8.06 |\n"
      ],
      "metadata": {
        "id": "xMpQHOu20f3I"
      }
    },
    {
      "cell_type": "code",
      "source": [
        "prompt57=\"\"\"Crie uma função python para fazer download cuja URL do csv é passada no 1o argumento, depois filtrar os registros deste dataframe de tal forma que as tres colunas identificadas nos argumentos 2 a 4 tenham ao mesmo tempo valores maiores do que o valor especificado no argumento 5o. Retorne o resultado no formato de um dicionário orientado por registros.\"\"\""
      ],
      "metadata": {
        "id": "7qBHo8k1x2z8"
      },
      "execution_count": null,
      "outputs": []
    },
    {
      "cell_type": "code",
      "source": [
        "validate(prompt57, \"A5-E7\")"
      ],
      "metadata": {
        "id": "hAX9rH9j3c0F"
      },
      "execution_count": null,
      "outputs": []
    },
    {
      "cell_type": "markdown",
      "source": [
        "### 5.8 Faça um prompt de uma função que utilize uma função lambda (anônima) para resolver o problema abaixo\n",
        "\n",
        "#### Entrada:\n",
        "```\n",
        "[{'nome': ['Pedro'], 'classe': ['V'], 'disciplina': ['portugues', 'matematica', 'ciencia']},\n",
        "{'nome': ['Jose'], 'classe': ['V'], 'disciplina': ['portugues', 'matematica', 'ciencia']},\n",
        "{'nome': ['Maria'], 'classe': ['V'], 'disciplina': ['portugues', 'matematica', 'ciencia']}]\n",
        "```\n",
        "e\n",
        "```'nome'```\n",
        "\n",
        "#### Resultado esperado:\n",
        "```\n",
        "[{'nome': ['Jose'], 'classe': ['V'], 'disciplina': ['portugues', 'matematica', 'ciencia']},\n",
        "{'nome': ['Maria'], 'classe': ['V'], 'disciplina': ['portugues', 'matematica', 'ciencia']},\n",
        "{'nome': ['Pedro'], 'classe': ['V'], 'disciplina': ['portugues', 'matematica', 'ciencia']}]\n",
        "```\n"
      ],
      "metadata": {
        "id": "_MKCmg-z3baG"
      }
    },
    {
      "cell_type": "code",
      "source": [
        "prompt58 = \"\"\"Crie uma função python para ordernar uma lista de dicionários a partir de uma chave do dicionário especificada no 2o argumento da função. Retorne a lista ordenada.\"\"\""
      ],
      "metadata": {
        "id": "fijvzBFA5s7p"
      },
      "execution_count": null,
      "outputs": []
    },
    {
      "cell_type": "code",
      "source": [
        "validate(prompt58, \"A5-E8\")"
      ],
      "metadata": {
        "id": "NYe3pkMd6DCH"
      },
      "execution_count": null,
      "outputs": []
    },
    {
      "cell_type": "code",
      "source": [],
      "metadata": {
        "id": "elNVOOFj6Hyv"
      },
      "execution_count": null,
      "outputs": []
    },
    {
      "cell_type": "markdown",
      "source": [
        "### 5.9 Faça um prompt de uma função que utilize uma função lambda (anônima) para resolver o problema abaixo\n",
        "\n",
        "#### Entrada:\n",
        "Um dicionário com os seguintes dados\n",
        "\n",
        "|   d1 |   d2 |   d3 |\n",
        "|-----:|-----:|-----:|\n",
        "|   20 |   33 |   19 |\n",
        "|   36 |   25 |   47 |\n",
        "|   25 |   48 |    9 |\n",
        "|    4 |   39 |   27 |\n",
        "\n",
        "\n",
        "\n",
        "#### Resultado esperado: ```[25, 39, 27]```\n"
      ],
      "metadata": {
        "id": "F12tjel66o0a"
      }
    },
    {
      "cell_type": "code",
      "source": [
        "prompt59 = \"\"\"Crie uma função python receber um dicionario orientado por registros, transforma-lo num dataframe e selecionar o 2o maior valor de cada coluna e retornar numa lista do tipo int cuja ordenação é a mesma das colunas do dataframe.\"\"\""
      ],
      "metadata": {
        "id": "yd0A3cON6o0f"
      },
      "execution_count": null,
      "outputs": []
    },
    {
      "cell_type": "code",
      "source": [
        "validate(prompt59, \"A5-E9\")"
      ],
      "metadata": {
        "id": "L_EU-KQx6o0i"
      },
      "execution_count": null,
      "outputs": []
    },
    {
      "cell_type": "code",
      "source": [],
      "metadata": {
        "id": "7EYz6EDp8_hB"
      },
      "execution_count": null,
      "outputs": []
    },
    {
      "cell_type": "markdown",
      "source": [
        "### 5.10 Faça um prompt de uma função que utilize uma função lambda (anônima) para resolver o problema abaixo\n",
        "\n",
        "#### Entrada:\n",
        "Um dicionário com os seguintes dados\n",
        "\n",
        "\n",
        "![image.png](data:image/png;base64,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)\n",
        "\n",
        "\n",
        "#### Resultado esperado:\n",
        "\n",
        "Um dicionário com esses dados\n",
        "\n",
        "![image.png](data:image/png;base64,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)\n"
      ],
      "metadata": {
        "id": "VFg9Q3yuYW2T"
      }
    },
    {
      "cell_type": "code",
      "source": [
        "prompt510 = \"\"\"Crie uma função python receber um dicionario orientado por registros, transforma-lo num dataframe e selecionar o 2o maior valor de cada coluna e retornar numa lista do tipo int cuja ordenação é a mesma das colunas do dataframe.\"\"\""
      ],
      "metadata": {
        "id": "qHznUP0oYW2Y"
      },
      "execution_count": null,
      "outputs": []
    },
    {
      "cell_type": "code",
      "source": [
        "validate(prompt510, \"A5-E10\")"
      ],
      "metadata": {
        "id": "Km40vqYyYW2Z"
      },
      "execution_count": null,
      "outputs": []
    }
  ],
  "metadata": {
    "kernelspec": {
      "display_name": "Python 3",
      "language": "python",
      "name": "python3"
    },
    "language_info": {
      "codemirror_mode": {
        "name": "ipython",
        "version": 3
      },
      "file_extension": ".py",
      "mimetype": "text/x-python",
      "name": "python",
      "nbconvert_exporter": "python",
      "pygments_lexer": "ipython3",
      "version": "3.8.3"
    },
    "name": "_merged",
    "varInspector": {
      "cols": {
        "lenName": 16,
        "lenType": 16,
        "lenVar": 40
      },
      "kernels_config": {
        "python": {
          "delete_cmd_postfix": "",
          "delete_cmd_prefix": "del ",
          "library": "var_list.py",
          "varRefreshCmd": "print(var_dic_list())"
        },
        "r": {
          "delete_cmd_postfix": ") ",
          "delete_cmd_prefix": "rm(",
          "library": "var_list.r",
          "varRefreshCmd": "cat(var_dic_list()) "
        }
      },
      "types_to_exclude": [
        "module",
        "function",
        "builtin_function_or_method",
        "instance",
        "_Feature"
      ],
      "window_display": false
    },
    "colab": {
      "provenance": [],
      "include_colab_link": true
    }
  },
  "nbformat": 4,
  "nbformat_minor": 0
}