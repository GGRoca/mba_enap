{
  "cells": [
    {
      "cell_type": "markdown",
      "metadata": {
        "id": "view-in-github",
        "colab_type": "text"
      },
      "source": [
        "<a href=\"https://colab.research.google.com/github/alexlopespereira/mba_enap/blob/main/Teoria/Aula6_Teoria_Pandas_II.ipynb\" target=\"_parent\"><img src=\"https://colab.research.google.com/assets/colab-badge.svg\" alt=\"Open In Colab\"/></a>"
      ]
    },
    {
      "cell_type": "markdown",
      "metadata": {
        "id": "JmobqoVOk3kJ"
      },
      "source": [
        "## Aula 6 - Pandas e Fontes de dados"
      ]
    },
    {
      "cell_type": "code",
      "execution_count": null,
      "metadata": {
        "id": "_-ROTlHDk3kR"
      },
      "outputs": [],
      "source": [
        "import pandas as pd\n",
        "import numpy as np"
      ]
    },
    {
      "cell_type": "markdown",
      "metadata": {
        "id": "hOarZoebk3kT"
      },
      "source": [
        "### Função apply\n",
        "#### Aplica uma função às linhas ou às colunas de um DataFrame"
      ]
    },
    {
      "cell_type": "code",
      "execution_count": null,
      "metadata": {
        "id": "K49Cu-cNk3kU"
      },
      "outputs": [],
      "source": [
        "# Considere o dataframe abaixo\n",
        "frame = pd.DataFrame(np.random.randn(4, 3), columns=list('bde'),\n",
        "                        index=['Utah', 'Ohio', 'Texas', 'Oregon'])\n",
        "frame"
      ]
    },
    {
      "cell_type": "code",
      "execution_count": null,
      "metadata": {
        "id": "F-W6py9Pk3kV"
      },
      "outputs": [],
      "source": [
        "# Crie uma função lambda para calcular o valor máximo de uma Serie e multiplica-lo por 2,\n",
        "#   e aplique-a ao dataframe frame, fazendo o cálculo no eixo das linhas\n",
        "f = lambda x: x.max()*2\n",
        "frame.apply(f, axis='rows')"
      ]
    },
    {
      "cell_type": "code",
      "execution_count": null,
      "metadata": {
        "id": "FfUOVtCfk3kW"
      },
      "outputs": [],
      "source": [
        "# aplique afunção lambda ao dataframe frame, fazendo o cálculo no eixo das colunas\n",
        "frame.apply(f, axis='columns')"
      ]
    },
    {
      "cell_type": "markdown",
      "metadata": {
        "id": "axTqhg4kk3kW"
      },
      "source": [
        "### Função applymap\n",
        "#### Aplica uma função a cada element (element-wise)"
      ]
    },
    {
      "cell_type": "code",
      "execution_count": null,
      "metadata": {
        "id": "sJkFBXSJk3kW"
      },
      "outputs": [],
      "source": [
        "# Crie uma função lambda para formatar um número float com duas casas decimais,\n",
        "#    e aplique-a ao dataframe frame\n",
        "format = lambda x: '%.2f' % x\n",
        "frame.applymap(format)"
      ]
    },
    {
      "cell_type": "markdown",
      "metadata": {
        "id": "-TEhM5P4k3kW"
      },
      "source": [
        "### Sumarização e Estatística Descritiva"
      ]
    },
    {
      "cell_type": "code",
      "execution_count": null,
      "metadata": {
        "id": "0w3mlbEJk3kX"
      },
      "outputs": [],
      "source": [
        "# Considere o dataframe abaixo\n",
        "df = pd.DataFrame([[1.4, np.nan], [7.1, -4.5],\n",
        "                    [np.nan, np.nan], [0.75, -1.3]],\n",
        "                    index=['a', 'b', 'c', 'd'],\n",
        "                    columns=['one', 'two'])\n",
        "df"
      ]
    },
    {
      "cell_type": "code",
      "execution_count": null,
      "metadata": {
        "id": "-9QGCjx8k3kX"
      },
      "outputs": [],
      "source": [
        "# Calcule a soma ao longo do eixo das linhas\n",
        "df.sum()"
      ]
    },
    {
      "cell_type": "code",
      "execution_count": null,
      "metadata": {
        "id": "R3vPG9Vok3kY"
      },
      "outputs": [],
      "source": [
        "# Calcule a soma ao longo do eixo das colunas\n",
        "df.sum(axis='columns')"
      ]
    },
    {
      "cell_type": "markdown",
      "metadata": {
        "id": "_TZayZUBk3kY"
      },
      "source": [
        "### mean (média)\n",
        "#### Os valores de NA são excluídos, a menos que a fatia inteira linha ou coluna seja NA.\n",
        "#### Isso pode ser desativado com a opção skipna"
      ]
    },
    {
      "cell_type": "code",
      "execution_count": null,
      "metadata": {
        "id": "XDqf8iRlk3kZ"
      },
      "outputs": [],
      "source": [
        "# Calcule a média ao longo do eixo das linhas desconsiderando valores NA\n",
        "df.mean(axis='columns')"
      ]
    },
    {
      "cell_type": "code",
      "execution_count": null,
      "metadata": {
        "id": "_Klw2CwQk3kZ"
      },
      "outputs": [],
      "source": [
        "# Calcule a média ao longo do eixo das linhas\n",
        "#    retornando NA para colunas que tenham algum NA\n",
        "df.mean(axis='columns', skipna=False)"
      ]
    },
    {
      "cell_type": "markdown",
      "metadata": {
        "id": "GwfsGMpbk3kZ"
      },
      "source": [
        "### describe (resumo de várias estatísticas)"
      ]
    },
    {
      "cell_type": "code",
      "execution_count": null,
      "metadata": {
        "id": "pJZqzWu3k3ka"
      },
      "outputs": [],
      "source": [
        "# Aplique um método para calcular várias estatísticas do dataframe df\n",
        "df.describe()"
      ]
    },
    {
      "cell_type": "markdown",
      "metadata": {
        "id": "IjHUXSdCk3ka"
      },
      "source": [
        "### Manipulação de Fontes de Dados"
      ]
    },
    {
      "cell_type": "code",
      "execution_count": null,
      "metadata": {
        "id": "47BxRgymk3ka"
      },
      "outputs": [],
      "source": [
        "import pandas as pd\n",
        "import numpy as np"
      ]
    },
    {
      "cell_type": "markdown",
      "metadata": {
        "id": "gKJ1iFRsk3kb"
      },
      "source": [
        "#### Carregar dados de um Arquivo XLS"
      ]
    },
    {
      "cell_type": "code",
      "execution_count": null,
      "metadata": {
        "scrolled": false,
        "id": "9jWqD75Wk3kb"
      },
      "outputs": [],
      "source": [
        "### Ler o arquivo com o pib dos municípios brasileiros e guarde numa variável df_pib\n",
        "### Você pode ler de um arquivo local ou fazer o download de uma URL\n",
        "df_pib = pd.read_excel('https://github.com/alexlopespereira/enapespcd2021/raw/main/data/originais/pib/pib_municipios.xlsx', sheet_name='Tabela', skiprows=3)\n",
        "# sheet_name é o argumento para o aba da planilha desejada.\n",
        "# Se você quiser a 1a aba, não precisa especificar.\n"
      ]
    },
    {
      "cell_type": "code",
      "execution_count": null,
      "metadata": {
        "scrolled": true,
        "id": "FpnJBZGNk3kb"
      },
      "outputs": [],
      "source": [
        "# Mostra os primeiros 4 registros da variavel df_pib\n",
        "df_pib.head(4)\n",
        "### As 3 primeiras e a ultima linha são inuteis"
      ]
    },
    {
      "cell_type": "code",
      "execution_count": null,
      "metadata": {
        "scrolled": false,
        "id": "fmET6fXbk3kc"
      },
      "outputs": [],
      "source": [
        "# Mostra os ultimos 4 registros da variavel df_pib\n",
        "df_pib.tail(4)"
      ]
    },
    {
      "cell_type": "code",
      "execution_count": null,
      "metadata": {
        "id": "O1k2Tca0k3ke"
      },
      "outputs": [],
      "source": [
        "# Ler o arquivo do pib removendo as 3 primeiras linhas e a última\n",
        "df_pib = pd.read_excel('https://github.com/alexlopespereira/enapespcd2021/raw/main/data/originais/pib/pib_municipios.xlsx', skiprows=3, skipfooter=1)\n",
        "# Mostra os primeiros registros\n",
        "df_pib.head()\n",
        "# O nome das 3 primeiras colunas está incoerente"
      ]
    },
    {
      "cell_type": "code",
      "execution_count": null,
      "metadata": {
        "scrolled": true,
        "id": "JQzaTncEk3ke"
      },
      "outputs": [],
      "source": [
        "# Renomear estas colunas\n",
        "df_pib.rename(columns={'Unnamed: 0': 'nivel', 'Unnamed: 1': 'cod_ibge7',\n",
        "                      'Unnamed: 2': 'municipio'}, inplace=True)\n",
        "# Mostra os primeiros registros\n",
        "df_pib.head()"
      ]
    },
    {
      "cell_type": "markdown",
      "metadata": {
        "id": "vbzdaBerk3kf"
      },
      "source": [
        "#### Carregar dados de um Arquivo CSV"
      ]
    },
    {
      "cell_type": "code",
      "execution_count": null,
      "metadata": {
        "id": "X88k3-rck3kf"
      },
      "outputs": [],
      "source": [
        "# Salvar este dataframe em formato CSV\n",
        "# O separador padrão é vírgula. Use o ; para testar a especificação de um separador\n",
        "# Recomendação para nomes de arquivos: use nomes simples, sem espaço e sem caracteres especiais.\n",
        "df_pib.to_csv('./pib_municipios.csv', sep=\";\", index=False)\n",
        "# Para mostrar as primeiras linhas do arquivo no Linux: !head ./pib_municipios.csv"
      ]
    },
    {
      "cell_type": "code",
      "execution_count": null,
      "metadata": {
        "id": "4X_ew185k3kg"
      },
      "outputs": [],
      "source": [
        "# Carregue o arquivo pib_municipios.csv. Atente para o separador correto.\n",
        "df_pib_csv = pd.read_csv('./pib_municipios.csv', sep=\";\")\n",
        "# Mostra os primeiros registros\n",
        "df_pib_csv.head()"
      ]
    },
    {
      "cell_type": "markdown",
      "metadata": {
        "id": "ScX3FlbQk3kg"
      },
      "source": [
        "### Outras Operacoes no Pandas"
      ]
    },
    {
      "cell_type": "markdown",
      "metadata": {
        "id": "1n-0A8DRk3kg"
      },
      "source": [
        "#### Descartando valores faltantes (NA ou NaN)"
      ]
    },
    {
      "cell_type": "code",
      "execution_count": null,
      "metadata": {
        "id": "UsHhvYg9k3kg"
      },
      "outputs": [],
      "source": [
        "from numpy import nan as NA\n",
        "# Considere a serie a seguir\n",
        "data = pd.Series([1, NA, 3.5, NA, 7])\n",
        "# Remova os valores NA\n",
        "data.dropna()"
      ]
    },
    {
      "cell_type": "code",
      "execution_count": null,
      "metadata": {
        "id": "Wavf-ZQwk3kh"
      },
      "outputs": [],
      "source": [
        "# Comando equivalente ao dropna, mas usando o método notnull()\n",
        "data[data.notnull()]"
      ]
    },
    {
      "cell_type": "markdown",
      "metadata": {
        "id": "QcFUy00ek3ki"
      },
      "source": [
        "#### Preenchendo valores faltantes"
      ]
    },
    {
      "cell_type": "code",
      "execution_count": null,
      "metadata": {
        "scrolled": true,
        "id": "vwzAsIYZk3ki"
      },
      "outputs": [],
      "source": [
        "# Considere o seguinte DataFrame\n",
        "# Construir um dataframe a partir de uma matriz de 7 x 3 de números aleatórios\n",
        "# de uma distribuição normal padrão\n",
        "df = pd.DataFrame(np.random.randn(7, 3))\n",
        "# Preenchendo o DataFrame com alguns valores NA\n",
        "df.iloc[:4, 1] = NA\n",
        "df.iloc[:2, 2] = NA\n",
        "df"
      ]
    },
    {
      "cell_type": "code",
      "execution_count": null,
      "metadata": {
        "id": "6UE3lTfwk3ki"
      },
      "outputs": [],
      "source": [
        "# Preencha os valores NA com zero\n",
        "df.fillna(0, inplace=True)\n",
        "df"
      ]
    },
    {
      "cell_type": "code",
      "execution_count": null,
      "metadata": {
        "id": "FENuTR1Ek3ki"
      },
      "outputs": [],
      "source": [
        "# Use um mapeamento (com dicionário) para preencher os valores NA\n",
        "# Na coluna 1 substitua NA por 0.5 e na coluna 2 substitua NA por 0\n",
        "df.fillna({1: 0.5, 2: 0})"
      ]
    },
    {
      "cell_type": "code",
      "execution_count": null,
      "metadata": {
        "id": "k01KJ4xjk3kj"
      },
      "outputs": [],
      "source": [
        "# Preencha com zero alterando o DataFrame df\n",
        "df.fillna(0, inplace=True)\n",
        "df"
      ]
    },
    {
      "cell_type": "code",
      "execution_count": null,
      "metadata": {
        "scrolled": true,
        "id": "qGsatNTKk3kj"
      },
      "outputs": [],
      "source": [
        "# Considere o seguinte dataframe\n",
        "df = pd.DataFrame(np.random.randn(7, 3))\n",
        "# Preencha o DataFrame com alguns valores NA\n",
        "df.iloc[1:4, 1] = NA\n",
        "df.iloc[1:3, 2] = NA\n",
        "df.iloc[5, 1] = NA\n",
        "df"
      ]
    },
    {
      "cell_type": "code",
      "execution_count": null,
      "metadata": {
        "id": "cYjdsBzok3kj"
      },
      "outputs": [],
      "source": [
        "df.isnull()"
      ]
    },
    {
      "cell_type": "code",
      "execution_count": null,
      "metadata": {
        "id": "-6TmOjG0k3kj"
      },
      "outputs": [],
      "source": [
        "df.isnull().iloc[:, 1].sum()"
      ]
    },
    {
      "cell_type": "code",
      "execution_count": null,
      "metadata": {
        "id": "glnszZMTk3kk"
      },
      "outputs": [],
      "source": [
        "# Preencha os valores NA com o método ffill\n",
        "df.fillna(method='ffill', inplace=True)"
      ]
    },
    {
      "cell_type": "code",
      "execution_count": null,
      "metadata": {
        "scrolled": true,
        "id": "y_4oso18k3kk"
      },
      "outputs": [],
      "source": [
        "df.isnull().iloc[:, 1].sum()"
      ]
    },
    {
      "cell_type": "code",
      "execution_count": null,
      "metadata": {
        "id": "h87j0WLck3kk"
      },
      "outputs": [],
      "source": [
        "df.to_markdown()"
      ]
    },
    {
      "cell_type": "markdown",
      "metadata": {
        "id": "NITgC7I-k3kl"
      },
      "source": [
        "### Remover duplicatas"
      ]
    },
    {
      "cell_type": "code",
      "execution_count": null,
      "metadata": {
        "id": "KjOLQ43Ik3kl"
      },
      "outputs": [],
      "source": [
        "# Considere o seguinte dataframe\n",
        "data = pd.DataFrame({'k1': ['one', 'two'] * 3 + ['two'], 'k2': [1, 1, 2, 3, 3, 4, 4]})\n",
        "data"
      ]
    },
    {
      "cell_type": "code",
      "execution_count": null,
      "metadata": {
        "id": "7ZmhsizWk3kl"
      },
      "outputs": [],
      "source": [
        "# Mostre quais desses itens são duplicados\n",
        "data.duplicated()"
      ]
    },
    {
      "cell_type": "code",
      "execution_count": null,
      "metadata": {
        "id": "BtHAzy1bk3kl"
      },
      "outputs": [],
      "source": [
        "# Remova os itens duplicados\n",
        "data.drop_duplicates()"
      ]
    },
    {
      "cell_type": "markdown",
      "metadata": {
        "id": "gkEvMOmNk3km"
      },
      "source": [
        "### Indexação Hierárquica"
      ]
    },
    {
      "cell_type": "markdown",
      "metadata": {
        "id": "2oAVjX-Bk3km"
      },
      "source": [
        "#### Possibilita mais de um nível de indexação num eixo"
      ]
    },
    {
      "cell_type": "code",
      "execution_count": null,
      "metadata": {
        "id": "H85EXh1-k3km"
      },
      "outputs": [],
      "source": [
        "# Considere a seguinte Serie\n",
        "data = pd.Series(np.random.randn(9), index=[['a', 'a', 'a', 'b', 'b', 'c', 'c', 'd', 'd'],\n",
        "                                            [1, 2, 3, 1, 3, 1, 2, 2, 3]])\n",
        "# Mostre o indice hierárquico\n",
        "data.index"
      ]
    },
    {
      "cell_type": "code",
      "execution_count": null,
      "metadata": {
        "id": "mgSecV5Ak3kn"
      },
      "outputs": [],
      "source": [
        "# Faça um filtro com uma lista\n",
        "data.loc[['b', 'd']]"
      ]
    },
    {
      "cell_type": "code",
      "execution_count": null,
      "metadata": {
        "id": "ETSS8ooIk3kn"
      },
      "outputs": [],
      "source": [
        "# Faça um filtro no 2o Nível (mais interno)\n",
        "data.loc[:, 2]"
      ]
    },
    {
      "cell_type": "code",
      "execution_count": null,
      "metadata": {
        "id": "FLNEBQnxk3kn"
      },
      "outputs": [],
      "source": [
        "# Considere o seguinte dataframe\n",
        "frame = pd.DataFrame(np.arange(12).reshape((4, 3)),\n",
        "                     index=[['a', 'a', 'b', 'b'], [1, 2, 1, 2]],\n",
        "                     columns=[['Ohio', 'Ohio', 'Colorado'],['Green', 'Red', 'Green']])\n",
        "frame.index.names = ['key1', 'key2']\n",
        "frame.columns.names = ['state', 'color']\n",
        "frame"
      ]
    },
    {
      "cell_type": "code",
      "execution_count": null,
      "metadata": {
        "id": "hyNyKdA2k3kn"
      },
      "outputs": [],
      "source": [
        "# Resumo estatístico por nível\n",
        "# Extraia a soma da agregação do nível 2 (mais interno)\n",
        "frame.sum(level='key2')"
      ]
    }
  ],
  "metadata": {
    "kernelspec": {
      "display_name": "Python 3",
      "language": "python",
      "name": "python3"
    },
    "language_info": {
      "codemirror_mode": {
        "name": "ipython",
        "version": 3
      },
      "file_extension": ".py",
      "mimetype": "text/x-python",
      "name": "python",
      "nbconvert_exporter": "python",
      "pygments_lexer": "ipython3",
      "version": "3.8.3"
    },
    "varInspector": {
      "cols": {
        "lenName": 16,
        "lenType": 16,
        "lenVar": 40
      },
      "kernels_config": {
        "python": {
          "delete_cmd_postfix": "",
          "delete_cmd_prefix": "del ",
          "library": "var_list.py",
          "varRefreshCmd": "print(var_dic_list())"
        },
        "r": {
          "delete_cmd_postfix": ") ",
          "delete_cmd_prefix": "rm(",
          "library": "var_list.r",
          "varRefreshCmd": "cat(var_dic_list()) "
        }
      },
      "types_to_exclude": [
        "module",
        "function",
        "builtin_function_or_method",
        "instance",
        "_Feature"
      ],
      "window_display": false
    },
    "colab": {
      "provenance": [],
      "include_colab_link": true
    }
  },
  "nbformat": 4,
  "nbformat_minor": 0
}